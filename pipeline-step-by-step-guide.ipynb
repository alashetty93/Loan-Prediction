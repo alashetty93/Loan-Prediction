{
 "cells": [
  {
   "cell_type": "code",
   "execution_count": 1,
   "id": "835bc4a8",
   "metadata": {
    "execution": {
     "iopub.execute_input": "2022-09-30T05:48:04.425180Z",
     "iopub.status.busy": "2022-09-30T05:48:04.424100Z",
     "iopub.status.idle": "2022-09-30T05:48:04.442619Z",
     "shell.execute_reply": "2022-09-30T05:48:04.441607Z"
    },
    "papermill": {
     "duration": 0.037485,
     "end_time": "2022-09-30T05:48:04.445158",
     "exception": false,
     "start_time": "2022-09-30T05:48:04.407673",
     "status": "completed"
    },
    "tags": []
   },
   "outputs": [
    {
     "name": "stdout",
     "output_type": "stream",
     "text": [
      "/kaggle/input/loan-predication/train_u6lujuX_CVtuZ9i (1).csv\n"
     ]
    }
   ],
   "source": [
    "# This Python 3 environment comes with many helpful analytics libraries installed\n",
    "# It is defined by the kaggle/python Docker image: https://github.com/kaggle/docker-python\n",
    "# For example, here's several helpful packages to load\n",
    "\n",
    "import numpy as np # linear algebra\n",
    "import pandas as pd # data processing, CSV file I/O (e.g. pd.read_csv)\n",
    "\n",
    "# Input data files are available in the read-only \"../input/\" directory\n",
    "# For example, running this (by clicking run or pressing Shift+Enter) will list all files under the input directory\n",
    "\n",
    "import os\n",
    "for dirname, _, filenames in os.walk('/kaggle/input'):\n",
    "    for filename in filenames:\n",
    "        print(os.path.join(dirname, filename))\n",
    "\n",
    "# You can write up to 20GB to the current directory (/kaggle/working/) that gets preserved as output when you create a version using \"Save & Run All\" \n",
    "# You can also write temporary files to /kaggle/temp/, but they won't be saved outside of the current session"
   ]
  },
  {
   "cell_type": "markdown",
   "id": "d95bcebd",
   "metadata": {
    "papermill": {
     "duration": 0.012752,
     "end_time": "2022-09-30T05:48:04.473401",
     "exception": false,
     "start_time": "2022-09-30T05:48:04.460649",
     "status": "completed"
    },
    "tags": []
   },
   "source": [
    "<div style=\"color:white;background-color:Orange;padding:3%;border-radius:150px 150px;font-size:2.5em;text-align:center\">Beginners Guide to Pipeline in Machine Learning</div>"
   ]
  },
  {
   "cell_type": "markdown",
   "id": "aed4cf28",
   "metadata": {
    "papermill": {
     "duration": 0.012649,
     "end_time": "2022-09-30T05:48:04.498926",
     "exception": false,
     "start_time": "2022-09-30T05:48:04.486277",
     "status": "completed"
    },
    "tags": []
   },
   "source": [
    "![](https://www.vistrails.org/usersguide/dev/html/_images/pipeline_gridsearch.png)"
   ]
  },
  {
   "cell_type": "code",
   "execution_count": 2,
   "id": "dd518860",
   "metadata": {
    "execution": {
     "iopub.execute_input": "2022-09-30T05:48:04.526649Z",
     "iopub.status.busy": "2022-09-30T05:48:04.526321Z",
     "iopub.status.idle": "2022-09-30T05:48:05.750883Z",
     "shell.execute_reply": "2022-09-30T05:48:05.749785Z"
    },
    "papermill": {
     "duration": 1.241538,
     "end_time": "2022-09-30T05:48:05.753816",
     "exception": false,
     "start_time": "2022-09-30T05:48:04.512278",
     "status": "completed"
    },
    "tags": []
   },
   "outputs": [],
   "source": [
    "import numpy as np\n",
    "import pandas as pd\n",
    "import seaborn as sns\n",
    "import matplotlib.pyplot as plt\n",
    "%matplotlib inline\n",
    "\n",
    "from sklearn.model_selection import train_test_split\n",
    "from sklearn.model_selection import GridSearchCV, StratifiedKFold, StratifiedShuffleSplit\n",
    "from sklearn.metrics import accuracy_score,classification_report,confusion_matrix,plot_confusion_matrix\n",
    "from sklearn.compose import ColumnTransformer\n",
    "from sklearn.impute import SimpleImputer\n",
    "from sklearn.preprocessing import OneHotEncoder\n",
    "from sklearn.preprocessing import MinMaxScaler,RobustScaler,StandardScaler,MaxAbsScaler\n",
    "from sklearn.pipeline import Pipeline,make_pipeline\n",
    "from sklearn.feature_selection import SelectKBest,chi2\n",
    "from sklearn.tree import DecisionTreeClassifier\n",
    "from sklearn.linear_model import LogisticRegression\n",
    "from sklearn.neighbors import KNeighborsClassifier\n",
    "from sklearn.ensemble import AdaBoostClassifier\n",
    "from sklearn.ensemble import GradientBoostingClassifier\n",
    "from sklearn.ensemble import BaggingClassifier\n",
    "    \n",
    "\n",
    "import warnings\n",
    "warnings.filterwarnings(\"ignore\")"
   ]
  },
  {
   "cell_type": "code",
   "execution_count": 3,
   "id": "26bba00a",
   "metadata": {
    "execution": {
     "iopub.execute_input": "2022-09-30T05:48:05.800737Z",
     "iopub.status.busy": "2022-09-30T05:48:05.800183Z",
     "iopub.status.idle": "2022-09-30T05:48:05.867343Z",
     "shell.execute_reply": "2022-09-30T05:48:05.866078Z"
    },
    "papermill": {
     "duration": 0.104125,
     "end_time": "2022-09-30T05:48:05.874247",
     "exception": false,
     "start_time": "2022-09-30T05:48:05.770122",
     "status": "completed"
    },
    "tags": []
   },
   "outputs": [
    {
     "data": {
      "text/html": [
       "<div>\n",
       "<style scoped>\n",
       "    .dataframe tbody tr th:only-of-type {\n",
       "        vertical-align: middle;\n",
       "    }\n",
       "\n",
       "    .dataframe tbody tr th {\n",
       "        vertical-align: top;\n",
       "    }\n",
       "\n",
       "    .dataframe thead th {\n",
       "        text-align: right;\n",
       "    }\n",
       "</style>\n",
       "<table border=\"1\" class=\"dataframe\">\n",
       "  <thead>\n",
       "    <tr style=\"text-align: right;\">\n",
       "      <th></th>\n",
       "      <th>Gender</th>\n",
       "      <th>Married</th>\n",
       "      <th>Dependents</th>\n",
       "      <th>Education</th>\n",
       "      <th>Self_Employed</th>\n",
       "      <th>ApplicantIncome</th>\n",
       "      <th>CoapplicantIncome</th>\n",
       "      <th>LoanAmount</th>\n",
       "      <th>Loan_Amount_Term</th>\n",
       "      <th>Credit_History</th>\n",
       "      <th>Property_Area</th>\n",
       "      <th>Loan_Status</th>\n",
       "    </tr>\n",
       "  </thead>\n",
       "  <tbody>\n",
       "    <tr>\n",
       "      <th>0</th>\n",
       "      <td>Male</td>\n",
       "      <td>No</td>\n",
       "      <td>0</td>\n",
       "      <td>Graduate</td>\n",
       "      <td>No</td>\n",
       "      <td>5849</td>\n",
       "      <td>0.0</td>\n",
       "      <td>NaN</td>\n",
       "      <td>360.0</td>\n",
       "      <td>1.0</td>\n",
       "      <td>Urban</td>\n",
       "      <td>Y</td>\n",
       "    </tr>\n",
       "    <tr>\n",
       "      <th>1</th>\n",
       "      <td>Male</td>\n",
       "      <td>Yes</td>\n",
       "      <td>1</td>\n",
       "      <td>Graduate</td>\n",
       "      <td>No</td>\n",
       "      <td>4583</td>\n",
       "      <td>1508.0</td>\n",
       "      <td>128.0</td>\n",
       "      <td>360.0</td>\n",
       "      <td>1.0</td>\n",
       "      <td>Rural</td>\n",
       "      <td>N</td>\n",
       "    </tr>\n",
       "    <tr>\n",
       "      <th>2</th>\n",
       "      <td>Male</td>\n",
       "      <td>Yes</td>\n",
       "      <td>0</td>\n",
       "      <td>Graduate</td>\n",
       "      <td>Yes</td>\n",
       "      <td>3000</td>\n",
       "      <td>0.0</td>\n",
       "      <td>66.0</td>\n",
       "      <td>360.0</td>\n",
       "      <td>1.0</td>\n",
       "      <td>Urban</td>\n",
       "      <td>Y</td>\n",
       "    </tr>\n",
       "    <tr>\n",
       "      <th>3</th>\n",
       "      <td>Male</td>\n",
       "      <td>Yes</td>\n",
       "      <td>0</td>\n",
       "      <td>Not Graduate</td>\n",
       "      <td>No</td>\n",
       "      <td>2583</td>\n",
       "      <td>2358.0</td>\n",
       "      <td>120.0</td>\n",
       "      <td>360.0</td>\n",
       "      <td>1.0</td>\n",
       "      <td>Urban</td>\n",
       "      <td>Y</td>\n",
       "    </tr>\n",
       "    <tr>\n",
       "      <th>4</th>\n",
       "      <td>Male</td>\n",
       "      <td>No</td>\n",
       "      <td>0</td>\n",
       "      <td>Graduate</td>\n",
       "      <td>No</td>\n",
       "      <td>6000</td>\n",
       "      <td>0.0</td>\n",
       "      <td>141.0</td>\n",
       "      <td>360.0</td>\n",
       "      <td>1.0</td>\n",
       "      <td>Urban</td>\n",
       "      <td>Y</td>\n",
       "    </tr>\n",
       "  </tbody>\n",
       "</table>\n",
       "</div>"
      ],
      "text/plain": [
       "  Gender Married Dependents     Education Self_Employed  ApplicantIncome  \\\n",
       "0   Male      No          0      Graduate            No             5849   \n",
       "1   Male     Yes          1      Graduate            No             4583   \n",
       "2   Male     Yes          0      Graduate           Yes             3000   \n",
       "3   Male     Yes          0  Not Graduate            No             2583   \n",
       "4   Male      No          0      Graduate            No             6000   \n",
       "\n",
       "   CoapplicantIncome  LoanAmount  Loan_Amount_Term  Credit_History  \\\n",
       "0                0.0         NaN             360.0             1.0   \n",
       "1             1508.0       128.0             360.0             1.0   \n",
       "2                0.0        66.0             360.0             1.0   \n",
       "3             2358.0       120.0             360.0             1.0   \n",
       "4                0.0       141.0             360.0             1.0   \n",
       "\n",
       "  Property_Area Loan_Status  \n",
       "0         Urban           Y  \n",
       "1         Rural           N  \n",
       "2         Urban           Y  \n",
       "3         Urban           Y  \n",
       "4         Urban           Y  "
      ]
     },
     "execution_count": 3,
     "metadata": {},
     "output_type": "execute_result"
    }
   ],
   "source": [
    "loan = pd.read_csv(\"../input/loan-predication/train_u6lujuX_CVtuZ9i (1).csv\")\n",
    "loan = loan.drop('Loan_ID',axis=1)\n",
    "loan.head()"
   ]
  },
  {
   "cell_type": "code",
   "execution_count": 4,
   "id": "48bc8bce",
   "metadata": {
    "execution": {
     "iopub.execute_input": "2022-09-30T05:48:05.928155Z",
     "iopub.status.busy": "2022-09-30T05:48:05.927547Z",
     "iopub.status.idle": "2022-09-30T05:48:05.977246Z",
     "shell.execute_reply": "2022-09-30T05:48:05.976152Z"
    },
    "papermill": {
     "duration": 0.077676,
     "end_time": "2022-09-30T05:48:05.980301",
     "exception": false,
     "start_time": "2022-09-30T05:48:05.902625",
     "status": "completed"
    },
    "tags": []
   },
   "outputs": [
    {
     "data": {
      "text/html": [
       "<div>\n",
       "<style scoped>\n",
       "    .dataframe tbody tr th:only-of-type {\n",
       "        vertical-align: middle;\n",
       "    }\n",
       "\n",
       "    .dataframe tbody tr th {\n",
       "        vertical-align: top;\n",
       "    }\n",
       "\n",
       "    .dataframe thead th {\n",
       "        text-align: right;\n",
       "    }\n",
       "</style>\n",
       "<table border=\"1\" class=\"dataframe\">\n",
       "  <thead>\n",
       "    <tr style=\"text-align: right;\">\n",
       "      <th></th>\n",
       "      <th>ApplicantIncome</th>\n",
       "      <th>CoapplicantIncome</th>\n",
       "      <th>LoanAmount</th>\n",
       "      <th>Loan_Amount_Term</th>\n",
       "      <th>Credit_History</th>\n",
       "    </tr>\n",
       "  </thead>\n",
       "  <tbody>\n",
       "    <tr>\n",
       "      <th>count</th>\n",
       "      <td>614.000000</td>\n",
       "      <td>614.000000</td>\n",
       "      <td>592.000000</td>\n",
       "      <td>600.00000</td>\n",
       "      <td>564.000000</td>\n",
       "    </tr>\n",
       "    <tr>\n",
       "      <th>mean</th>\n",
       "      <td>5403.459283</td>\n",
       "      <td>1621.245798</td>\n",
       "      <td>146.412162</td>\n",
       "      <td>342.00000</td>\n",
       "      <td>0.842199</td>\n",
       "    </tr>\n",
       "    <tr>\n",
       "      <th>std</th>\n",
       "      <td>6109.041673</td>\n",
       "      <td>2926.248369</td>\n",
       "      <td>85.587325</td>\n",
       "      <td>65.12041</td>\n",
       "      <td>0.364878</td>\n",
       "    </tr>\n",
       "    <tr>\n",
       "      <th>min</th>\n",
       "      <td>150.000000</td>\n",
       "      <td>0.000000</td>\n",
       "      <td>9.000000</td>\n",
       "      <td>12.00000</td>\n",
       "      <td>0.000000</td>\n",
       "    </tr>\n",
       "    <tr>\n",
       "      <th>25%</th>\n",
       "      <td>2877.500000</td>\n",
       "      <td>0.000000</td>\n",
       "      <td>100.000000</td>\n",
       "      <td>360.00000</td>\n",
       "      <td>1.000000</td>\n",
       "    </tr>\n",
       "    <tr>\n",
       "      <th>50%</th>\n",
       "      <td>3812.500000</td>\n",
       "      <td>1188.500000</td>\n",
       "      <td>128.000000</td>\n",
       "      <td>360.00000</td>\n",
       "      <td>1.000000</td>\n",
       "    </tr>\n",
       "    <tr>\n",
       "      <th>75%</th>\n",
       "      <td>5795.000000</td>\n",
       "      <td>2297.250000</td>\n",
       "      <td>168.000000</td>\n",
       "      <td>360.00000</td>\n",
       "      <td>1.000000</td>\n",
       "    </tr>\n",
       "    <tr>\n",
       "      <th>max</th>\n",
       "      <td>81000.000000</td>\n",
       "      <td>41667.000000</td>\n",
       "      <td>700.000000</td>\n",
       "      <td>480.00000</td>\n",
       "      <td>1.000000</td>\n",
       "    </tr>\n",
       "  </tbody>\n",
       "</table>\n",
       "</div>"
      ],
      "text/plain": [
       "       ApplicantIncome  CoapplicantIncome  LoanAmount  Loan_Amount_Term  \\\n",
       "count       614.000000         614.000000  592.000000         600.00000   \n",
       "mean       5403.459283        1621.245798  146.412162         342.00000   \n",
       "std        6109.041673        2926.248369   85.587325          65.12041   \n",
       "min         150.000000           0.000000    9.000000          12.00000   \n",
       "25%        2877.500000           0.000000  100.000000         360.00000   \n",
       "50%        3812.500000        1188.500000  128.000000         360.00000   \n",
       "75%        5795.000000        2297.250000  168.000000         360.00000   \n",
       "max       81000.000000       41667.000000  700.000000         480.00000   \n",
       "\n",
       "       Credit_History  \n",
       "count      564.000000  \n",
       "mean         0.842199  \n",
       "std          0.364878  \n",
       "min          0.000000  \n",
       "25%          1.000000  \n",
       "50%          1.000000  \n",
       "75%          1.000000  \n",
       "max          1.000000  "
      ]
     },
     "execution_count": 4,
     "metadata": {},
     "output_type": "execute_result"
    }
   ],
   "source": [
    "loan.describe()"
   ]
  },
  {
   "cell_type": "code",
   "execution_count": 5,
   "id": "ef27da28",
   "metadata": {
    "execution": {
     "iopub.execute_input": "2022-09-30T05:48:06.030777Z",
     "iopub.status.busy": "2022-09-30T05:48:06.030398Z",
     "iopub.status.idle": "2022-09-30T05:48:06.054043Z",
     "shell.execute_reply": "2022-09-30T05:48:06.052382Z"
    },
    "papermill": {
     "duration": 0.052286,
     "end_time": "2022-09-30T05:48:06.058071",
     "exception": false,
     "start_time": "2022-09-30T05:48:06.005785",
     "status": "completed"
    },
    "tags": []
   },
   "outputs": [
    {
     "name": "stdout",
     "output_type": "stream",
     "text": [
      "<class 'pandas.core.frame.DataFrame'>\n",
      "RangeIndex: 614 entries, 0 to 613\n",
      "Data columns (total 12 columns):\n",
      " #   Column             Non-Null Count  Dtype  \n",
      "---  ------             --------------  -----  \n",
      " 0   Gender             601 non-null    object \n",
      " 1   Married            611 non-null    object \n",
      " 2   Dependents         599 non-null    object \n",
      " 3   Education          614 non-null    object \n",
      " 4   Self_Employed      582 non-null    object \n",
      " 5   ApplicantIncome    614 non-null    int64  \n",
      " 6   CoapplicantIncome  614 non-null    float64\n",
      " 7   LoanAmount         592 non-null    float64\n",
      " 8   Loan_Amount_Term   600 non-null    float64\n",
      " 9   Credit_History     564 non-null    float64\n",
      " 10  Property_Area      614 non-null    object \n",
      " 11  Loan_Status        614 non-null    object \n",
      "dtypes: float64(4), int64(1), object(7)\n",
      "memory usage: 57.7+ KB\n"
     ]
    }
   ],
   "source": [
    "loan.info()"
   ]
  },
  {
   "cell_type": "code",
   "execution_count": 6,
   "id": "75e76d20",
   "metadata": {
    "execution": {
     "iopub.execute_input": "2022-09-30T05:48:06.106414Z",
     "iopub.status.busy": "2022-09-30T05:48:06.105990Z",
     "iopub.status.idle": "2022-09-30T05:48:06.120055Z",
     "shell.execute_reply": "2022-09-30T05:48:06.119105Z"
    },
    "papermill": {
     "duration": 0.040599,
     "end_time": "2022-09-30T05:48:06.123045",
     "exception": false,
     "start_time": "2022-09-30T05:48:06.082446",
     "status": "completed"
    },
    "tags": []
   },
   "outputs": [
    {
     "data": {
      "text/plain": [
       "Gender               13\n",
       "Married               3\n",
       "Dependents           15\n",
       "Education             0\n",
       "Self_Employed        32\n",
       "ApplicantIncome       0\n",
       "CoapplicantIncome     0\n",
       "LoanAmount           22\n",
       "Loan_Amount_Term     14\n",
       "Credit_History       50\n",
       "Property_Area         0\n",
       "Loan_Status           0\n",
       "dtype: int64"
      ]
     },
     "execution_count": 6,
     "metadata": {},
     "output_type": "execute_result"
    }
   ],
   "source": [
    "loan.isnull().sum()"
   ]
  },
  {
   "cell_type": "code",
   "execution_count": 7,
   "id": "a81afa5e",
   "metadata": {
    "execution": {
     "iopub.execute_input": "2022-09-30T05:48:06.170643Z",
     "iopub.status.busy": "2022-09-30T05:48:06.170235Z",
     "iopub.status.idle": "2022-09-30T05:48:06.654781Z",
     "shell.execute_reply": "2022-09-30T05:48:06.653968Z"
    },
    "papermill": {
     "duration": 0.510522,
     "end_time": "2022-09-30T05:48:06.657028",
     "exception": false,
     "start_time": "2022-09-30T05:48:06.146506",
     "status": "completed"
    },
    "tags": []
   },
   "outputs": [
    {
     "data": {
      "image/png": "[encoded data removed]",
      "text/plain": [
       "<Figure size 1440x576 with 1 Axes>"
      ]
     },
     "metadata": {
      "needs_background": "light"
     },
     "output_type": "display_data"
    }
   ],
   "source": [
    "plt.subplots(figsize=(20,8))\n",
    "p = sns.barplot(x=loan[\"Married\"],y=loan[\"LoanAmount\"],palette=\"Set1\", saturation=2, edgecolor = \"yellow\", linewidth = 2.5,)\n",
    "p.axes.set_title(\"\\n Married\\n\", fontsize=35)\n",
    "plt.ylabel(\"Loan Amount\" , fontsize = 25)\n",
    "plt.xlabel(\"\\nMarried\" , fontsize = 25)\n",
    "# plt.yscale(\"log\")\n",
    "plt.xticks(rotation = 45)\n",
    "for container in p.containers:\n",
    "    p.bar_label(container,label_type = \"center\",padding = 8,size = 30,color = \"black\",rotation = 0,\n",
    "    bbox={\"boxstyle\": \"round\", \"pad\": 0.6, \"facecolor\": \"pink\", \"edgecolor\": \"black\", \"alpha\": 1})\n",
    "\n",
    "sns.despine(left=True, bottom=True)\n",
    "plt.show()"
   ]
  },
  {
   "cell_type": "code",
   "execution_count": 8,
   "id": "dc19dc03",
   "metadata": {
    "execution": {
     "iopub.execute_input": "2022-09-30T05:48:06.688306Z",
     "iopub.status.busy": "2022-09-30T05:48:06.687437Z",
     "iopub.status.idle": "2022-09-30T05:48:07.309139Z",
     "shell.execute_reply": "2022-09-30T05:48:07.307970Z"
    },
    "papermill": {
     "duration": 0.6397,
     "end_time": "2022-09-30T05:48:07.311540",
     "exception": false,
     "start_time": "2022-09-30T05:48:06.671840",
     "status": "completed"
    },
    "tags": []
   },
   "outputs": [
    {
     "data": {
      "image/png": "[encoded data removed]",
      "text/plain": [
       "<Figure size 432x432 with 3 Axes>"
      ]
     },
     "metadata": {
      "needs_background": "light"
     },
     "output_type": "display_data"
    }
   ],
   "source": [
    "sns.jointplot(data=loan, x=\"LoanAmount\", y=\"ApplicantIncome\", hue=\"Gender\");"
   ]
  },
  {
   "cell_type": "code",
   "execution_count": 9,
   "id": "4efff5aa",
   "metadata": {
    "execution": {
     "iopub.execute_input": "2022-09-30T05:48:07.343469Z",
     "iopub.status.busy": "2022-09-30T05:48:07.342660Z",
     "iopub.status.idle": "2022-09-30T05:48:13.355430Z",
     "shell.execute_reply": "2022-09-30T05:48:13.354470Z"
    },
    "papermill": {
     "duration": 6.032542,
     "end_time": "2022-09-30T05:48:13.359372",
     "exception": false,
     "start_time": "2022-09-30T05:48:07.326830",
     "status": "completed"
    },
    "tags": []
   },
   "outputs": [
    {
     "data": {
      "image/png": "[encoded data removed]",
      "text/plain": [
       "<Figure size 990.125x900 with 30 Axes>"
      ]
     },
     "metadata": {
      "needs_background": "light"
     },
     "output_type": "display_data"
    }
   ],
   "source": [
    "sns.pairplot(loan, hue=\"Property_Area\", markers=[\"o\", \"s\", \"D\"]);"
   ]
  },
  {
   "cell_type": "code",
   "execution_count": 10,
   "id": "958409f0",
   "metadata": {
    "execution": {
     "iopub.execute_input": "2022-09-30T05:48:13.398607Z",
     "iopub.status.busy": "2022-09-30T05:48:13.398290Z",
     "iopub.status.idle": "2022-09-30T05:48:13.602870Z",
     "shell.execute_reply": "2022-09-30T05:48:13.601950Z"
    },
    "papermill": {
     "duration": 0.226631,
     "end_time": "2022-09-30T05:48:13.605041",
     "exception": false,
     "start_time": "2022-09-30T05:48:13.378410",
     "status": "completed"
    },
    "tags": []
   },
   "outputs": [
    {
     "data": {
      "image/png": "[encoded data removed]",
      "text/plain": [
       "<Figure size 432x288 with 1 Axes>"
      ]
     },
     "metadata": {
      "needs_background": "light"
     },
     "output_type": "display_data"
    }
   ],
   "source": [
    "ax = sns.violinplot(x=\"Loan_Status\", y=\"LoanAmount\", data=loan,inner=None, color=\".8\")\n",
    "ax = sns.stripplot(x=\"Loan_Status\", y=\"LoanAmount\", data=loan)"
   ]
  },
  {
   "cell_type": "code",
   "execution_count": 11,
   "id": "347317a7",
   "metadata": {
    "execution": {
     "iopub.execute_input": "2022-09-30T05:48:13.644970Z",
     "iopub.status.busy": "2022-09-30T05:48:13.644138Z",
     "iopub.status.idle": "2022-09-30T05:48:14.191131Z",
     "shell.execute_reply": "2022-09-30T05:48:14.190187Z"
    },
    "papermill": {
     "duration": 0.568863,
     "end_time": "2022-09-30T05:48:14.193342",
     "exception": false,
     "start_time": "2022-09-30T05:48:13.624479",
     "status": "completed"
    },
    "tags": []
   },
   "outputs": [
    {
     "data": {
      "text/plain": [
       "<Figure size 1152x360 with 0 Axes>"
      ]
     },
     "metadata": {},
     "output_type": "display_data"
    },
    {
     "data": {
      "image/png": "[encoded data removed]",
      "text/plain": [
       "<Figure size 484.45x288 with 2 Axes>"
      ]
     },
     "metadata": {
      "needs_background": "light"
     },
     "output_type": "display_data"
    }
   ],
   "source": [
    "plt.figure(figsize=(16,5))\n",
    "g = sns.catplot(x=\"Gender\", y=\"LoanAmount\", hue=\"Self_Employed\", col=\"Loan_Status\",data=loan, kind=\"boxen\", height=4, aspect=.7);"
   ]
  },
  {
   "cell_type": "code",
   "execution_count": null,
   "id": "653260a5",
   "metadata": {
    "papermill": {
     "duration": 0.019138,
     "end_time": "2022-09-30T05:48:14.232484",
     "exception": false,
     "start_time": "2022-09-30T05:48:14.213346",
     "status": "completed"
    },
    "tags": []
   },
   "outputs": [],
   "source": []
  },
  {
   "cell_type": "markdown",
   "id": "11f6c6c9",
   "metadata": {
    "papermill": {
     "duration": 0.019073,
     "end_time": "2022-09-30T05:48:14.270917",
     "exception": false,
     "start_time": "2022-09-30T05:48:14.251844",
     "status": "completed"
    },
    "tags": []
   },
   "source": [
    "<span class=\"label label-default\" style=\"background-color:#DC1010; border-radius:12px; font-weight: bold; font-family:Verdana; font-size:28px; color:#FBFAFC; \">Pipeline 🔀</span>"
   ]
  },
  {
   "cell_type": "markdown",
   "id": "d6fa61ac",
   "metadata": {
    "papermill": {
     "duration": 0.019173,
     "end_time": "2022-09-30T05:48:14.309438",
     "exception": false,
     "start_time": "2022-09-30T05:48:14.290265",
     "status": "completed"
    },
    "tags": []
   },
   "source": [
    "> **Sequentially apply a list of transforms and a final estimator. Intermediate steps of the pipeline must be ‘transforms’, that is, they must implement fit and transform methods. The final estimator only needs to implement fit. The transformers in the pipeline can be cached using memory argument.**\n",
    "\n",
    "> **The purpose of the pipeline is to assemble several steps that can be cross-validated together while setting different parameters. For this, it enables setting parameters of the various steps using their names and the parameter name separated by a '__', as in the example below. A step’s estimator may be replaced entirely by setting the parameter with its name to another estimator, or a transformer removed by setting it to 'passthrough' or None.**"
   ]
  },
  {
   "cell_type": "markdown",
   "id": "d7b24fea",
   "metadata": {
    "papermill": {
     "duration": 0.019155,
     "end_time": "2022-09-30T05:48:14.348418",
     "exception": false,
     "start_time": "2022-09-30T05:48:14.329263",
     "status": "completed"
    },
    "tags": []
   },
   "source": [
    "<div style=\"color:white;\n",
    "           display:fill;\n",
    "           border-radius:5px;\n",
    "           background-color:Orange;\n",
    "           font-size:33px;\n",
    "           font-family:Nexa;\n",
    "           letter-spacing:0.5px\">\n",
    "        <p style=\"padding: 15px;\n",
    "              color:white;\">\n",
    "            <b>Step by Step Sci-kit Learn Pipeline</b>\n",
    "        </p>\n",
    "</div>"
   ]
  },
  {
   "cell_type": "markdown",
   "id": "29d95cca",
   "metadata": {
    "papermill": {
     "duration": 0.019015,
     "end_time": "2022-09-30T05:48:14.386663",
     "exception": false,
     "start_time": "2022-09-30T05:48:14.367648",
     "status": "completed"
    },
    "tags": []
   },
   "source": [
    "<font color=\"Brown\" size=+1.5><b>Most of the data science projects (as keen as I am to say all of them) require a certain level of data cleaning and preprocessing to make the most of the machine learning models. Some common preprocessing or transformations are:\n",
    "</b></font>"
   ]
  },
  {
   "cell_type": "markdown",
   "id": "e9c2af2f",
   "metadata": {
    "papermill": {
     "duration": 0.019114,
     "end_time": "2022-09-30T05:48:14.425195",
     "exception": false,
     "start_time": "2022-09-30T05:48:14.406081",
     "status": "completed"
    },
    "tags": []
   },
   "source": [
    "<div style=\"font-family: Lucida Calligraphy; line-height:2; color: Brown; text-align: justify\">\n",
    "    <ol start=\"1\">\n",
    "        <li> <b>Imputing missing values</b>,</li>\n",
    "        <li> <b>Removing outliers</b>,</li>\n",
    "        <li> <b>Normalising or standardising numerical features</b>,</li>\n",
    "        <li> <b>Encoding categorical features</b>,</li>\n",
    "    </ol>\n",
    "</div>"
   ]
  },
  {
   "cell_type": "markdown",
   "id": "0a9d14f8",
   "metadata": {
    "papermill": {
     "duration": 0.020652,
     "end_time": "2022-09-30T05:48:14.465180",
     "exception": false,
     "start_time": "2022-09-30T05:48:14.444528",
     "status": "completed"
    },
    "tags": []
   },
   "source": [
    "> **Sci-kit learn has a bunch of functions that support this kind of transformation, such as StandardScaler, SimpleImputer…etc, under the preprocessing package.**"
   ]
  },
  {
   "cell_type": "markdown",
   "id": "d7d893ec",
   "metadata": {
    "papermill": {
     "duration": 0.019061,
     "end_time": "2022-09-30T05:48:14.503537",
     "exception": false,
     "start_time": "2022-09-30T05:48:14.484476",
     "status": "completed"
    },
    "tags": []
   },
   "source": [
    "<div style=\"font-family: Lucida Calligraphy; line-height:2; color: Brown; text-align: justify\">\n",
    "    ✅ A typical and simplified data science workflow would like:\n",
    "    <ol start=\"1\">\n",
    "        <li> <b>Get the training data</b>,</li>\n",
    "        <li> <b>Clean/preprocess/transform the data</b>,</li>\n",
    "        <li> <b>Train a machine learning model</b>,</li>\n",
    "        <li> <b>Evaluate and optimise the model</b>,</li>\n",
    "        <li> <b>Clean/preprocess/transform new data</b>,</li>\n",
    "        <li> <b>Fit the model on new data to make predictions.</b>,</li>\n",
    "    </ol>\n",
    "</div>"
   ]
  },
  {
   "cell_type": "markdown",
   "id": "804435e7",
   "metadata": {
    "papermill": {
     "duration": 0.018985,
     "end_time": "2022-09-30T05:48:14.541905",
     "exception": false,
     "start_time": "2022-09-30T05:48:14.522920",
     "status": "completed"
    },
    "tags": []
   },
   "source": [
    "<font color=\"Brown\" size=+1.5 face=\"Comic Sans MS\">You may notice that data preprocessing has to be done at least twice in the workflow. As tedious and time-consuming as this step is, how nice it would be if only we could automate this process and apply it to all of the future new datasets.</font>\n",
    "\n",
    "\n",
    "<font color=\"Brown\" size=+1.5 face=\"Comic Sans MS\">The good news is: YES, WE ABSOLUTELY CAN! With the scikit learn pipeline, we can easily systemise the process and therefore make it extremely reproducible. Following I’ll walk you through the process of using scikit learn pipeline to make your life easier.</font>"
   ]
  },
  {
   "cell_type": "code",
   "execution_count": 12,
   "id": "0b825e78",
   "metadata": {
    "execution": {
     "iopub.execute_input": "2022-09-30T05:48:14.582629Z",
     "iopub.status.busy": "2022-09-30T05:48:14.582246Z",
     "iopub.status.idle": "2022-09-30T05:48:14.590638Z",
     "shell.execute_reply": "2022-09-30T05:48:14.589674Z"
    },
    "papermill": {
     "duration": 0.031477,
     "end_time": "2022-09-30T05:48:14.592721",
     "exception": false,
     "start_time": "2022-09-30T05:48:14.561244",
     "status": "completed"
    },
    "tags": []
   },
   "outputs": [],
   "source": [
    "# Step 1 -> train/test/split\n",
    "X_train,X_test,y_train,y_test = train_test_split(loan.drop(columns=['Loan_Status']),\n",
    "                                                 loan['Loan_Status'],\n",
    "                                                 test_size=0.2,\n",
    "                                                random_state=42)"
   ]
  },
  {
   "cell_type": "code",
   "execution_count": 13,
   "id": "c9a26595",
   "metadata": {
    "execution": {
     "iopub.execute_input": "2022-09-30T05:48:14.634248Z",
     "iopub.status.busy": "2022-09-30T05:48:14.633440Z",
     "iopub.status.idle": "2022-09-30T05:48:14.649971Z",
     "shell.execute_reply": "2022-09-30T05:48:14.649074Z"
    },
    "papermill": {
     "duration": 0.039189,
     "end_time": "2022-09-30T05:48:14.652221",
     "exception": false,
     "start_time": "2022-09-30T05:48:14.613032",
     "status": "completed"
    },
    "tags": []
   },
   "outputs": [
    {
     "data": {
      "text/html": [
       "<div>\n",
       "<style scoped>\n",
       "    .dataframe tbody tr th:only-of-type {\n",
       "        vertical-align: middle;\n",
       "    }\n",
       "\n",
       "    .dataframe tbody tr th {\n",
       "        vertical-align: top;\n",
       "    }\n",
       "\n",
       "    .dataframe thead th {\n",
       "        text-align: right;\n",
       "    }\n",
       "</style>\n",
       "<table border=\"1\" class=\"dataframe\">\n",
       "  <thead>\n",
       "    <tr style=\"text-align: right;\">\n",
       "      <th></th>\n",
       "      <th>Gender</th>\n",
       "      <th>Married</th>\n",
       "      <th>Dependents</th>\n",
       "      <th>Education</th>\n",
       "      <th>Self_Employed</th>\n",
       "      <th>ApplicantIncome</th>\n",
       "      <th>CoapplicantIncome</th>\n",
       "      <th>LoanAmount</th>\n",
       "      <th>Loan_Amount_Term</th>\n",
       "      <th>Credit_History</th>\n",
       "      <th>Property_Area</th>\n",
       "    </tr>\n",
       "  </thead>\n",
       "  <tbody>\n",
       "    <tr>\n",
       "      <th>83</th>\n",
       "      <td>Male</td>\n",
       "      <td>Yes</td>\n",
       "      <td>0</td>\n",
       "      <td>Graduate</td>\n",
       "      <td>No</td>\n",
       "      <td>6000</td>\n",
       "      <td>2250.0</td>\n",
       "      <td>265.0</td>\n",
       "      <td>360.0</td>\n",
       "      <td>NaN</td>\n",
       "      <td>Semiurban</td>\n",
       "    </tr>\n",
       "    <tr>\n",
       "      <th>90</th>\n",
       "      <td>Male</td>\n",
       "      <td>Yes</td>\n",
       "      <td>0</td>\n",
       "      <td>Graduate</td>\n",
       "      <td>No</td>\n",
       "      <td>2958</td>\n",
       "      <td>2900.0</td>\n",
       "      <td>131.0</td>\n",
       "      <td>360.0</td>\n",
       "      <td>1.0</td>\n",
       "      <td>Semiurban</td>\n",
       "    </tr>\n",
       "    <tr>\n",
       "      <th>227</th>\n",
       "      <td>Male</td>\n",
       "      <td>Yes</td>\n",
       "      <td>2</td>\n",
       "      <td>Graduate</td>\n",
       "      <td>No</td>\n",
       "      <td>6250</td>\n",
       "      <td>1695.0</td>\n",
       "      <td>210.0</td>\n",
       "      <td>360.0</td>\n",
       "      <td>1.0</td>\n",
       "      <td>Semiurban</td>\n",
       "    </tr>\n",
       "    <tr>\n",
       "      <th>482</th>\n",
       "      <td>Male</td>\n",
       "      <td>Yes</td>\n",
       "      <td>0</td>\n",
       "      <td>Graduate</td>\n",
       "      <td>No</td>\n",
       "      <td>2083</td>\n",
       "      <td>3150.0</td>\n",
       "      <td>128.0</td>\n",
       "      <td>360.0</td>\n",
       "      <td>1.0</td>\n",
       "      <td>Semiurban</td>\n",
       "    </tr>\n",
       "    <tr>\n",
       "      <th>464</th>\n",
       "      <td>Male</td>\n",
       "      <td>No</td>\n",
       "      <td>0</td>\n",
       "      <td>Graduate</td>\n",
       "      <td>No</td>\n",
       "      <td>4166</td>\n",
       "      <td>0.0</td>\n",
       "      <td>98.0</td>\n",
       "      <td>360.0</td>\n",
       "      <td>0.0</td>\n",
       "      <td>Semiurban</td>\n",
       "    </tr>\n",
       "  </tbody>\n",
       "</table>\n",
       "</div>"
      ],
      "text/plain": [
       "    Gender Married Dependents Education Self_Employed  ApplicantIncome  \\\n",
       "83    Male     Yes          0  Graduate            No             6000   \n",
       "90    Male     Yes          0  Graduate            No             2958   \n",
       "227   Male     Yes          2  Graduate            No             6250   \n",
       "482   Male     Yes          0  Graduate            No             2083   \n",
       "464   Male      No          0  Graduate            No             4166   \n",
       "\n",
       "     CoapplicantIncome  LoanAmount  Loan_Amount_Term  Credit_History  \\\n",
       "83              2250.0       265.0             360.0             NaN   \n",
       "90              2900.0       131.0             360.0             1.0   \n",
       "227             1695.0       210.0             360.0             1.0   \n",
       "482             3150.0       128.0             360.0             1.0   \n",
       "464                0.0        98.0             360.0             0.0   \n",
       "\n",
       "    Property_Area  \n",
       "83      Semiurban  \n",
       "90      Semiurban  \n",
       "227     Semiurban  \n",
       "482     Semiurban  \n",
       "464     Semiurban  "
      ]
     },
     "execution_count": 13,
     "metadata": {},
     "output_type": "execute_result"
    }
   ],
   "source": [
    "X_train.head()"
   ]
  },
  {
   "cell_type": "code",
   "execution_count": 14,
   "id": "b2727eb2",
   "metadata": {
    "execution": {
     "iopub.execute_input": "2022-09-30T05:48:14.694202Z",
     "iopub.status.busy": "2022-09-30T05:48:14.693372Z",
     "iopub.status.idle": "2022-09-30T05:48:14.701259Z",
     "shell.execute_reply": "2022-09-30T05:48:14.700256Z"
    },
    "papermill": {
     "duration": 0.030929,
     "end_time": "2022-09-30T05:48:14.703336",
     "exception": false,
     "start_time": "2022-09-30T05:48:14.672407",
     "status": "completed"
    },
    "tags": []
   },
   "outputs": [
    {
     "data": {
      "text/plain": [
       "369    N\n",
       "514    N\n",
       "298    N\n",
       "537    Y\n",
       "561    Y\n",
       "Name: Loan_Status, dtype: object"
      ]
     },
     "execution_count": 14,
     "metadata": {},
     "output_type": "execute_result"
    }
   ],
   "source": [
    "y_train.sample(5)"
   ]
  },
  {
   "cell_type": "markdown",
   "id": "00419210",
   "metadata": {
    "papermill": {
     "duration": 0.019605,
     "end_time": "2022-09-30T05:48:14.742926",
     "exception": false,
     "start_time": "2022-09-30T05:48:14.723321",
     "status": "completed"
    },
    "tags": []
   },
   "source": [
    "<h1 style=\"color:Orange;font-size:45px;font-family:Georgia;text-align:center;\"> 📚 <strong style=\"color:Orange;font-size:40px;font-family:serif;\"> Decission Tree Classifier </strong> 📚 </h1>"
   ]
  },
  {
   "cell_type": "markdown",
   "id": "90c88fb9",
   "metadata": {
    "papermill": {
     "duration": 0.019663,
     "end_time": "2022-09-30T05:48:14.782862",
     "exception": false,
     "start_time": "2022-09-30T05:48:14.763199",
     "status": "completed"
    },
    "tags": []
   },
   "source": [
    "<div style=\"color:white;\n",
    "           display:fill;\n",
    "           border-radius:5px;\n",
    "           background-color:#5F1666;\n",
    "           font-size:20px;\n",
    "           font-family:Nexa;\n",
    "           letter-spacing:0.5px\">\n",
    "        <p style=\"padding: 15px;\n",
    "              color:white;\">\n",
    "            <b>Create the pipeline</b>\n",
    "        </p>"
   ]
  },
  {
   "cell_type": "markdown",
   "id": "dba4420b",
   "metadata": {
    "papermill": {
     "duration": 0.019973,
     "end_time": "2022-09-30T05:48:14.822772",
     "exception": false,
     "start_time": "2022-09-30T05:48:14.802799",
     "status": "completed"
    },
    "tags": []
   },
   "source": [
    "<font color=\"Brown\" size=+1.5 face=\"Comic Sans MS\">The main parameter of a pipeline we’ll be working on is ‘steps’. From the documentation, it is a ‘list of (name, transform) tuples (implementing fit/transform) that are chained, in the order in which they are chained, with the last object an estimator.’</font>"
   ]
  },
  {
   "cell_type": "code",
   "execution_count": 15,
   "id": "4a14394d",
   "metadata": {
    "execution": {
     "iopub.execute_input": "2022-09-30T05:48:14.864364Z",
     "iopub.status.busy": "2022-09-30T05:48:14.864009Z",
     "iopub.status.idle": "2022-09-30T05:48:14.869655Z",
     "shell.execute_reply": "2022-09-30T05:48:14.868734Z"
    },
    "papermill": {
     "duration": 0.028529,
     "end_time": "2022-09-30T05:48:14.871716",
     "exception": false,
     "start_time": "2022-09-30T05:48:14.843187",
     "status": "completed"
    },
    "tags": []
   },
   "outputs": [],
   "source": [
    "num_var_mean = ['LoanAmount']\n",
    "num_var_mostfrequent = ['Loan_Amount_Term','Gender','Married','Self_Employed','Credit_History','Dependents']\n",
    "num_no_missingvalue = ['Education','ApplicantIncome','CoapplicantIncome','Property_Area','Loan_Status']\n",
    "\n",
    "num_var_meanimputer = Pipeline(steps=[(\"imputer\",SimpleImputer(strategy='mean'))])\n",
    "num_var_most_frequent = Pipeline(steps=[(\"imputer\",SimpleImputer(strategy='most_frequent'))])"
   ]
  },
  {
   "cell_type": "code",
   "execution_count": 16,
   "id": "c82d3b9f",
   "metadata": {
    "execution": {
     "iopub.execute_input": "2022-09-30T05:48:14.913081Z",
     "iopub.status.busy": "2022-09-30T05:48:14.912242Z",
     "iopub.status.idle": "2022-09-30T05:48:14.917461Z",
     "shell.execute_reply": "2022-09-30T05:48:14.916489Z"
    },
    "papermill": {
     "duration": 0.027986,
     "end_time": "2022-09-30T05:48:14.919439",
     "exception": false,
     "start_time": "2022-09-30T05:48:14.891453",
     "status": "completed"
    },
    "tags": []
   },
   "outputs": [],
   "source": [
    "# imputation transformer\n",
    "trf1 = ColumnTransformer([(\"mean_imputer\", num_var_meanimputer, num_var_mean),\n",
    "                        (\"most_frequent_imputer\", num_var_most_frequent, num_var_mostfrequent)\n",
    "    \n",
    "],remainder='passthrough')"
   ]
  },
  {
   "cell_type": "code",
   "execution_count": 17,
   "id": "975d08b7",
   "metadata": {
    "execution": {
     "iopub.execute_input": "2022-09-30T05:48:14.960974Z",
     "iopub.status.busy": "2022-09-30T05:48:14.960315Z",
     "iopub.status.idle": "2022-09-30T05:48:14.965074Z",
     "shell.execute_reply": "2022-09-30T05:48:14.964077Z"
    },
    "papermill": {
     "duration": 0.027509,
     "end_time": "2022-09-30T05:48:14.967076",
     "exception": false,
     "start_time": "2022-09-30T05:48:14.939567",
     "status": "completed"
    },
    "tags": []
   },
   "outputs": [],
   "source": [
    "# one hot encoding\n",
    "trf2 = ColumnTransformer([\n",
    "    ('ohe',OneHotEncoder(sparse=False,handle_unknown='ignore'),[0,1,3,4,10])\n",
    "],remainder='passthrough')"
   ]
  },
  {
   "cell_type": "code",
   "execution_count": 18,
   "id": "e6983a79",
   "metadata": {
    "execution": {
     "iopub.execute_input": "2022-09-30T05:48:15.009002Z",
     "iopub.status.busy": "2022-09-30T05:48:15.008240Z",
     "iopub.status.idle": "2022-09-30T05:48:15.013162Z",
     "shell.execute_reply": "2022-09-30T05:48:15.012323Z"
    },
    "papermill": {
     "duration": 0.028024,
     "end_time": "2022-09-30T05:48:15.015135",
     "exception": false,
     "start_time": "2022-09-30T05:48:14.987111",
     "status": "completed"
    },
    "tags": []
   },
   "outputs": [],
   "source": [
    "# Scaling\n",
    "trf3 = ColumnTransformer([\n",
    "    ('scale',RobustScaler(),slice(0,20))\n",
    "])"
   ]
  },
  {
   "cell_type": "code",
   "execution_count": 19,
   "id": "e59a167e",
   "metadata": {
    "execution": {
     "iopub.execute_input": "2022-09-30T05:48:15.057137Z",
     "iopub.status.busy": "2022-09-30T05:48:15.056404Z",
     "iopub.status.idle": "2022-09-30T05:48:15.060833Z",
     "shell.execute_reply": "2022-09-30T05:48:15.059947Z"
    },
    "papermill": {
     "duration": 0.027784,
     "end_time": "2022-09-30T05:48:15.063218",
     "exception": false,
     "start_time": "2022-09-30T05:48:15.035434",
     "status": "completed"
    },
    "tags": []
   },
   "outputs": [],
   "source": [
    "# Feature selection\n",
    "trf4 = SelectKBest(score_func=chi2,k=8)"
   ]
  },
  {
   "cell_type": "code",
   "execution_count": 20,
   "id": "fd3539c9",
   "metadata": {
    "execution": {
     "iopub.execute_input": "2022-09-30T05:48:15.106693Z",
     "iopub.status.busy": "2022-09-30T05:48:15.105071Z",
     "iopub.status.idle": "2022-09-30T05:48:15.109887Z",
     "shell.execute_reply": "2022-09-30T05:48:15.109070Z"
    },
    "papermill": {
     "duration": 0.028478,
     "end_time": "2022-09-30T05:48:15.112097",
     "exception": false,
     "start_time": "2022-09-30T05:48:15.083619",
     "status": "completed"
    },
    "tags": []
   },
   "outputs": [],
   "source": [
    "# train the model\n",
    "trf5 = DecisionTreeClassifier()"
   ]
  },
  {
   "cell_type": "code",
   "execution_count": 21,
   "id": "15c30837",
   "metadata": {
    "execution": {
     "iopub.execute_input": "2022-09-30T05:48:15.153783Z",
     "iopub.status.busy": "2022-09-30T05:48:15.153005Z",
     "iopub.status.idle": "2022-09-30T05:48:15.157964Z",
     "shell.execute_reply": "2022-09-30T05:48:15.157087Z"
    },
    "papermill": {
     "duration": 0.027708,
     "end_time": "2022-09-30T05:48:15.159940",
     "exception": false,
     "start_time": "2022-09-30T05:48:15.132232",
     "status": "completed"
    },
    "tags": []
   },
   "outputs": [],
   "source": [
    "pipe_dec = Pipeline([\n",
    "    ('trf1',trf1),\n",
    "    ('trf2',trf2),\n",
    "    ('trf3',trf3),\n",
    "    ('trf4',trf4),\n",
    "    ('trf5',trf5)\n",
    "])"
   ]
  },
  {
   "cell_type": "code",
   "execution_count": 22,
   "id": "f275b030",
   "metadata": {
    "execution": {
     "iopub.execute_input": "2022-09-30T05:48:15.201968Z",
     "iopub.status.busy": "2022-09-30T05:48:15.201125Z",
     "iopub.status.idle": "2022-09-30T05:48:15.217064Z",
     "shell.execute_reply": "2022-09-30T05:48:15.215985Z"
    },
    "papermill": {
     "duration": 0.039088,
     "end_time": "2022-09-30T05:48:15.219076",
     "exception": false,
     "start_time": "2022-09-30T05:48:15.179988",
     "status": "completed"
    },
    "tags": []
   },
   "outputs": [
    {
     "data": {
      "text/plain": [
       "{'trf1': ColumnTransformer(remainder='passthrough',\n",
       "                   transformers=[('mean_imputer',\n",
       "                                  Pipeline(steps=[('imputer', SimpleImputer())]),\n",
       "                                  ['LoanAmount']),\n",
       "                                 ('most_frequent_imputer',\n",
       "                                  Pipeline(steps=[('imputer',\n",
       "                                                   SimpleImputer(strategy='most_frequent'))]),\n",
       "                                  ['Loan_Amount_Term', 'Gender', 'Married',\n",
       "                                   'Self_Employed', 'Credit_History',\n",
       "                                   'Dependents'])]),\n",
       " 'trf2': ColumnTransformer(remainder='passthrough',\n",
       "                   transformers=[('ohe',\n",
       "                                  OneHotEncoder(handle_unknown='ignore',\n",
       "                                                sparse=False),\n",
       "                                  [0, 1, 3, 4, 10])]),\n",
       " 'trf3': ColumnTransformer(transformers=[('scale', RobustScaler(), slice(0, 20, None))]),\n",
       " 'trf4': SelectKBest(k=8, score_func=<function chi2 at 0x7f3d2dac2830>),\n",
       " 'trf5': DecisionTreeClassifier()}"
      ]
     },
     "execution_count": 22,
     "metadata": {},
     "output_type": "execute_result"
    }
   ],
   "source": [
    "# Code here\n",
    "pipe_dec.named_steps"
   ]
  },
  {
   "cell_type": "code",
   "execution_count": 23,
   "id": "ed7c9d48",
   "metadata": {
    "execution": {
     "iopub.execute_input": "2022-09-30T05:48:15.262683Z",
     "iopub.status.busy": "2022-09-30T05:48:15.262394Z",
     "iopub.status.idle": "2022-09-30T05:48:15.266828Z",
     "shell.execute_reply": "2022-09-30T05:48:15.265754Z"
    },
    "papermill": {
     "duration": 0.028789,
     "end_time": "2022-09-30T05:48:15.268851",
     "exception": false,
     "start_time": "2022-09-30T05:48:15.240062",
     "status": "completed"
    },
    "tags": []
   },
   "outputs": [],
   "source": [
    "# Display Pipeline\n",
    "\n",
    "from sklearn import set_config\n",
    "set_config(display='diagram')"
   ]
  },
  {
   "cell_type": "code",
   "execution_count": 24,
   "id": "708ffbb7",
   "metadata": {
    "execution": {
     "iopub.execute_input": "2022-09-30T05:48:15.310579Z",
     "iopub.status.busy": "2022-09-30T05:48:15.309831Z",
     "iopub.status.idle": "2022-09-30T05:48:15.387127Z",
     "shell.execute_reply": "2022-09-30T05:48:15.385992Z"
    },
    "papermill": {
     "duration": 0.101237,
     "end_time": "2022-09-30T05:48:15.389872",
     "exception": false,
     "start_time": "2022-09-30T05:48:15.288635",
     "status": "completed"
    },
    "tags": []
   },
   "outputs": [
    {
     "data": {
      "text/html": [
       "<style>#sk-a019dab6-bdf1-4ce4-8cdf-857f1f0aa2d0 {color: black;background-color: white;}#sk-a019dab6-bdf1-4ce4-8cdf-857f1f0aa2d0 pre{padding: 0;}#sk-a019dab6-bdf1-4ce4-8cdf-857f1f0aa2d0 div.sk-toggleable {background-color: white;}#sk-a019dab6-bdf1-4ce4-8cdf-857f1f0aa2d0 label.sk-toggleable__label {cursor: pointer;display: block;width: 100%;margin-bottom: 0;padding: 0.3em;box-sizing: border-box;text-align: center;}#sk-a019dab6-bdf1-4ce4-8cdf-857f1f0aa2d0 label.sk-toggleable__label-arrow:before {content: \"▸\";float: left;margin-right: 0.25em;color: #696969;}#sk-a019dab6-bdf1-4ce4-8cdf-857f1f0aa2d0 label.sk-toggleable__label-arrow:hover:before {color: black;}#sk-a019dab6-bdf1-4ce4-8cdf-857f1f0aa2d0 div.sk-estimator:hover label.sk-toggleable__label-arrow:before {color: black;}#sk-a019dab6-bdf1-4ce4-8cdf-857f1f0aa2d0 div.sk-toggleable__content {max-height: 0;max-width: 0;overflow: hidden;text-align: left;background-color: #f0f8ff;}#sk-a019dab6-bdf1-4ce4-8cdf-857f1f0aa2d0 div.sk-toggleable__content pre {margin: 0.2em;color: black;border-radius: 0.25em;background-color: #f0f8ff;}#sk-a019dab6-bdf1-4ce4-8cdf-857f1f0aa2d0 input.sk-toggleable__control:checked~div.sk-toggleable__content {max-height: 200px;max-width: 100%;overflow: auto;}#sk-a019dab6-bdf1-4ce4-8cdf-857f1f0aa2d0 input.sk-toggleable__control:checked~label.sk-toggleable__label-arrow:before {content: \"▾\";}#sk-a019dab6-bdf1-4ce4-8cdf-857f1f0aa2d0 div.sk-estimator input.sk-toggleable__control:checked~label.sk-toggleable__label {background-color: #d4ebff;}#sk-a019dab6-bdf1-4ce4-8cdf-857f1f0aa2d0 div.sk-label input.sk-toggleable__control:checked~label.sk-toggleable__label {background-color: #d4ebff;}#sk-a019dab6-bdf1-4ce4-8cdf-857f1f0aa2d0 input.sk-hidden--visually {border: 0;clip: rect(1px 1px 1px 1px);clip: rect(1px, 1px, 1px, 1px);height: 1px;margin: -1px;overflow: hidden;padding: 0;position: absolute;width: 1px;}#sk-a019dab6-bdf1-4ce4-8cdf-857f1f0aa2d0 div.sk-estimator {font-family: monospace;background-color: #f0f8ff;border: 1px dotted black;border-radius: 0.25em;box-sizing: border-box;margin-bottom: 0.5em;}#sk-a019dab6-bdf1-4ce4-8cdf-857f1f0aa2d0 div.sk-estimator:hover {background-color: #d4ebff;}#sk-a019dab6-bdf1-4ce4-8cdf-857f1f0aa2d0 div.sk-parallel-item::after {content: \"\";width: 100%;border-bottom: 1px solid gray;flex-grow: 1;}#sk-a019dab6-bdf1-4ce4-8cdf-857f1f0aa2d0 div.sk-label:hover label.sk-toggleable__label {background-color: #d4ebff;}#sk-a019dab6-bdf1-4ce4-8cdf-857f1f0aa2d0 div.sk-serial::before {content: \"\";position: absolute;border-left: 1px solid gray;box-sizing: border-box;top: 2em;bottom: 0;left: 50%;}#sk-a019dab6-bdf1-4ce4-8cdf-857f1f0aa2d0 div.sk-serial {display: flex;flex-direction: column;align-items: center;background-color: white;padding-right: 0.2em;padding-left: 0.2em;}#sk-a019dab6-bdf1-4ce4-8cdf-857f1f0aa2d0 div.sk-item {z-index: 1;}#sk-a019dab6-bdf1-4ce4-8cdf-857f1f0aa2d0 div.sk-parallel {display: flex;align-items: stretch;justify-content: center;background-color: white;}#sk-a019dab6-bdf1-4ce4-8cdf-857f1f0aa2d0 div.sk-parallel::before {content: \"\";position: absolute;border-left: 1px solid gray;box-sizing: border-box;top: 2em;bottom: 0;left: 50%;}#sk-a019dab6-bdf1-4ce4-8cdf-857f1f0aa2d0 div.sk-parallel-item {display: flex;flex-direction: column;position: relative;background-color: white;}#sk-a019dab6-bdf1-4ce4-8cdf-857f1f0aa2d0 div.sk-parallel-item:first-child::after {align-self: flex-end;width: 50%;}#sk-a019dab6-bdf1-4ce4-8cdf-857f1f0aa2d0 div.sk-parallel-item:last-child::after {align-self: flex-start;width: 50%;}#sk-a019dab6-bdf1-4ce4-8cdf-857f1f0aa2d0 div.sk-parallel-item:only-child::after {width: 0;}#sk-a019dab6-bdf1-4ce4-8cdf-857f1f0aa2d0 div.sk-dashed-wrapped {border: 1px dashed gray;margin: 0 0.4em 0.5em 0.4em;box-sizing: border-box;padding-bottom: 0.4em;background-color: white;position: relative;}#sk-a019dab6-bdf1-4ce4-8cdf-857f1f0aa2d0 div.sk-label label {font-family: monospace;font-weight: bold;background-color: white;display: inline-block;line-height: 1.2em;}#sk-a019dab6-bdf1-4ce4-8cdf-857f1f0aa2d0 div.sk-label-container {position: relative;z-index: 2;text-align: center;}#sk-a019dab6-bdf1-4ce4-8cdf-857f1f0aa2d0 div.sk-container {/* jupyter's `normalize.less` sets `[hidden] { display: none; }` but bootstrap.min.css set `[hidden] { display: none !important; }` so we also need the `!important` here to be able to override the default hidden behavior on the sphinx rendered scikit-learn.org. See: https://github.com/scikit-learn/scikit-learn/issues/21755 */display: inline-block !important;position: relative;}#sk-a019dab6-bdf1-4ce4-8cdf-857f1f0aa2d0 div.sk-text-repr-fallback {display: none;}</style><div id=\"sk-a019dab6-bdf1-4ce4-8cdf-857f1f0aa2d0\" class=\"sk-top-container\"><div class=\"sk-text-repr-fallback\"><pre>Pipeline(steps=[(&#x27;trf1&#x27;,\n",
       "                 ColumnTransformer(remainder=&#x27;passthrough&#x27;,\n",
       "                                   transformers=[(&#x27;mean_imputer&#x27;,\n",
       "                                                  Pipeline(steps=[(&#x27;imputer&#x27;,\n",
       "                                                                   SimpleImputer())]),\n",
       "                                                  [&#x27;LoanAmount&#x27;]),\n",
       "                                                 (&#x27;most_frequent_imputer&#x27;,\n",
       "                                                  Pipeline(steps=[(&#x27;imputer&#x27;,\n",
       "                                                                   SimpleImputer(strategy=&#x27;most_frequent&#x27;))]),\n",
       "                                                  [&#x27;Loan_Amount_Term&#x27;, &#x27;Gender&#x27;,\n",
       "                                                   &#x27;Married&#x27;, &#x27;Self_Employed&#x27;,\n",
       "                                                   &#x27;Credit_History&#x27;,\n",
       "                                                   &#x27;Dependents&#x27;])])),\n",
       "                (&#x27;trf2&#x27;,\n",
       "                 ColumnTransformer(remainder=&#x27;passthrough&#x27;,\n",
       "                                   transformers=[(&#x27;ohe&#x27;,\n",
       "                                                  OneHotEncoder(handle_unknown=&#x27;ignore&#x27;,\n",
       "                                                                sparse=False),\n",
       "                                                  [0, 1, 3, 4, 10])])),\n",
       "                (&#x27;trf3&#x27;,\n",
       "                 ColumnTransformer(transformers=[(&#x27;scale&#x27;, RobustScaler(),\n",
       "                                                  slice(0, 20, None))])),\n",
       "                (&#x27;trf4&#x27;,\n",
       "                 SelectKBest(k=8,\n",
       "                             score_func=&lt;function chi2 at 0x7f3d2dac2830&gt;)),\n",
       "                (&#x27;trf5&#x27;, DecisionTreeClassifier())])</pre><b>Please rerun this cell to show the HTML repr or trust the notebook.</b></div><div class=\"sk-container\" hidden><div class=\"sk-item sk-dashed-wrapped\"><div class=\"sk-label-container\"><div class=\"sk-label sk-toggleable\"><input class=\"sk-toggleable__control sk-hidden--visually\" id=\"0dfd03e8-b480-4bff-a455-0514c67f7632\" type=\"checkbox\" ><label for=\"0dfd03e8-b480-4bff-a455-0514c67f7632\" class=\"sk-toggleable__label sk-toggleable__label-arrow\">Pipeline</label><div class=\"sk-toggleable__content\"><pre>Pipeline(steps=[(&#x27;trf1&#x27;,\n",
       "                 ColumnTransformer(remainder=&#x27;passthrough&#x27;,\n",
       "                                   transformers=[(&#x27;mean_imputer&#x27;,\n",
       "                                                  Pipeline(steps=[(&#x27;imputer&#x27;,\n",
       "                                                                   SimpleImputer())]),\n",
       "                                                  [&#x27;LoanAmount&#x27;]),\n",
       "                                                 (&#x27;most_frequent_imputer&#x27;,\n",
       "                                                  Pipeline(steps=[(&#x27;imputer&#x27;,\n",
       "                                                                   SimpleImputer(strategy=&#x27;most_frequent&#x27;))]),\n",
       "                                                  [&#x27;Loan_Amount_Term&#x27;, &#x27;Gender&#x27;,\n",
       "                                                   &#x27;Married&#x27;, &#x27;Self_Employed&#x27;,\n",
       "                                                   &#x27;Credit_History&#x27;,\n",
       "                                                   &#x27;Dependents&#x27;])])),\n",
       "                (&#x27;trf2&#x27;,\n",
       "                 ColumnTransformer(remainder=&#x27;passthrough&#x27;,\n",
       "                                   transformers=[(&#x27;ohe&#x27;,\n",
       "                                                  OneHotEncoder(handle_unknown=&#x27;ignore&#x27;,\n",
       "                                                                sparse=False),\n",
       "                                                  [0, 1, 3, 4, 10])])),\n",
       "                (&#x27;trf3&#x27;,\n",
       "                 ColumnTransformer(transformers=[(&#x27;scale&#x27;, RobustScaler(),\n",
       "                                                  slice(0, 20, None))])),\n",
       "                (&#x27;trf4&#x27;,\n",
       "                 SelectKBest(k=8,\n",
       "                             score_func=&lt;function chi2 at 0x7f3d2dac2830&gt;)),\n",
       "                (&#x27;trf5&#x27;, DecisionTreeClassifier())])</pre></div></div></div><div class=\"sk-serial\"><div class=\"sk-item sk-dashed-wrapped\"><div class=\"sk-label-container\"><div class=\"sk-label sk-toggleable\"><input class=\"sk-toggleable__control sk-hidden--visually\" id=\"9abf0b43-b431-490b-91cf-3a8af6461bfb\" type=\"checkbox\" ><label for=\"9abf0b43-b431-490b-91cf-3a8af6461bfb\" class=\"sk-toggleable__label sk-toggleable__label-arrow\">trf1: ColumnTransformer</label><div class=\"sk-toggleable__content\"><pre>ColumnTransformer(remainder=&#x27;passthrough&#x27;,\n",
       "                  transformers=[(&#x27;mean_imputer&#x27;,\n",
       "                                 Pipeline(steps=[(&#x27;imputer&#x27;, SimpleImputer())]),\n",
       "                                 [&#x27;LoanAmount&#x27;]),\n",
       "                                (&#x27;most_frequent_imputer&#x27;,\n",
       "                                 Pipeline(steps=[(&#x27;imputer&#x27;,\n",
       "                                                  SimpleImputer(strategy=&#x27;most_frequent&#x27;))]),\n",
       "                                 [&#x27;Loan_Amount_Term&#x27;, &#x27;Gender&#x27;, &#x27;Married&#x27;,\n",
       "                                  &#x27;Self_Employed&#x27;, &#x27;Credit_History&#x27;,\n",
       "                                  &#x27;Dependents&#x27;])])</pre></div></div></div><div class=\"sk-parallel\"><div class=\"sk-parallel-item\"><div class=\"sk-item\"><div class=\"sk-label-container\"><div class=\"sk-label sk-toggleable\"><input class=\"sk-toggleable__control sk-hidden--visually\" id=\"e4a52499-b691-47a2-a1e7-a4a92cac6278\" type=\"checkbox\" ><label for=\"e4a52499-b691-47a2-a1e7-a4a92cac6278\" class=\"sk-toggleable__label sk-toggleable__label-arrow\">mean_imputer</label><div class=\"sk-toggleable__content\"><pre>[&#x27;LoanAmount&#x27;]</pre></div></div></div><div class=\"sk-serial\"><div class=\"sk-item\"><div class=\"sk-serial\"><div class=\"sk-item\"><div class=\"sk-estimator sk-toggleable\"><input class=\"sk-toggleable__control sk-hidden--visually\" id=\"f80f6a1a-3cd9-45d8-a299-2ddada70c1c7\" type=\"checkbox\" ><label for=\"f80f6a1a-3cd9-45d8-a299-2ddada70c1c7\" class=\"sk-toggleable__label sk-toggleable__label-arrow\">SimpleImputer</label><div class=\"sk-toggleable__content\"><pre>SimpleImputer()</pre></div></div></div></div></div></div></div></div><div class=\"sk-parallel-item\"><div class=\"sk-item\"><div class=\"sk-label-container\"><div class=\"sk-label sk-toggleable\"><input class=\"sk-toggleable__control sk-hidden--visually\" id=\"da2a7ea3-dc84-4184-80eb-07b79d469946\" type=\"checkbox\" ><label for=\"da2a7ea3-dc84-4184-80eb-07b79d469946\" class=\"sk-toggleable__label sk-toggleable__label-arrow\">most_frequent_imputer</label><div class=\"sk-toggleable__content\"><pre>[&#x27;Loan_Amount_Term&#x27;, &#x27;Gender&#x27;, &#x27;Married&#x27;, &#x27;Self_Employed&#x27;, &#x27;Credit_History&#x27;, &#x27;Dependents&#x27;]</pre></div></div></div><div class=\"sk-serial\"><div class=\"sk-item\"><div class=\"sk-serial\"><div class=\"sk-item\"><div class=\"sk-estimator sk-toggleable\"><input class=\"sk-toggleable__control sk-hidden--visually\" id=\"361fd10b-f41e-463d-b249-af2d4b8a0a09\" type=\"checkbox\" ><label for=\"361fd10b-f41e-463d-b249-af2d4b8a0a09\" class=\"sk-toggleable__label sk-toggleable__label-arrow\">SimpleImputer</label><div class=\"sk-toggleable__content\"><pre>SimpleImputer(strategy=&#x27;most_frequent&#x27;)</pre></div></div></div></div></div></div></div></div><div class=\"sk-parallel-item\"><div class=\"sk-item\"><div class=\"sk-label-container\"><div class=\"sk-label sk-toggleable\"><input class=\"sk-toggleable__control sk-hidden--visually\" id=\"8fd3677c-8acc-4230-86ac-9a065ac022dc\" type=\"checkbox\" ><label for=\"8fd3677c-8acc-4230-86ac-9a065ac022dc\" class=\"sk-toggleable__label sk-toggleable__label-arrow\">remainder</label><div class=\"sk-toggleable__content\"><pre>[&#x27;Education&#x27;, &#x27;ApplicantIncome&#x27;, &#x27;CoapplicantIncome&#x27;, &#x27;Property_Area&#x27;]</pre></div></div></div><div class=\"sk-serial\"><div class=\"sk-item\"><div class=\"sk-estimator sk-toggleable\"><input class=\"sk-toggleable__control sk-hidden--visually\" id=\"c7d8647f-6946-4776-9564-8b7886e26490\" type=\"checkbox\" ><label for=\"c7d8647f-6946-4776-9564-8b7886e26490\" class=\"sk-toggleable__label sk-toggleable__label-arrow\">passthrough</label><div class=\"sk-toggleable__content\"><pre>passthrough</pre></div></div></div></div></div></div></div></div><div class=\"sk-item sk-dashed-wrapped\"><div class=\"sk-label-container\"><div class=\"sk-label sk-toggleable\"><input class=\"sk-toggleable__control sk-hidden--visually\" id=\"f0a7cd8b-074c-4100-aa99-0f81061c633d\" type=\"checkbox\" ><label for=\"f0a7cd8b-074c-4100-aa99-0f81061c633d\" class=\"sk-toggleable__label sk-toggleable__label-arrow\">trf2: ColumnTransformer</label><div class=\"sk-toggleable__content\"><pre>ColumnTransformer(remainder=&#x27;passthrough&#x27;,\n",
       "                  transformers=[(&#x27;ohe&#x27;,\n",
       "                                 OneHotEncoder(handle_unknown=&#x27;ignore&#x27;,\n",
       "                                               sparse=False),\n",
       "                                 [0, 1, 3, 4, 10])])</pre></div></div></div><div class=\"sk-parallel\"><div class=\"sk-parallel-item\"><div class=\"sk-item\"><div class=\"sk-label-container\"><div class=\"sk-label sk-toggleable\"><input class=\"sk-toggleable__control sk-hidden--visually\" id=\"f1e8aab5-1474-4330-8f6d-806ba7901aa0\" type=\"checkbox\" ><label for=\"f1e8aab5-1474-4330-8f6d-806ba7901aa0\" class=\"sk-toggleable__label sk-toggleable__label-arrow\">ohe</label><div class=\"sk-toggleable__content\"><pre>[0, 1, 3, 4, 10]</pre></div></div></div><div class=\"sk-serial\"><div class=\"sk-item\"><div class=\"sk-estimator sk-toggleable\"><input class=\"sk-toggleable__control sk-hidden--visually\" id=\"03197f67-8abe-4e45-9b51-1b1ada2084a0\" type=\"checkbox\" ><label for=\"03197f67-8abe-4e45-9b51-1b1ada2084a0\" class=\"sk-toggleable__label sk-toggleable__label-arrow\">OneHotEncoder</label><div class=\"sk-toggleable__content\"><pre>OneHotEncoder(handle_unknown=&#x27;ignore&#x27;, sparse=False)</pre></div></div></div></div></div></div><div class=\"sk-parallel-item\"><div class=\"sk-item\"><div class=\"sk-label-container\"><div class=\"sk-label sk-toggleable\"><input class=\"sk-toggleable__control sk-hidden--visually\" id=\"39c6666a-0404-4e6e-9348-4b133af43ce8\" type=\"checkbox\" ><label for=\"39c6666a-0404-4e6e-9348-4b133af43ce8\" class=\"sk-toggleable__label sk-toggleable__label-arrow\">remainder</label><div class=\"sk-toggleable__content\"><pre>[2, 5, 6, 7, 8, 9]</pre></div></div></div><div class=\"sk-serial\"><div class=\"sk-item\"><div class=\"sk-estimator sk-toggleable\"><input class=\"sk-toggleable__control sk-hidden--visually\" id=\"a1c6957e-9506-4cf7-8e35-ff59cc19abb4\" type=\"checkbox\" ><label for=\"a1c6957e-9506-4cf7-8e35-ff59cc19abb4\" class=\"sk-toggleable__label sk-toggleable__label-arrow\">passthrough</label><div class=\"sk-toggleable__content\"><pre>passthrough</pre></div></div></div></div></div></div></div></div><div class=\"sk-item sk-dashed-wrapped\"><div class=\"sk-label-container\"><div class=\"sk-label sk-toggleable\"><input class=\"sk-toggleable__control sk-hidden--visually\" id=\"ea95ee6a-3946-43a6-85ed-07839ddc94c0\" type=\"checkbox\" ><label for=\"ea95ee6a-3946-43a6-85ed-07839ddc94c0\" class=\"sk-toggleable__label sk-toggleable__label-arrow\">trf3: ColumnTransformer</label><div class=\"sk-toggleable__content\"><pre>ColumnTransformer(transformers=[(&#x27;scale&#x27;, RobustScaler(), slice(0, 20, None))])</pre></div></div></div><div class=\"sk-parallel\"><div class=\"sk-parallel-item\"><div class=\"sk-item\"><div class=\"sk-label-container\"><div class=\"sk-label sk-toggleable\"><input class=\"sk-toggleable__control sk-hidden--visually\" id=\"3c29a0eb-75f1-48cc-888b-cd16367daabd\" type=\"checkbox\" ><label for=\"3c29a0eb-75f1-48cc-888b-cd16367daabd\" class=\"sk-toggleable__label sk-toggleable__label-arrow\">scale</label><div class=\"sk-toggleable__content\"><pre>slice(0, 20, None)</pre></div></div></div><div class=\"sk-serial\"><div class=\"sk-item\"><div class=\"sk-estimator sk-toggleable\"><input class=\"sk-toggleable__control sk-hidden--visually\" id=\"cc9c1cb7-b7f0-49ee-b39f-6108f4946fe5\" type=\"checkbox\" ><label for=\"cc9c1cb7-b7f0-49ee-b39f-6108f4946fe5\" class=\"sk-toggleable__label sk-toggleable__label-arrow\">RobustScaler</label><div class=\"sk-toggleable__content\"><pre>RobustScaler()</pre></div></div></div></div></div></div></div></div><div class=\"sk-item\"><div class=\"sk-estimator sk-toggleable\"><input class=\"sk-toggleable__control sk-hidden--visually\" id=\"8e90026c-1f9e-4103-8468-673f259798c8\" type=\"checkbox\" ><label for=\"8e90026c-1f9e-4103-8468-673f259798c8\" class=\"sk-toggleable__label sk-toggleable__label-arrow\">SelectKBest</label><div class=\"sk-toggleable__content\"><pre>SelectKBest(k=8, score_func=&lt;function chi2 at 0x7f3d2dac2830&gt;)</pre></div></div></div><div class=\"sk-item\"><div class=\"sk-estimator sk-toggleable\"><input class=\"sk-toggleable__control sk-hidden--visually\" id=\"b02ddfea-b985-436e-b38a-9fb5be8ddfe3\" type=\"checkbox\" ><label for=\"b02ddfea-b985-436e-b38a-9fb5be8ddfe3\" class=\"sk-toggleable__label sk-toggleable__label-arrow\">DecisionTreeClassifier</label><div class=\"sk-toggleable__content\"><pre>DecisionTreeClassifier()</pre></div></div></div></div></div></div></div>"
      ],
      "text/plain": [
       "Pipeline(steps=[('trf1',\n",
       "                 ColumnTransformer(remainder='passthrough',\n",
       "                                   transformers=[('mean_imputer',\n",
       "                                                  Pipeline(steps=[('imputer',\n",
       "                                                                   SimpleImputer())]),\n",
       "                                                  ['LoanAmount']),\n",
       "                                                 ('most_frequent_imputer',\n",
       "                                                  Pipeline(steps=[('imputer',\n",
       "                                                                   SimpleImputer(strategy='most_frequent'))]),\n",
       "                                                  ['Loan_Amount_Term', 'Gender',\n",
       "                                                   'Married', 'Self_Employed',\n",
       "                                                   'Credit_History',\n",
       "                                                   'Dependents'])])),\n",
       "                ('trf2',\n",
       "                 ColumnTransformer(remainder='passthrough',\n",
       "                                   transformers=[('ohe',\n",
       "                                                  OneHotEncoder(handle_unknown='ignore',\n",
       "                                                                sparse=False),\n",
       "                                                  [0, 1, 3, 4, 10])])),\n",
       "                ('trf3',\n",
       "                 ColumnTransformer(transformers=[('scale', RobustScaler(),\n",
       "                                                  slice(0, 20, None))])),\n",
       "                ('trf4',\n",
       "                 SelectKBest(k=8,\n",
       "                             score_func=<function chi2 at 0x7f3d2dac2830>)),\n",
       "                ('trf5', DecisionTreeClassifier())])"
      ]
     },
     "execution_count": 24,
     "metadata": {},
     "output_type": "execute_result"
    }
   ],
   "source": [
    "# train\n",
    "pipe_dec.fit(X_train,y_train)"
   ]
  },
  {
   "cell_type": "code",
   "execution_count": 25,
   "id": "3a1e40fb",
   "metadata": {
    "execution": {
     "iopub.execute_input": "2022-09-30T05:48:15.434197Z",
     "iopub.status.busy": "2022-09-30T05:48:15.432709Z",
     "iopub.status.idle": "2022-09-30T05:48:15.450603Z",
     "shell.execute_reply": "2022-09-30T05:48:15.449185Z"
    },
    "papermill": {
     "duration": 0.041761,
     "end_time": "2022-09-30T05:48:15.452644",
     "exception": false,
     "start_time": "2022-09-30T05:48:15.410883",
     "status": "completed"
    },
    "tags": []
   },
   "outputs": [
    {
     "name": "stdout",
     "output_type": "stream",
     "text": [
      "Accuracy Score:  65.0 %\n"
     ]
    }
   ],
   "source": [
    "# Predict\n",
    "y_pred = pipe_dec.predict(X_test)\n",
    "\n",
    "from sklearn.metrics import accuracy_score\n",
    "print(\"Accuracy Score: \",accuracy_score(y_test,y_pred).round(2)*100,\"%\")"
   ]
  },
  {
   "cell_type": "code",
   "execution_count": 26,
   "id": "5d7b914c",
   "metadata": {
    "execution": {
     "iopub.execute_input": "2022-09-30T05:48:15.497434Z",
     "iopub.status.busy": "2022-09-30T05:48:15.496409Z",
     "iopub.status.idle": "2022-09-30T05:48:15.819037Z",
     "shell.execute_reply": "2022-09-30T05:48:15.817577Z"
    },
    "papermill": {
     "duration": 0.347964,
     "end_time": "2022-09-30T05:48:15.821901",
     "exception": false,
     "start_time": "2022-09-30T05:48:15.473937",
     "status": "completed"
    },
    "tags": []
   },
   "outputs": [
    {
     "name": "stdout",
     "output_type": "stream",
     "text": [
      "cross_val_score     :  [69.7 69.4 69.4 69.4 69.4] %\n",
      "\u001b[1m--------------------------------------------------------\u001b[0m\n",
      "cross_val_score mean:  69.0 %\n"
     ]
    }
   ],
   "source": [
    "# cross validation using cross_val_score\n",
    "from sklearn.model_selection import cross_val_score\n",
    "\n",
    "print(\"cross_val_score     : \",cross_val_score(pipe_dec, X_train, y_train, cv=5, scoring='accuracy').round(3)*100,\"%\")\n",
    "print(\"\\033[1m--------------------------------------------------------\\033[0m\")\n",
    "print(\"cross_val_score mean: \",cross_val_score(pipe_dec, X_train, y_train, cv=5, scoring='accuracy').mean().round(2)*100,\"%\")"
   ]
  },
  {
   "cell_type": "code",
   "execution_count": 27,
   "id": "deb1c50b",
   "metadata": {
    "execution": {
     "iopub.execute_input": "2022-09-30T05:48:15.866842Z",
     "iopub.status.busy": "2022-09-30T05:48:15.866504Z",
     "iopub.status.idle": "2022-09-30T05:48:15.871712Z",
     "shell.execute_reply": "2022-09-30T05:48:15.870663Z"
    },
    "papermill": {
     "duration": 0.029383,
     "end_time": "2022-09-30T05:48:15.873779",
     "exception": false,
     "start_time": "2022-09-30T05:48:15.844396",
     "status": "completed"
    },
    "tags": []
   },
   "outputs": [],
   "source": [
    "# gridsearchcv\n",
    "params = {\n",
    "    'trf5__max_depth':[1,2,3,4,5,None]\n",
    "}\n",
    "\n",
    "from sklearn.model_selection import GridSearchCV\n",
    "grid_dec = GridSearchCV(pipe_dec, params, cv=5, scoring='accuracy')"
   ]
  },
  {
   "cell_type": "code",
   "execution_count": 28,
   "id": "c0dbb318",
   "metadata": {
    "execution": {
     "iopub.execute_input": "2022-09-30T05:48:15.916947Z",
     "iopub.status.busy": "2022-09-30T05:48:15.916615Z",
     "iopub.status.idle": "2022-09-30T05:48:17.095684Z",
     "shell.execute_reply": "2022-09-30T05:48:17.094434Z"
    },
    "papermill": {
     "duration": 1.203609,
     "end_time": "2022-09-30T05:48:17.098504",
     "exception": false,
     "start_time": "2022-09-30T05:48:15.894895",
     "status": "completed"
    },
    "tags": []
   },
   "outputs": [
    {
     "data": {
      "text/html": [
       "<style>#sk-11f6ac9b-a95f-4193-9ca2-060dd402e30f {color: black;background-color: white;}#sk-11f6ac9b-a95f-4193-9ca2-060dd402e30f pre{padding: 0;}#sk-11f6ac9b-a95f-4193-9ca2-060dd402e30f div.sk-toggleable {background-color: white;}#sk-11f6ac9b-a95f-4193-9ca2-060dd402e30f label.sk-toggleable__label {cursor: pointer;display: block;width: 100%;margin-bottom: 0;padding: 0.3em;box-sizing: border-box;text-align: center;}#sk-11f6ac9b-a95f-4193-9ca2-060dd402e30f label.sk-toggleable__label-arrow:before {content: \"▸\";float: left;margin-right: 0.25em;color: #696969;}#sk-11f6ac9b-a95f-4193-9ca2-060dd402e30f label.sk-toggleable__label-arrow:hover:before {color: black;}#sk-11f6ac9b-a95f-4193-9ca2-060dd402e30f div.sk-estimator:hover label.sk-toggleable__label-arrow:before {color: black;}#sk-11f6ac9b-a95f-4193-9ca2-060dd402e30f div.sk-toggleable__content {max-height: 0;max-width: 0;overflow: hidden;text-align: left;background-color: #f0f8ff;}#sk-11f6ac9b-a95f-4193-9ca2-060dd402e30f div.sk-toggleable__content pre {margin: 0.2em;color: black;border-radius: 0.25em;background-color: #f0f8ff;}#sk-11f6ac9b-a95f-4193-9ca2-060dd402e30f input.sk-toggleable__control:checked~div.sk-toggleable__content {max-height: 200px;max-width: 100%;overflow: auto;}#sk-11f6ac9b-a95f-4193-9ca2-060dd402e30f input.sk-toggleable__control:checked~label.sk-toggleable__label-arrow:before {content: \"▾\";}#sk-11f6ac9b-a95f-4193-9ca2-060dd402e30f div.sk-estimator input.sk-toggleable__control:checked~label.sk-toggleable__label {background-color: #d4ebff;}#sk-11f6ac9b-a95f-4193-9ca2-060dd402e30f div.sk-label input.sk-toggleable__control:checked~label.sk-toggleable__label {background-color: #d4ebff;}#sk-11f6ac9b-a95f-4193-9ca2-060dd402e30f input.sk-hidden--visually {border: 0;clip: rect(1px 1px 1px 1px);clip: rect(1px, 1px, 1px, 1px);height: 1px;margin: -1px;overflow: hidden;padding: 0;position: absolute;width: 1px;}#sk-11f6ac9b-a95f-4193-9ca2-060dd402e30f div.sk-estimator {font-family: monospace;background-color: #f0f8ff;border: 1px dotted black;border-radius: 0.25em;box-sizing: border-box;margin-bottom: 0.5em;}#sk-11f6ac9b-a95f-4193-9ca2-060dd402e30f div.sk-estimator:hover {background-color: #d4ebff;}#sk-11f6ac9b-a95f-4193-9ca2-060dd402e30f div.sk-parallel-item::after {content: \"\";width: 100%;border-bottom: 1px solid gray;flex-grow: 1;}#sk-11f6ac9b-a95f-4193-9ca2-060dd402e30f div.sk-label:hover label.sk-toggleable__label {background-color: #d4ebff;}#sk-11f6ac9b-a95f-4193-9ca2-060dd402e30f div.sk-serial::before {content: \"\";position: absolute;border-left: 1px solid gray;box-sizing: border-box;top: 2em;bottom: 0;left: 50%;}#sk-11f6ac9b-a95f-4193-9ca2-060dd402e30f div.sk-serial {display: flex;flex-direction: column;align-items: center;background-color: white;padding-right: 0.2em;padding-left: 0.2em;}#sk-11f6ac9b-a95f-4193-9ca2-060dd402e30f div.sk-item {z-index: 1;}#sk-11f6ac9b-a95f-4193-9ca2-060dd402e30f div.sk-parallel {display: flex;align-items: stretch;justify-content: center;background-color: white;}#sk-11f6ac9b-a95f-4193-9ca2-060dd402e30f div.sk-parallel::before {content: \"\";position: absolute;border-left: 1px solid gray;box-sizing: border-box;top: 2em;bottom: 0;left: 50%;}#sk-11f6ac9b-a95f-4193-9ca2-060dd402e30f div.sk-parallel-item {display: flex;flex-direction: column;position: relative;background-color: white;}#sk-11f6ac9b-a95f-4193-9ca2-060dd402e30f div.sk-parallel-item:first-child::after {align-self: flex-end;width: 50%;}#sk-11f6ac9b-a95f-4193-9ca2-060dd402e30f div.sk-parallel-item:last-child::after {align-self: flex-start;width: 50%;}#sk-11f6ac9b-a95f-4193-9ca2-060dd402e30f div.sk-parallel-item:only-child::after {width: 0;}#sk-11f6ac9b-a95f-4193-9ca2-060dd402e30f div.sk-dashed-wrapped {border: 1px dashed gray;margin: 0 0.4em 0.5em 0.4em;box-sizing: border-box;padding-bottom: 0.4em;background-color: white;position: relative;}#sk-11f6ac9b-a95f-4193-9ca2-060dd402e30f div.sk-label label {font-family: monospace;font-weight: bold;background-color: white;display: inline-block;line-height: 1.2em;}#sk-11f6ac9b-a95f-4193-9ca2-060dd402e30f div.sk-label-container {position: relative;z-index: 2;text-align: center;}#sk-11f6ac9b-a95f-4193-9ca2-060dd402e30f div.sk-container {/* jupyter's `normalize.less` sets `[hidden] { display: none; }` but bootstrap.min.css set `[hidden] { display: none !important; }` so we also need the `!important` here to be able to override the default hidden behavior on the sphinx rendered scikit-learn.org. See: https://github.com/scikit-learn/scikit-learn/issues/21755 */display: inline-block !important;position: relative;}#sk-11f6ac9b-a95f-4193-9ca2-060dd402e30f div.sk-text-repr-fallback {display: none;}</style><div id=\"sk-11f6ac9b-a95f-4193-9ca2-060dd402e30f\" class=\"sk-top-container\"><div class=\"sk-text-repr-fallback\"><pre>GridSearchCV(cv=5,\n",
       "             estimator=Pipeline(steps=[(&#x27;trf1&#x27;,\n",
       "                                        ColumnTransformer(remainder=&#x27;passthrough&#x27;,\n",
       "                                                          transformers=[(&#x27;mean_imputer&#x27;,\n",
       "                                                                         Pipeline(steps=[(&#x27;imputer&#x27;,\n",
       "                                                                                          SimpleImputer())]),\n",
       "                                                                         [&#x27;LoanAmount&#x27;]),\n",
       "                                                                        (&#x27;most_frequent_imputer&#x27;,\n",
       "                                                                         Pipeline(steps=[(&#x27;imputer&#x27;,\n",
       "                                                                                          SimpleImputer(strategy=&#x27;most_frequent&#x27;))]),\n",
       "                                                                         [&#x27;Loan_Amount_Term&#x27;,\n",
       "                                                                          &#x27;Gender&#x27;,\n",
       "                                                                          &#x27;Married&#x27;,\n",
       "                                                                          &#x27;Self_Employed&#x27;,\n",
       "                                                                          &#x27;Credit_Histor...\n",
       "                                        ColumnTransformer(remainder=&#x27;passthrough&#x27;,\n",
       "                                                          transformers=[(&#x27;ohe&#x27;,\n",
       "                                                                         OneHotEncoder(handle_unknown=&#x27;ignore&#x27;,\n",
       "                                                                                       sparse=False),\n",
       "                                                                         [0, 1,\n",
       "                                                                          3, 4,\n",
       "                                                                          10])])),\n",
       "                                       (&#x27;trf3&#x27;,\n",
       "                                        ColumnTransformer(transformers=[(&#x27;scale&#x27;,\n",
       "                                                                         RobustScaler(),\n",
       "                                                                         slice(0, 20, None))])),\n",
       "                                       (&#x27;trf4&#x27;,\n",
       "                                        SelectKBest(k=8,\n",
       "                                                    score_func=&lt;function chi2 at 0x7f3d2dac2830&gt;)),\n",
       "                                       (&#x27;trf5&#x27;, DecisionTreeClassifier())]),\n",
       "             param_grid={&#x27;trf5__max_depth&#x27;: [1, 2, 3, 4, 5, None]},\n",
       "             scoring=&#x27;accuracy&#x27;)</pre><b>Please rerun this cell to show the HTML repr or trust the notebook.</b></div><div class=\"sk-container\" hidden><div class=\"sk-item sk-dashed-wrapped\"><div class=\"sk-label-container\"><div class=\"sk-label sk-toggleable\"><input class=\"sk-toggleable__control sk-hidden--visually\" id=\"ad1c34a5-c423-448e-b3d7-bc3fc1330525\" type=\"checkbox\" ><label for=\"ad1c34a5-c423-448e-b3d7-bc3fc1330525\" class=\"sk-toggleable__label sk-toggleable__label-arrow\">GridSearchCV</label><div class=\"sk-toggleable__content\"><pre>GridSearchCV(cv=5,\n",
       "             estimator=Pipeline(steps=[(&#x27;trf1&#x27;,\n",
       "                                        ColumnTransformer(remainder=&#x27;passthrough&#x27;,\n",
       "                                                          transformers=[(&#x27;mean_imputer&#x27;,\n",
       "                                                                         Pipeline(steps=[(&#x27;imputer&#x27;,\n",
       "                                                                                          SimpleImputer())]),\n",
       "                                                                         [&#x27;LoanAmount&#x27;]),\n",
       "                                                                        (&#x27;most_frequent_imputer&#x27;,\n",
       "                                                                         Pipeline(steps=[(&#x27;imputer&#x27;,\n",
       "                                                                                          SimpleImputer(strategy=&#x27;most_frequent&#x27;))]),\n",
       "                                                                         [&#x27;Loan_Amount_Term&#x27;,\n",
       "                                                                          &#x27;Gender&#x27;,\n",
       "                                                                          &#x27;Married&#x27;,\n",
       "                                                                          &#x27;Self_Employed&#x27;,\n",
       "                                                                          &#x27;Credit_Histor...\n",
       "                                        ColumnTransformer(remainder=&#x27;passthrough&#x27;,\n",
       "                                                          transformers=[(&#x27;ohe&#x27;,\n",
       "                                                                         OneHotEncoder(handle_unknown=&#x27;ignore&#x27;,\n",
       "                                                                                       sparse=False),\n",
       "                                                                         [0, 1,\n",
       "                                                                          3, 4,\n",
       "                                                                          10])])),\n",
       "                                       (&#x27;trf3&#x27;,\n",
       "                                        ColumnTransformer(transformers=[(&#x27;scale&#x27;,\n",
       "                                                                         RobustScaler(),\n",
       "                                                                         slice(0, 20, None))])),\n",
       "                                       (&#x27;trf4&#x27;,\n",
       "                                        SelectKBest(k=8,\n",
       "                                                    score_func=&lt;function chi2 at 0x7f3d2dac2830&gt;)),\n",
       "                                       (&#x27;trf5&#x27;, DecisionTreeClassifier())]),\n",
       "             param_grid={&#x27;trf5__max_depth&#x27;: [1, 2, 3, 4, 5, None]},\n",
       "             scoring=&#x27;accuracy&#x27;)</pre></div></div></div><div class=\"sk-parallel\"><div class=\"sk-parallel-item\"><div class=\"sk-item\"><div class=\"sk-serial\"><div class=\"sk-item\"><div class=\"sk-serial\"><div class=\"sk-item sk-dashed-wrapped\"><div class=\"sk-label-container\"><div class=\"sk-label sk-toggleable\"><input class=\"sk-toggleable__control sk-hidden--visually\" id=\"75a1330f-a36f-455b-bd69-1336f62b501c\" type=\"checkbox\" ><label for=\"75a1330f-a36f-455b-bd69-1336f62b501c\" class=\"sk-toggleable__label sk-toggleable__label-arrow\">trf1: ColumnTransformer</label><div class=\"sk-toggleable__content\"><pre>ColumnTransformer(remainder=&#x27;passthrough&#x27;,\n",
       "                  transformers=[(&#x27;mean_imputer&#x27;,\n",
       "                                 Pipeline(steps=[(&#x27;imputer&#x27;, SimpleImputer())]),\n",
       "                                 [&#x27;LoanAmount&#x27;]),\n",
       "                                (&#x27;most_frequent_imputer&#x27;,\n",
       "                                 Pipeline(steps=[(&#x27;imputer&#x27;,\n",
       "                                                  SimpleImputer(strategy=&#x27;most_frequent&#x27;))]),\n",
       "                                 [&#x27;Loan_Amount_Term&#x27;, &#x27;Gender&#x27;, &#x27;Married&#x27;,\n",
       "                                  &#x27;Self_Employed&#x27;, &#x27;Credit_History&#x27;,\n",
       "                                  &#x27;Dependents&#x27;])])</pre></div></div></div><div class=\"sk-parallel\"><div class=\"sk-parallel-item\"><div class=\"sk-item\"><div class=\"sk-label-container\"><div class=\"sk-label sk-toggleable\"><input class=\"sk-toggleable__control sk-hidden--visually\" id=\"e3ae0f07-974f-4e42-8713-a65db20ab9a0\" type=\"checkbox\" ><label for=\"e3ae0f07-974f-4e42-8713-a65db20ab9a0\" class=\"sk-toggleable__label sk-toggleable__label-arrow\">mean_imputer</label><div class=\"sk-toggleable__content\"><pre>[&#x27;LoanAmount&#x27;]</pre></div></div></div><div class=\"sk-serial\"><div class=\"sk-item\"><div class=\"sk-serial\"><div class=\"sk-item\"><div class=\"sk-estimator sk-toggleable\"><input class=\"sk-toggleable__control sk-hidden--visually\" id=\"01170c10-030c-48cf-848e-f935f83f3505\" type=\"checkbox\" ><label for=\"01170c10-030c-48cf-848e-f935f83f3505\" class=\"sk-toggleable__label sk-toggleable__label-arrow\">SimpleImputer</label><div class=\"sk-toggleable__content\"><pre>SimpleImputer()</pre></div></div></div></div></div></div></div></div><div class=\"sk-parallel-item\"><div class=\"sk-item\"><div class=\"sk-label-container\"><div class=\"sk-label sk-toggleable\"><input class=\"sk-toggleable__control sk-hidden--visually\" id=\"2b959037-68ce-4b1f-9e0d-f5091ed5d1dc\" type=\"checkbox\" ><label for=\"2b959037-68ce-4b1f-9e0d-f5091ed5d1dc\" class=\"sk-toggleable__label sk-toggleable__label-arrow\">most_frequent_imputer</label><div class=\"sk-toggleable__content\"><pre>[&#x27;Loan_Amount_Term&#x27;, &#x27;Gender&#x27;, &#x27;Married&#x27;, &#x27;Self_Employed&#x27;, &#x27;Credit_History&#x27;, &#x27;Dependents&#x27;]</pre></div></div></div><div class=\"sk-serial\"><div class=\"sk-item\"><div class=\"sk-serial\"><div class=\"sk-item\"><div class=\"sk-estimator sk-toggleable\"><input class=\"sk-toggleable__control sk-hidden--visually\" id=\"408fd3aa-4aa3-4b67-870d-3369f035823c\" type=\"checkbox\" ><label for=\"408fd3aa-4aa3-4b67-870d-3369f035823c\" class=\"sk-toggleable__label sk-toggleable__label-arrow\">SimpleImputer</label><div class=\"sk-toggleable__content\"><pre>SimpleImputer(strategy=&#x27;most_frequent&#x27;)</pre></div></div></div></div></div></div></div></div><div class=\"sk-parallel-item\"><div class=\"sk-item\"><div class=\"sk-label-container\"><div class=\"sk-label sk-toggleable\"><input class=\"sk-toggleable__control sk-hidden--visually\" id=\"9f1c500d-8628-4fac-832f-a82129dfcc0a\" type=\"checkbox\" ><label for=\"9f1c500d-8628-4fac-832f-a82129dfcc0a\" class=\"sk-toggleable__label sk-toggleable__label-arrow\">remainder</label><div class=\"sk-toggleable__content\"><pre>[&#x27;Education&#x27;, &#x27;ApplicantIncome&#x27;, &#x27;CoapplicantIncome&#x27;, &#x27;Property_Area&#x27;]</pre></div></div></div><div class=\"sk-serial\"><div class=\"sk-item\"><div class=\"sk-estimator sk-toggleable\"><input class=\"sk-toggleable__control sk-hidden--visually\" id=\"43e16277-3dfd-4e18-b34d-e843744e319f\" type=\"checkbox\" ><label for=\"43e16277-3dfd-4e18-b34d-e843744e319f\" class=\"sk-toggleable__label sk-toggleable__label-arrow\">passthrough</label><div class=\"sk-toggleable__content\"><pre>passthrough</pre></div></div></div></div></div></div></div></div><div class=\"sk-item sk-dashed-wrapped\"><div class=\"sk-label-container\"><div class=\"sk-label sk-toggleable\"><input class=\"sk-toggleable__control sk-hidden--visually\" id=\"0b08d886-d5de-4910-a198-8a8428b4c8cd\" type=\"checkbox\" ><label for=\"0b08d886-d5de-4910-a198-8a8428b4c8cd\" class=\"sk-toggleable__label sk-toggleable__label-arrow\">trf2: ColumnTransformer</label><div class=\"sk-toggleable__content\"><pre>ColumnTransformer(remainder=&#x27;passthrough&#x27;,\n",
       "                  transformers=[(&#x27;ohe&#x27;,\n",
       "                                 OneHotEncoder(handle_unknown=&#x27;ignore&#x27;,\n",
       "                                               sparse=False),\n",
       "                                 [0, 1, 3, 4, 10])])</pre></div></div></div><div class=\"sk-parallel\"><div class=\"sk-parallel-item\"><div class=\"sk-item\"><div class=\"sk-label-container\"><div class=\"sk-label sk-toggleable\"><input class=\"sk-toggleable__control sk-hidden--visually\" id=\"072a25b5-bc5a-4628-b6dc-1d155a19eb02\" type=\"checkbox\" ><label for=\"072a25b5-bc5a-4628-b6dc-1d155a19eb02\" class=\"sk-toggleable__label sk-toggleable__label-arrow\">ohe</label><div class=\"sk-toggleable__content\"><pre>[0, 1, 3, 4, 10]</pre></div></div></div><div class=\"sk-serial\"><div class=\"sk-item\"><div class=\"sk-estimator sk-toggleable\"><input class=\"sk-toggleable__control sk-hidden--visually\" id=\"df4da0f2-4742-4d7e-84df-bd64db742d26\" type=\"checkbox\" ><label for=\"df4da0f2-4742-4d7e-84df-bd64db742d26\" class=\"sk-toggleable__label sk-toggleable__label-arrow\">OneHotEncoder</label><div class=\"sk-toggleable__content\"><pre>OneHotEncoder(handle_unknown=&#x27;ignore&#x27;, sparse=False)</pre></div></div></div></div></div></div><div class=\"sk-parallel-item\"><div class=\"sk-item\"><div class=\"sk-label-container\"><div class=\"sk-label sk-toggleable\"><input class=\"sk-toggleable__control sk-hidden--visually\" id=\"f0b10f22-b030-48de-9f0b-9dfc7523fa5b\" type=\"checkbox\" ><label for=\"f0b10f22-b030-48de-9f0b-9dfc7523fa5b\" class=\"sk-toggleable__label sk-toggleable__label-arrow\">remainder</label><div class=\"sk-toggleable__content\"><pre>[2, 5, 6, 7, 8, 9]</pre></div></div></div><div class=\"sk-serial\"><div class=\"sk-item\"><div class=\"sk-estimator sk-toggleable\"><input class=\"sk-toggleable__control sk-hidden--visually\" id=\"9f6d3b6c-e969-4102-acf7-76bfbf3e1b38\" type=\"checkbox\" ><label for=\"9f6d3b6c-e969-4102-acf7-76bfbf3e1b38\" class=\"sk-toggleable__label sk-toggleable__label-arrow\">passthrough</label><div class=\"sk-toggleable__content\"><pre>passthrough</pre></div></div></div></div></div></div></div></div><div class=\"sk-item sk-dashed-wrapped\"><div class=\"sk-label-container\"><div class=\"sk-label sk-toggleable\"><input class=\"sk-toggleable__control sk-hidden--visually\" id=\"ca01a7c8-c4c8-4b23-b355-d6bf7afc9c13\" type=\"checkbox\" ><label for=\"ca01a7c8-c4c8-4b23-b355-d6bf7afc9c13\" class=\"sk-toggleable__label sk-toggleable__label-arrow\">trf3: ColumnTransformer</label><div class=\"sk-toggleable__content\"><pre>ColumnTransformer(transformers=[(&#x27;scale&#x27;, RobustScaler(), slice(0, 20, None))])</pre></div></div></div><div class=\"sk-parallel\"><div class=\"sk-parallel-item\"><div class=\"sk-item\"><div class=\"sk-label-container\"><div class=\"sk-label sk-toggleable\"><input class=\"sk-toggleable__control sk-hidden--visually\" id=\"f1922f54-75bf-4d72-9425-68c2d16d3a8b\" type=\"checkbox\" ><label for=\"f1922f54-75bf-4d72-9425-68c2d16d3a8b\" class=\"sk-toggleable__label sk-toggleable__label-arrow\">scale</label><div class=\"sk-toggleable__content\"><pre>slice(0, 20, None)</pre></div></div></div><div class=\"sk-serial\"><div class=\"sk-item\"><div class=\"sk-estimator sk-toggleable\"><input class=\"sk-toggleable__control sk-hidden--visually\" id=\"802f3af6-0551-45b9-b312-cf53a48cef7d\" type=\"checkbox\" ><label for=\"802f3af6-0551-45b9-b312-cf53a48cef7d\" class=\"sk-toggleable__label sk-toggleable__label-arrow\">RobustScaler</label><div class=\"sk-toggleable__content\"><pre>RobustScaler()</pre></div></div></div></div></div></div></div></div><div class=\"sk-item\"><div class=\"sk-estimator sk-toggleable\"><input class=\"sk-toggleable__control sk-hidden--visually\" id=\"f8726bef-4173-4214-9306-5e9dd29ef73e\" type=\"checkbox\" ><label for=\"f8726bef-4173-4214-9306-5e9dd29ef73e\" class=\"sk-toggleable__label sk-toggleable__label-arrow\">SelectKBest</label><div class=\"sk-toggleable__content\"><pre>SelectKBest(k=8, score_func=&lt;function chi2 at 0x7f3d2dac2830&gt;)</pre></div></div></div><div class=\"sk-item\"><div class=\"sk-estimator sk-toggleable\"><input class=\"sk-toggleable__control sk-hidden--visually\" id=\"281c0e2a-1572-4d49-9f02-ba915d228136\" type=\"checkbox\" ><label for=\"281c0e2a-1572-4d49-9f02-ba915d228136\" class=\"sk-toggleable__label sk-toggleable__label-arrow\">DecisionTreeClassifier</label><div class=\"sk-toggleable__content\"><pre>DecisionTreeClassifier()</pre></div></div></div></div></div></div></div></div></div></div></div></div>"
      ],
      "text/plain": [
       "GridSearchCV(cv=5,\n",
       "             estimator=Pipeline(steps=[('trf1',\n",
       "                                        ColumnTransformer(remainder='passthrough',\n",
       "                                                          transformers=[('mean_imputer',\n",
       "                                                                         Pipeline(steps=[('imputer',\n",
       "                                                                                          SimpleImputer())]),\n",
       "                                                                         ['LoanAmount']),\n",
       "                                                                        ('most_frequent_imputer',\n",
       "                                                                         Pipeline(steps=[('imputer',\n",
       "                                                                                          SimpleImputer(strategy='most_frequent'))]),\n",
       "                                                                         ['Loan_Amount_Term',\n",
       "                                                                          'Gender',\n",
       "                                                                          'Married',\n",
       "                                                                          'Self_Employed',\n",
       "                                                                          'Credit_Histor...\n",
       "                                        ColumnTransformer(remainder='passthrough',\n",
       "                                                          transformers=[('ohe',\n",
       "                                                                         OneHotEncoder(handle_unknown='ignore',\n",
       "                                                                                       sparse=False),\n",
       "                                                                         [0, 1,\n",
       "                                                                          3, 4,\n",
       "                                                                          10])])),\n",
       "                                       ('trf3',\n",
       "                                        ColumnTransformer(transformers=[('scale',\n",
       "                                                                         RobustScaler(),\n",
       "                                                                         slice(0, 20, None))])),\n",
       "                                       ('trf4',\n",
       "                                        SelectKBest(k=8,\n",
       "                                                    score_func=<function chi2 at 0x7f3d2dac2830>)),\n",
       "                                       ('trf5', DecisionTreeClassifier())]),\n",
       "             param_grid={'trf5__max_depth': [1, 2, 3, 4, 5, None]},\n",
       "             scoring='accuracy')"
      ]
     },
     "execution_count": 28,
     "metadata": {},
     "output_type": "execute_result"
    }
   ],
   "source": [
    "grid_dec.fit(X_train, y_train)"
   ]
  },
  {
   "cell_type": "code",
   "execution_count": 29,
   "id": "f7aeaaba",
   "metadata": {
    "execution": {
     "iopub.execute_input": "2022-09-30T05:48:17.165178Z",
     "iopub.status.busy": "2022-09-30T05:48:17.164589Z",
     "iopub.status.idle": "2022-09-30T05:48:17.171051Z",
     "shell.execute_reply": "2022-09-30T05:48:17.169705Z"
    },
    "papermill": {
     "duration": 0.04841,
     "end_time": "2022-09-30T05:48:17.179642",
     "exception": false,
     "start_time": "2022-09-30T05:48:17.131232",
     "status": "completed"
    },
    "tags": []
   },
   "outputs": [
    {
     "name": "stdout",
     "output_type": "stream",
     "text": [
      "Grid Best Score:  70.0 %\n"
     ]
    }
   ],
   "source": [
    "print(\"Grid Best Score: \", grid_dec.best_score_.round(2)*100,\"%\")"
   ]
  },
  {
   "cell_type": "code",
   "execution_count": 30,
   "id": "89cc9727",
   "metadata": {
    "execution": {
     "iopub.execute_input": "2022-09-30T05:48:17.245162Z",
     "iopub.status.busy": "2022-09-30T05:48:17.244820Z",
     "iopub.status.idle": "2022-09-30T05:48:17.250216Z",
     "shell.execute_reply": "2022-09-30T05:48:17.249306Z"
    },
    "papermill": {
     "duration": 0.041544,
     "end_time": "2022-09-30T05:48:17.253100",
     "exception": false,
     "start_time": "2022-09-30T05:48:17.211556",
     "status": "completed"
    },
    "tags": []
   },
   "outputs": [
    {
     "name": "stdout",
     "output_type": "stream",
     "text": [
      "Grid Best Parameter:  {'trf5__max_depth': 1}\n"
     ]
    }
   ],
   "source": [
    "print(\"Grid Best Parameter: \", grid_dec.best_params_)"
   ]
  },
  {
   "cell_type": "code",
   "execution_count": 31,
   "id": "1de4c207",
   "metadata": {
    "execution": {
     "iopub.execute_input": "2022-09-30T05:48:17.318541Z",
     "iopub.status.busy": "2022-09-30T05:48:17.318180Z",
     "iopub.status.idle": "2022-09-30T05:48:17.370934Z",
     "shell.execute_reply": "2022-09-30T05:48:17.369001Z"
    },
    "papermill": {
     "duration": 0.089178,
     "end_time": "2022-09-30T05:48:17.374168",
     "exception": false,
     "start_time": "2022-09-30T05:48:17.284990",
     "status": "completed"
    },
    "tags": []
   },
   "outputs": [
    {
     "name": "stdout",
     "output_type": "stream",
     "text": [
      "Training Accuracy with GridSearch : 69.86 %\n",
      "Model Accuracy with GridSearch    : 70.0 %\n"
     ]
    }
   ],
   "source": [
    "### Using the best parameters from the grid-search.\n",
    "dec_grid = grid_dec.best_estimator_\n",
    "\n",
    "decision_train_grid = round(dec_grid.score(X_train, y_train) * 100, 2)\n",
    "decision_accuracy_grid = dec_grid.score(X_train,y_train).round(2)*100\n",
    "\n",
    "print(\"Training Accuracy with GridSearch :\",decision_train_grid  ,\"%\")\n",
    "print(\"Model Accuracy with GridSearch    :\",decision_accuracy_grid ,\"%\")"
   ]
  },
  {
   "cell_type": "markdown",
   "id": "b45d6132",
   "metadata": {
    "papermill": {
     "duration": 0.031131,
     "end_time": "2022-09-30T05:48:17.437509",
     "exception": false,
     "start_time": "2022-09-30T05:48:17.406378",
     "status": "completed"
    },
    "tags": []
   },
   "source": [
    "<h1 style=\"color:Orange;font-size:45px;font-family:Georgia;text-align:center;\"> 📚 <strong style=\"color:Orange;font-size:40px;font-family:serif;\"> LogisticRegression Classifier </strong> 📚 </h1>"
   ]
  },
  {
   "cell_type": "code",
   "execution_count": 32,
   "id": "8d92b1ba",
   "metadata": {
    "execution": {
     "iopub.execute_input": "2022-09-30T05:48:17.503301Z",
     "iopub.status.busy": "2022-09-30T05:48:17.502933Z",
     "iopub.status.idle": "2022-09-30T05:48:17.513000Z",
     "shell.execute_reply": "2022-09-30T05:48:17.512070Z"
    },
    "papermill": {
     "duration": 0.037757,
     "end_time": "2022-09-30T05:48:17.515081",
     "exception": false,
     "start_time": "2022-09-30T05:48:17.477324",
     "status": "completed"
    },
    "tags": []
   },
   "outputs": [],
   "source": [
    "num_var_mean = ['LoanAmount']\n",
    "num_var_mostfrequent = ['Loan_Amount_Term','Gender','Married','Self_Employed','Credit_History','Dependents']\n",
    "num_no_missingvalue = ['Education','ApplicantIncome','CoapplicantIncome','Property_Area','Loan_Status']\n",
    "\n",
    "num_var_meanimputer = Pipeline(steps=[(\"imputer\",SimpleImputer(strategy='mean'))])\n",
    "num_var_most_frequent = Pipeline(steps=[(\"imputer\",SimpleImputer(strategy='most_frequent'))])\n",
    "\n",
    "# imputation transformer\n",
    "trf1 = ColumnTransformer([(\"mean_imputer\", num_var_meanimputer, num_var_mean),\n",
    "                        (\"most_frequent_imputer\", num_var_most_frequent, num_var_mostfrequent)\n",
    "    \n",
    "],remainder='passthrough')\n",
    "\n",
    "# one hot encoding\n",
    "trf2 = ColumnTransformer([\n",
    "    ('ohe',OneHotEncoder(sparse=False,handle_unknown='ignore'),[0,1,3,4,10])\n",
    "],remainder='passthrough')\n",
    "\n",
    "# Scaling\n",
    "trf3 = ColumnTransformer([\n",
    "    ('scale',RobustScaler(),slice(0,20))\n",
    "])\n",
    "\n",
    "# Feature selection\n",
    "trf4 = SelectKBest(score_func=chi2,k=8)\n",
    "\n",
    "# train the model\n",
    "trf5 = LogisticRegression()  \n",
    "\n",
    "pipe_lr = Pipeline([\n",
    "    ('trf1',trf1),\n",
    "    ('trf2',trf2),\n",
    "    ('trf3',trf3),\n",
    "    ('trf4',trf4),\n",
    "    ('trf5',trf5)\n",
    "])"
   ]
  },
  {
   "cell_type": "code",
   "execution_count": 33,
   "id": "04ad5306",
   "metadata": {
    "execution": {
     "iopub.execute_input": "2022-09-30T05:48:17.562047Z",
     "iopub.status.busy": "2022-09-30T05:48:17.561153Z",
     "iopub.status.idle": "2022-09-30T05:48:17.573683Z",
     "shell.execute_reply": "2022-09-30T05:48:17.572689Z"
    },
    "papermill": {
     "duration": 0.03784,
     "end_time": "2022-09-30T05:48:17.575669",
     "exception": false,
     "start_time": "2022-09-30T05:48:17.537829",
     "status": "completed"
    },
    "tags": []
   },
   "outputs": [
    {
     "data": {
      "text/plain": [
       "{'trf1': ColumnTransformer(remainder='passthrough',\n",
       "                   transformers=[('mean_imputer',\n",
       "                                  Pipeline(steps=[('imputer', SimpleImputer())]),\n",
       "                                  ['LoanAmount']),\n",
       "                                 ('most_frequent_imputer',\n",
       "                                  Pipeline(steps=[('imputer',\n",
       "                                                   SimpleImputer(strategy='most_frequent'))]),\n",
       "                                  ['Loan_Amount_Term', 'Gender', 'Married',\n",
       "                                   'Self_Employed', 'Credit_History',\n",
       "                                   'Dependents'])]),\n",
       " 'trf2': ColumnTransformer(remainder='passthrough',\n",
       "                   transformers=[('ohe',\n",
       "                                  OneHotEncoder(handle_unknown='ignore',\n",
       "                                                sparse=False),\n",
       "                                  [0, 1, 3, 4, 10])]),\n",
       " 'trf3': ColumnTransformer(transformers=[('scale', RobustScaler(), slice(0, 20, None))]),\n",
       " 'trf4': SelectKBest(k=8, score_func=<function chi2 at 0x7f3d2dac2830>),\n",
       " 'trf5': LogisticRegression()}"
      ]
     },
     "execution_count": 33,
     "metadata": {},
     "output_type": "execute_result"
    }
   ],
   "source": [
    "# Code here\n",
    "pipe_lr.named_steps"
   ]
  },
  {
   "cell_type": "code",
   "execution_count": 34,
   "id": "5df8b698",
   "metadata": {
    "execution": {
     "iopub.execute_input": "2022-09-30T05:48:17.621362Z",
     "iopub.status.busy": "2022-09-30T05:48:17.620577Z",
     "iopub.status.idle": "2022-09-30T05:48:17.700652Z",
     "shell.execute_reply": "2022-09-30T05:48:17.699623Z"
    },
    "papermill": {
     "duration": 0.1062,
     "end_time": "2022-09-30T05:48:17.703684",
     "exception": false,
     "start_time": "2022-09-30T05:48:17.597484",
     "status": "completed"
    },
    "tags": []
   },
   "outputs": [
    {
     "data": {
      "text/html": [
       "<style>#sk-6b18fc3c-00aa-4439-90e3-0cc99367cf30 {color: black;background-color: white;}#sk-6b18fc3c-00aa-4439-90e3-0cc99367cf30 pre{padding: 0;}#sk-6b18fc3c-00aa-4439-90e3-0cc99367cf30 div.sk-toggleable {background-color: white;}#sk-6b18fc3c-00aa-4439-90e3-0cc99367cf30 label.sk-toggleable__label {cursor: pointer;display: block;width: 100%;margin-bottom: 0;padding: 0.3em;box-sizing: border-box;text-align: center;}#sk-6b18fc3c-00aa-4439-90e3-0cc99367cf30 label.sk-toggleable__label-arrow:before {content: \"▸\";float: left;margin-right: 0.25em;color: #696969;}#sk-6b18fc3c-00aa-4439-90e3-0cc99367cf30 label.sk-toggleable__label-arrow:hover:before {color: black;}#sk-6b18fc3c-00aa-4439-90e3-0cc99367cf30 div.sk-estimator:hover label.sk-toggleable__label-arrow:before {color: black;}#sk-6b18fc3c-00aa-4439-90e3-0cc99367cf30 div.sk-toggleable__content {max-height: 0;max-width: 0;overflow: hidden;text-align: left;background-color: #f0f8ff;}#sk-6b18fc3c-00aa-4439-90e3-0cc99367cf30 div.sk-toggleable__content pre {margin: 0.2em;color: black;border-radius: 0.25em;background-color: #f0f8ff;}#sk-6b18fc3c-00aa-4439-90e3-0cc99367cf30 input.sk-toggleable__control:checked~div.sk-toggleable__content {max-height: 200px;max-width: 100%;overflow: auto;}#sk-6b18fc3c-00aa-4439-90e3-0cc99367cf30 input.sk-toggleable__control:checked~label.sk-toggleable__label-arrow:before {content: \"▾\";}#sk-6b18fc3c-00aa-4439-90e3-0cc99367cf30 div.sk-estimator input.sk-toggleable__control:checked~label.sk-toggleable__label {background-color: #d4ebff;}#sk-6b18fc3c-00aa-4439-90e3-0cc99367cf30 div.sk-label input.sk-toggleable__control:checked~label.sk-toggleable__label {background-color: #d4ebff;}#sk-6b18fc3c-00aa-4439-90e3-0cc99367cf30 input.sk-hidden--visually {border: 0;clip: rect(1px 1px 1px 1px);clip: rect(1px, 1px, 1px, 1px);height: 1px;margin: -1px;overflow: hidden;padding: 0;position: absolute;width: 1px;}#sk-6b18fc3c-00aa-4439-90e3-0cc99367cf30 div.sk-estimator {font-family: monospace;background-color: #f0f8ff;border: 1px dotted black;border-radius: 0.25em;box-sizing: border-box;margin-bottom: 0.5em;}#sk-6b18fc3c-00aa-4439-90e3-0cc99367cf30 div.sk-estimator:hover {background-color: #d4ebff;}#sk-6b18fc3c-00aa-4439-90e3-0cc99367cf30 div.sk-parallel-item::after {content: \"\";width: 100%;border-bottom: 1px solid gray;flex-grow: 1;}#sk-6b18fc3c-00aa-4439-90e3-0cc99367cf30 div.sk-label:hover label.sk-toggleable__label {background-color: #d4ebff;}#sk-6b18fc3c-00aa-4439-90e3-0cc99367cf30 div.sk-serial::before {content: \"\";position: absolute;border-left: 1px solid gray;box-sizing: border-box;top: 2em;bottom: 0;left: 50%;}#sk-6b18fc3c-00aa-4439-90e3-0cc99367cf30 div.sk-serial {display: flex;flex-direction: column;align-items: center;background-color: white;padding-right: 0.2em;padding-left: 0.2em;}#sk-6b18fc3c-00aa-4439-90e3-0cc99367cf30 div.sk-item {z-index: 1;}#sk-6b18fc3c-00aa-4439-90e3-0cc99367cf30 div.sk-parallel {display: flex;align-items: stretch;justify-content: center;background-color: white;}#sk-6b18fc3c-00aa-4439-90e3-0cc99367cf30 div.sk-parallel::before {content: \"\";position: absolute;border-left: 1px solid gray;box-sizing: border-box;top: 2em;bottom: 0;left: 50%;}#sk-6b18fc3c-00aa-4439-90e3-0cc99367cf30 div.sk-parallel-item {display: flex;flex-direction: column;position: relative;background-color: white;}#sk-6b18fc3c-00aa-4439-90e3-0cc99367cf30 div.sk-parallel-item:first-child::after {align-self: flex-end;width: 50%;}#sk-6b18fc3c-00aa-4439-90e3-0cc99367cf30 div.sk-parallel-item:last-child::after {align-self: flex-start;width: 50%;}#sk-6b18fc3c-00aa-4439-90e3-0cc99367cf30 div.sk-parallel-item:only-child::after {width: 0;}#sk-6b18fc3c-00aa-4439-90e3-0cc99367cf30 div.sk-dashed-wrapped {border: 1px dashed gray;margin: 0 0.4em 0.5em 0.4em;box-sizing: border-box;padding-bottom: 0.4em;background-color: white;position: relative;}#sk-6b18fc3c-00aa-4439-90e3-0cc99367cf30 div.sk-label label {font-family: monospace;font-weight: bold;background-color: white;display: inline-block;line-height: 1.2em;}#sk-6b18fc3c-00aa-4439-90e3-0cc99367cf30 div.sk-label-container {position: relative;z-index: 2;text-align: center;}#sk-6b18fc3c-00aa-4439-90e3-0cc99367cf30 div.sk-container {/* jupyter's `normalize.less` sets `[hidden] { display: none; }` but bootstrap.min.css set `[hidden] { display: none !important; }` so we also need the `!important` here to be able to override the default hidden behavior on the sphinx rendered scikit-learn.org. See: https://github.com/scikit-learn/scikit-learn/issues/21755 */display: inline-block !important;position: relative;}#sk-6b18fc3c-00aa-4439-90e3-0cc99367cf30 div.sk-text-repr-fallback {display: none;}</style><div id=\"sk-6b18fc3c-00aa-4439-90e3-0cc99367cf30\" class=\"sk-top-container\"><div class=\"sk-text-repr-fallback\"><pre>Pipeline(steps=[(&#x27;trf1&#x27;,\n",
       "                 ColumnTransformer(remainder=&#x27;passthrough&#x27;,\n",
       "                                   transformers=[(&#x27;mean_imputer&#x27;,\n",
       "                                                  Pipeline(steps=[(&#x27;imputer&#x27;,\n",
       "                                                                   SimpleImputer())]),\n",
       "                                                  [&#x27;LoanAmount&#x27;]),\n",
       "                                                 (&#x27;most_frequent_imputer&#x27;,\n",
       "                                                  Pipeline(steps=[(&#x27;imputer&#x27;,\n",
       "                                                                   SimpleImputer(strategy=&#x27;most_frequent&#x27;))]),\n",
       "                                                  [&#x27;Loan_Amount_Term&#x27;, &#x27;Gender&#x27;,\n",
       "                                                   &#x27;Married&#x27;, &#x27;Self_Employed&#x27;,\n",
       "                                                   &#x27;Credit_History&#x27;,\n",
       "                                                   &#x27;Dependents&#x27;])])),\n",
       "                (&#x27;trf2&#x27;,\n",
       "                 ColumnTransformer(remainder=&#x27;passthrough&#x27;,\n",
       "                                   transformers=[(&#x27;ohe&#x27;,\n",
       "                                                  OneHotEncoder(handle_unknown=&#x27;ignore&#x27;,\n",
       "                                                                sparse=False),\n",
       "                                                  [0, 1, 3, 4, 10])])),\n",
       "                (&#x27;trf3&#x27;,\n",
       "                 ColumnTransformer(transformers=[(&#x27;scale&#x27;, RobustScaler(),\n",
       "                                                  slice(0, 20, None))])),\n",
       "                (&#x27;trf4&#x27;,\n",
       "                 SelectKBest(k=8,\n",
       "                             score_func=&lt;function chi2 at 0x7f3d2dac2830&gt;)),\n",
       "                (&#x27;trf5&#x27;, LogisticRegression())])</pre><b>Please rerun this cell to show the HTML repr or trust the notebook.</b></div><div class=\"sk-container\" hidden><div class=\"sk-item sk-dashed-wrapped\"><div class=\"sk-label-container\"><div class=\"sk-label sk-toggleable\"><input class=\"sk-toggleable__control sk-hidden--visually\" id=\"daedd6e6-5f33-46f0-b262-b233f124216f\" type=\"checkbox\" ><label for=\"daedd6e6-5f33-46f0-b262-b233f124216f\" class=\"sk-toggleable__label sk-toggleable__label-arrow\">Pipeline</label><div class=\"sk-toggleable__content\"><pre>Pipeline(steps=[(&#x27;trf1&#x27;,\n",
       "                 ColumnTransformer(remainder=&#x27;passthrough&#x27;,\n",
       "                                   transformers=[(&#x27;mean_imputer&#x27;,\n",
       "                                                  Pipeline(steps=[(&#x27;imputer&#x27;,\n",
       "                                                                   SimpleImputer())]),\n",
       "                                                  [&#x27;LoanAmount&#x27;]),\n",
       "                                                 (&#x27;most_frequent_imputer&#x27;,\n",
       "                                                  Pipeline(steps=[(&#x27;imputer&#x27;,\n",
       "                                                                   SimpleImputer(strategy=&#x27;most_frequent&#x27;))]),\n",
       "                                                  [&#x27;Loan_Amount_Term&#x27;, &#x27;Gender&#x27;,\n",
       "                                                   &#x27;Married&#x27;, &#x27;Self_Employed&#x27;,\n",
       "                                                   &#x27;Credit_History&#x27;,\n",
       "                                                   &#x27;Dependents&#x27;])])),\n",
       "                (&#x27;trf2&#x27;,\n",
       "                 ColumnTransformer(remainder=&#x27;passthrough&#x27;,\n",
       "                                   transformers=[(&#x27;ohe&#x27;,\n",
       "                                                  OneHotEncoder(handle_unknown=&#x27;ignore&#x27;,\n",
       "                                                                sparse=False),\n",
       "                                                  [0, 1, 3, 4, 10])])),\n",
       "                (&#x27;trf3&#x27;,\n",
       "                 ColumnTransformer(transformers=[(&#x27;scale&#x27;, RobustScaler(),\n",
       "                                                  slice(0, 20, None))])),\n",
       "                (&#x27;trf4&#x27;,\n",
       "                 SelectKBest(k=8,\n",
       "                             score_func=&lt;function chi2 at 0x7f3d2dac2830&gt;)),\n",
       "                (&#x27;trf5&#x27;, LogisticRegression())])</pre></div></div></div><div class=\"sk-serial\"><div class=\"sk-item sk-dashed-wrapped\"><div class=\"sk-label-container\"><div class=\"sk-label sk-toggleable\"><input class=\"sk-toggleable__control sk-hidden--visually\" id=\"315e72d0-2f5f-4eec-a6d8-b9c6012c947c\" type=\"checkbox\" ><label for=\"315e72d0-2f5f-4eec-a6d8-b9c6012c947c\" class=\"sk-toggleable__label sk-toggleable__label-arrow\">trf1: ColumnTransformer</label><div class=\"sk-toggleable__content\"><pre>ColumnTransformer(remainder=&#x27;passthrough&#x27;,\n",
       "                  transformers=[(&#x27;mean_imputer&#x27;,\n",
       "                                 Pipeline(steps=[(&#x27;imputer&#x27;, SimpleImputer())]),\n",
       "                                 [&#x27;LoanAmount&#x27;]),\n",
       "                                (&#x27;most_frequent_imputer&#x27;,\n",
       "                                 Pipeline(steps=[(&#x27;imputer&#x27;,\n",
       "                                                  SimpleImputer(strategy=&#x27;most_frequent&#x27;))]),\n",
       "                                 [&#x27;Loan_Amount_Term&#x27;, &#x27;Gender&#x27;, &#x27;Married&#x27;,\n",
       "                                  &#x27;Self_Employed&#x27;, &#x27;Credit_History&#x27;,\n",
       "                                  &#x27;Dependents&#x27;])])</pre></div></div></div><div class=\"sk-parallel\"><div class=\"sk-parallel-item\"><div class=\"sk-item\"><div class=\"sk-label-container\"><div class=\"sk-label sk-toggleable\"><input class=\"sk-toggleable__control sk-hidden--visually\" id=\"6e96b577-b9d0-473b-a078-e06467fb5eda\" type=\"checkbox\" ><label for=\"6e96b577-b9d0-473b-a078-e06467fb5eda\" class=\"sk-toggleable__label sk-toggleable__label-arrow\">mean_imputer</label><div class=\"sk-toggleable__content\"><pre>[&#x27;LoanAmount&#x27;]</pre></div></div></div><div class=\"sk-serial\"><div class=\"sk-item\"><div class=\"sk-serial\"><div class=\"sk-item\"><div class=\"sk-estimator sk-toggleable\"><input class=\"sk-toggleable__control sk-hidden--visually\" id=\"9b5c28dc-4254-4aa1-9aab-7d207c2a7aab\" type=\"checkbox\" ><label for=\"9b5c28dc-4254-4aa1-9aab-7d207c2a7aab\" class=\"sk-toggleable__label sk-toggleable__label-arrow\">SimpleImputer</label><div class=\"sk-toggleable__content\"><pre>SimpleImputer()</pre></div></div></div></div></div></div></div></div><div class=\"sk-parallel-item\"><div class=\"sk-item\"><div class=\"sk-label-container\"><div class=\"sk-label sk-toggleable\"><input class=\"sk-toggleable__control sk-hidden--visually\" id=\"ce5cb079-0798-4a5f-9eb2-40fe6fca4805\" type=\"checkbox\" ><label for=\"ce5cb079-0798-4a5f-9eb2-40fe6fca4805\" class=\"sk-toggleable__label sk-toggleable__label-arrow\">most_frequent_imputer</label><div class=\"sk-toggleable__content\"><pre>[&#x27;Loan_Amount_Term&#x27;, &#x27;Gender&#x27;, &#x27;Married&#x27;, &#x27;Self_Employed&#x27;, &#x27;Credit_History&#x27;, &#x27;Dependents&#x27;]</pre></div></div></div><div class=\"sk-serial\"><div class=\"sk-item\"><div class=\"sk-serial\"><div class=\"sk-item\"><div class=\"sk-estimator sk-toggleable\"><input class=\"sk-toggleable__control sk-hidden--visually\" id=\"5488021e-aef6-482d-9831-e00aa201010f\" type=\"checkbox\" ><label for=\"5488021e-aef6-482d-9831-e00aa201010f\" class=\"sk-toggleable__label sk-toggleable__label-arrow\">SimpleImputer</label><div class=\"sk-toggleable__content\"><pre>SimpleImputer(strategy=&#x27;most_frequent&#x27;)</pre></div></div></div></div></div></div></div></div><div class=\"sk-parallel-item\"><div class=\"sk-item\"><div class=\"sk-label-container\"><div class=\"sk-label sk-toggleable\"><input class=\"sk-toggleable__control sk-hidden--visually\" id=\"41434967-f162-45cf-b5fa-10665781f3fa\" type=\"checkbox\" ><label for=\"41434967-f162-45cf-b5fa-10665781f3fa\" class=\"sk-toggleable__label sk-toggleable__label-arrow\">remainder</label><div class=\"sk-toggleable__content\"><pre>[&#x27;Education&#x27;, &#x27;ApplicantIncome&#x27;, &#x27;CoapplicantIncome&#x27;, &#x27;Property_Area&#x27;]</pre></div></div></div><div class=\"sk-serial\"><div class=\"sk-item\"><div class=\"sk-estimator sk-toggleable\"><input class=\"sk-toggleable__control sk-hidden--visually\" id=\"2bff4a5c-92b5-4675-8de1-208947c17408\" type=\"checkbox\" ><label for=\"2bff4a5c-92b5-4675-8de1-208947c17408\" class=\"sk-toggleable__label sk-toggleable__label-arrow\">passthrough</label><div class=\"sk-toggleable__content\"><pre>passthrough</pre></div></div></div></div></div></div></div></div><div class=\"sk-item sk-dashed-wrapped\"><div class=\"sk-label-container\"><div class=\"sk-label sk-toggleable\"><input class=\"sk-toggleable__control sk-hidden--visually\" id=\"931256ac-c1ec-4dd6-b400-a9356ace57e4\" type=\"checkbox\" ><label for=\"931256ac-c1ec-4dd6-b400-a9356ace57e4\" class=\"sk-toggleable__label sk-toggleable__label-arrow\">trf2: ColumnTransformer</label><div class=\"sk-toggleable__content\"><pre>ColumnTransformer(remainder=&#x27;passthrough&#x27;,\n",
       "                  transformers=[(&#x27;ohe&#x27;,\n",
       "                                 OneHotEncoder(handle_unknown=&#x27;ignore&#x27;,\n",
       "                                               sparse=False),\n",
       "                                 [0, 1, 3, 4, 10])])</pre></div></div></div><div class=\"sk-parallel\"><div class=\"sk-parallel-item\"><div class=\"sk-item\"><div class=\"sk-label-container\"><div class=\"sk-label sk-toggleable\"><input class=\"sk-toggleable__control sk-hidden--visually\" id=\"52faf1e9-2083-43d9-873d-55bb17dd5695\" type=\"checkbox\" ><label for=\"52faf1e9-2083-43d9-873d-55bb17dd5695\" class=\"sk-toggleable__label sk-toggleable__label-arrow\">ohe</label><div class=\"sk-toggleable__content\"><pre>[0, 1, 3, 4, 10]</pre></div></div></div><div class=\"sk-serial\"><div class=\"sk-item\"><div class=\"sk-estimator sk-toggleable\"><input class=\"sk-toggleable__control sk-hidden--visually\" id=\"67e693eb-a0e3-48de-8f67-634c051f9280\" type=\"checkbox\" ><label for=\"67e693eb-a0e3-48de-8f67-634c051f9280\" class=\"sk-toggleable__label sk-toggleable__label-arrow\">OneHotEncoder</label><div class=\"sk-toggleable__content\"><pre>OneHotEncoder(handle_unknown=&#x27;ignore&#x27;, sparse=False)</pre></div></div></div></div></div></div><div class=\"sk-parallel-item\"><div class=\"sk-item\"><div class=\"sk-label-container\"><div class=\"sk-label sk-toggleable\"><input class=\"sk-toggleable__control sk-hidden--visually\" id=\"8d272b78-c8b8-4dde-917d-8d9607753654\" type=\"checkbox\" ><label for=\"8d272b78-c8b8-4dde-917d-8d9607753654\" class=\"sk-toggleable__label sk-toggleable__label-arrow\">remainder</label><div class=\"sk-toggleable__content\"><pre>[2, 5, 6, 7, 8, 9]</pre></div></div></div><div class=\"sk-serial\"><div class=\"sk-item\"><div class=\"sk-estimator sk-toggleable\"><input class=\"sk-toggleable__control sk-hidden--visually\" id=\"62368233-55f9-4383-9355-b54c429151c5\" type=\"checkbox\" ><label for=\"62368233-55f9-4383-9355-b54c429151c5\" class=\"sk-toggleable__label sk-toggleable__label-arrow\">passthrough</label><div class=\"sk-toggleable__content\"><pre>passthrough</pre></div></div></div></div></div></div></div></div><div class=\"sk-item sk-dashed-wrapped\"><div class=\"sk-label-container\"><div class=\"sk-label sk-toggleable\"><input class=\"sk-toggleable__control sk-hidden--visually\" id=\"14790f33-4b33-44f4-a4fb-61a12c1f5d4a\" type=\"checkbox\" ><label for=\"14790f33-4b33-44f4-a4fb-61a12c1f5d4a\" class=\"sk-toggleable__label sk-toggleable__label-arrow\">trf3: ColumnTransformer</label><div class=\"sk-toggleable__content\"><pre>ColumnTransformer(transformers=[(&#x27;scale&#x27;, RobustScaler(), slice(0, 20, None))])</pre></div></div></div><div class=\"sk-parallel\"><div class=\"sk-parallel-item\"><div class=\"sk-item\"><div class=\"sk-label-container\"><div class=\"sk-label sk-toggleable\"><input class=\"sk-toggleable__control sk-hidden--visually\" id=\"31590868-eca2-4c5d-a306-f122c90eef61\" type=\"checkbox\" ><label for=\"31590868-eca2-4c5d-a306-f122c90eef61\" class=\"sk-toggleable__label sk-toggleable__label-arrow\">scale</label><div class=\"sk-toggleable__content\"><pre>slice(0, 20, None)</pre></div></div></div><div class=\"sk-serial\"><div class=\"sk-item\"><div class=\"sk-estimator sk-toggleable\"><input class=\"sk-toggleable__control sk-hidden--visually\" id=\"e4c7bb68-fcde-4d67-a1f3-686cb263cb84\" type=\"checkbox\" ><label for=\"e4c7bb68-fcde-4d67-a1f3-686cb263cb84\" class=\"sk-toggleable__label sk-toggleable__label-arrow\">RobustScaler</label><div class=\"sk-toggleable__content\"><pre>RobustScaler()</pre></div></div></div></div></div></div></div></div><div class=\"sk-item\"><div class=\"sk-estimator sk-toggleable\"><input class=\"sk-toggleable__control sk-hidden--visually\" id=\"fc44185e-25b0-4c98-a007-200be1c495a2\" type=\"checkbox\" ><label for=\"fc44185e-25b0-4c98-a007-200be1c495a2\" class=\"sk-toggleable__label sk-toggleable__label-arrow\">SelectKBest</label><div class=\"sk-toggleable__content\"><pre>SelectKBest(k=8, score_func=&lt;function chi2 at 0x7f3d2dac2830&gt;)</pre></div></div></div><div class=\"sk-item\"><div class=\"sk-estimator sk-toggleable\"><input class=\"sk-toggleable__control sk-hidden--visually\" id=\"79cd85ea-8369-42fb-b8e3-330f20b84f0f\" type=\"checkbox\" ><label for=\"79cd85ea-8369-42fb-b8e3-330f20b84f0f\" class=\"sk-toggleable__label sk-toggleable__label-arrow\">LogisticRegression</label><div class=\"sk-toggleable__content\"><pre>LogisticRegression()</pre></div></div></div></div></div></div></div>"
      ],
      "text/plain": [
       "Pipeline(steps=[('trf1',\n",
       "                 ColumnTransformer(remainder='passthrough',\n",
       "                                   transformers=[('mean_imputer',\n",
       "                                                  Pipeline(steps=[('imputer',\n",
       "                                                                   SimpleImputer())]),\n",
       "                                                  ['LoanAmount']),\n",
       "                                                 ('most_frequent_imputer',\n",
       "                                                  Pipeline(steps=[('imputer',\n",
       "                                                                   SimpleImputer(strategy='most_frequent'))]),\n",
       "                                                  ['Loan_Amount_Term', 'Gender',\n",
       "                                                   'Married', 'Self_Employed',\n",
       "                                                   'Credit_History',\n",
       "                                                   'Dependents'])])),\n",
       "                ('trf2',\n",
       "                 ColumnTransformer(remainder='passthrough',\n",
       "                                   transformers=[('ohe',\n",
       "                                                  OneHotEncoder(handle_unknown='ignore',\n",
       "                                                                sparse=False),\n",
       "                                                  [0, 1, 3, 4, 10])])),\n",
       "                ('trf3',\n",
       "                 ColumnTransformer(transformers=[('scale', RobustScaler(),\n",
       "                                                  slice(0, 20, None))])),\n",
       "                ('trf4',\n",
       "                 SelectKBest(k=8,\n",
       "                             score_func=<function chi2 at 0x7f3d2dac2830>)),\n",
       "                ('trf5', LogisticRegression())])"
      ]
     },
     "execution_count": 34,
     "metadata": {},
     "output_type": "execute_result"
    }
   ],
   "source": [
    "# train\n",
    "pipe_lr.fit(X_train,y_train)"
   ]
  },
  {
   "cell_type": "code",
   "execution_count": 35,
   "id": "32098786",
   "metadata": {
    "execution": {
     "iopub.execute_input": "2022-09-30T05:48:17.752162Z",
     "iopub.status.busy": "2022-09-30T05:48:17.750614Z",
     "iopub.status.idle": "2022-09-30T05:48:17.768288Z",
     "shell.execute_reply": "2022-09-30T05:48:17.766945Z"
    },
    "papermill": {
     "duration": 0.044018,
     "end_time": "2022-09-30T05:48:17.770513",
     "exception": false,
     "start_time": "2022-09-30T05:48:17.726495",
     "status": "completed"
    },
    "tags": []
   },
   "outputs": [
    {
     "name": "stdout",
     "output_type": "stream",
     "text": [
      "Accuracy Score:  65.0 %\n"
     ]
    }
   ],
   "source": [
    "# Predict\n",
    "y_pred = pipe_lr.predict(X_test)\n",
    "\n",
    "from sklearn.metrics import accuracy_score\n",
    "print(\"Accuracy Score: \",accuracy_score(y_test,y_pred).round(2)*100,\"%\")"
   ]
  },
  {
   "cell_type": "code",
   "execution_count": 36,
   "id": "993c5154",
   "metadata": {
    "execution": {
     "iopub.execute_input": "2022-09-30T05:48:17.817666Z",
     "iopub.status.busy": "2022-09-30T05:48:17.816571Z",
     "iopub.status.idle": "2022-09-30T05:48:18.177458Z",
     "shell.execute_reply": "2022-09-30T05:48:18.176208Z"
    },
    "papermill": {
     "duration": 0.38711,
     "end_time": "2022-09-30T05:48:18.180295",
     "exception": false,
     "start_time": "2022-09-30T05:48:17.793185",
     "status": "completed"
    },
    "tags": []
   },
   "outputs": [
    {
     "name": "stdout",
     "output_type": "stream",
     "text": [
      "cross_val_score     :  [69.7 69.4 69.4 69.4 70.4] %\n",
      "\u001b[1m--------------------------------------------------------\u001b[0m\n",
      "cross_val_score mean:  70.0 %\n"
     ]
    }
   ],
   "source": [
    "# cross validation using cross_val_score\n",
    "from sklearn.model_selection import cross_val_score\n",
    "\n",
    "print(\"cross_val_score     : \",cross_val_score(pipe_lr, X_train, y_train, cv=5, scoring='accuracy').round(3)*100,\"%\")\n",
    "print(\"\\033[1m--------------------------------------------------------\\033[0m\")\n",
    "print(\"cross_val_score mean: \",cross_val_score(pipe_lr, X_train, y_train, cv=5, scoring='accuracy').mean().round(2)*100,\"%\")"
   ]
  },
  {
   "cell_type": "code",
   "execution_count": 37,
   "id": "20313761",
   "metadata": {
    "execution": {
     "iopub.execute_input": "2022-09-30T05:48:18.229372Z",
     "iopub.status.busy": "2022-09-30T05:48:18.227866Z",
     "iopub.status.idle": "2022-09-30T05:48:34.815050Z",
     "shell.execute_reply": "2022-09-30T05:48:34.813968Z"
    },
    "papermill": {
     "duration": 16.612926,
     "end_time": "2022-09-30T05:48:34.817314",
     "exception": false,
     "start_time": "2022-09-30T05:48:18.204388",
     "status": "completed"
    },
    "tags": []
   },
   "outputs": [
    {
     "data": {
      "text/html": [
       "<style>#sk-a674d9a5-90f9-489c-b2f4-eef91b79f2e6 {color: black;background-color: white;}#sk-a674d9a5-90f9-489c-b2f4-eef91b79f2e6 pre{padding: 0;}#sk-a674d9a5-90f9-489c-b2f4-eef91b79f2e6 div.sk-toggleable {background-color: white;}#sk-a674d9a5-90f9-489c-b2f4-eef91b79f2e6 label.sk-toggleable__label {cursor: pointer;display: block;width: 100%;margin-bottom: 0;padding: 0.3em;box-sizing: border-box;text-align: center;}#sk-a674d9a5-90f9-489c-b2f4-eef91b79f2e6 label.sk-toggleable__label-arrow:before {content: \"▸\";float: left;margin-right: 0.25em;color: #696969;}#sk-a674d9a5-90f9-489c-b2f4-eef91b79f2e6 label.sk-toggleable__label-arrow:hover:before {color: black;}#sk-a674d9a5-90f9-489c-b2f4-eef91b79f2e6 div.sk-estimator:hover label.sk-toggleable__label-arrow:before {color: black;}#sk-a674d9a5-90f9-489c-b2f4-eef91b79f2e6 div.sk-toggleable__content {max-height: 0;max-width: 0;overflow: hidden;text-align: left;background-color: #f0f8ff;}#sk-a674d9a5-90f9-489c-b2f4-eef91b79f2e6 div.sk-toggleable__content pre {margin: 0.2em;color: black;border-radius: 0.25em;background-color: #f0f8ff;}#sk-a674d9a5-90f9-489c-b2f4-eef91b79f2e6 input.sk-toggleable__control:checked~div.sk-toggleable__content {max-height: 200px;max-width: 100%;overflow: auto;}#sk-a674d9a5-90f9-489c-b2f4-eef91b79f2e6 input.sk-toggleable__control:checked~label.sk-toggleable__label-arrow:before {content: \"▾\";}#sk-a674d9a5-90f9-489c-b2f4-eef91b79f2e6 div.sk-estimator input.sk-toggleable__control:checked~label.sk-toggleable__label {background-color: #d4ebff;}#sk-a674d9a5-90f9-489c-b2f4-eef91b79f2e6 div.sk-label input.sk-toggleable__control:checked~label.sk-toggleable__label {background-color: #d4ebff;}#sk-a674d9a5-90f9-489c-b2f4-eef91b79f2e6 input.sk-hidden--visually {border: 0;clip: rect(1px 1px 1px 1px);clip: rect(1px, 1px, 1px, 1px);height: 1px;margin: -1px;overflow: hidden;padding: 0;position: absolute;width: 1px;}#sk-a674d9a5-90f9-489c-b2f4-eef91b79f2e6 div.sk-estimator {font-family: monospace;background-color: #f0f8ff;border: 1px dotted black;border-radius: 0.25em;box-sizing: border-box;margin-bottom: 0.5em;}#sk-a674d9a5-90f9-489c-b2f4-eef91b79f2e6 div.sk-estimator:hover {background-color: #d4ebff;}#sk-a674d9a5-90f9-489c-b2f4-eef91b79f2e6 div.sk-parallel-item::after {content: \"\";width: 100%;border-bottom: 1px solid gray;flex-grow: 1;}#sk-a674d9a5-90f9-489c-b2f4-eef91b79f2e6 div.sk-label:hover label.sk-toggleable__label {background-color: #d4ebff;}#sk-a674d9a5-90f9-489c-b2f4-eef91b79f2e6 div.sk-serial::before {content: \"\";position: absolute;border-left: 1px solid gray;box-sizing: border-box;top: 2em;bottom: 0;left: 50%;}#sk-a674d9a5-90f9-489c-b2f4-eef91b79f2e6 div.sk-serial {display: flex;flex-direction: column;align-items: center;background-color: white;padding-right: 0.2em;padding-left: 0.2em;}#sk-a674d9a5-90f9-489c-b2f4-eef91b79f2e6 div.sk-item {z-index: 1;}#sk-a674d9a5-90f9-489c-b2f4-eef91b79f2e6 div.sk-parallel {display: flex;align-items: stretch;justify-content: center;background-color: white;}#sk-a674d9a5-90f9-489c-b2f4-eef91b79f2e6 div.sk-parallel::before {content: \"\";position: absolute;border-left: 1px solid gray;box-sizing: border-box;top: 2em;bottom: 0;left: 50%;}#sk-a674d9a5-90f9-489c-b2f4-eef91b79f2e6 div.sk-parallel-item {display: flex;flex-direction: column;position: relative;background-color: white;}#sk-a674d9a5-90f9-489c-b2f4-eef91b79f2e6 div.sk-parallel-item:first-child::after {align-self: flex-end;width: 50%;}#sk-a674d9a5-90f9-489c-b2f4-eef91b79f2e6 div.sk-parallel-item:last-child::after {align-self: flex-start;width: 50%;}#sk-a674d9a5-90f9-489c-b2f4-eef91b79f2e6 div.sk-parallel-item:only-child::after {width: 0;}#sk-a674d9a5-90f9-489c-b2f4-eef91b79f2e6 div.sk-dashed-wrapped {border: 1px dashed gray;margin: 0 0.4em 0.5em 0.4em;box-sizing: border-box;padding-bottom: 0.4em;background-color: white;position: relative;}#sk-a674d9a5-90f9-489c-b2f4-eef91b79f2e6 div.sk-label label {font-family: monospace;font-weight: bold;background-color: white;display: inline-block;line-height: 1.2em;}#sk-a674d9a5-90f9-489c-b2f4-eef91b79f2e6 div.sk-label-container {position: relative;z-index: 2;text-align: center;}#sk-a674d9a5-90f9-489c-b2f4-eef91b79f2e6 div.sk-container {/* jupyter's `normalize.less` sets `[hidden] { display: none; }` but bootstrap.min.css set `[hidden] { display: none !important; }` so we also need the `!important` here to be able to override the default hidden behavior on the sphinx rendered scikit-learn.org. See: https://github.com/scikit-learn/scikit-learn/issues/21755 */display: inline-block !important;position: relative;}#sk-a674d9a5-90f9-489c-b2f4-eef91b79f2e6 div.sk-text-repr-fallback {display: none;}</style><div id=\"sk-a674d9a5-90f9-489c-b2f4-eef91b79f2e6\" class=\"sk-top-container\"><div class=\"sk-text-repr-fallback\"><pre>GridSearchCV(cv=StratifiedShuffleSplit(n_splits=10, random_state=None, test_size=0.25,\n",
       "            train_size=None),\n",
       "             estimator=Pipeline(steps=[(&#x27;trf1&#x27;,\n",
       "                                        ColumnTransformer(remainder=&#x27;passthrough&#x27;,\n",
       "                                                          transformers=[(&#x27;mean_imputer&#x27;,\n",
       "                                                                         Pipeline(steps=[(&#x27;imputer&#x27;,\n",
       "                                                                                          SimpleImputer())]),\n",
       "                                                                         [&#x27;LoanAmount&#x27;]),\n",
       "                                                                        (&#x27;most_frequent_imputer&#x27;,\n",
       "                                                                         Pipeline(steps=[(&#x27;imputer&#x27;,\n",
       "                                                                                          SimpleImputer(strategy=&#x27;most_...\n",
       "                                       (&#x27;trf3&#x27;,\n",
       "                                        ColumnTransformer(transformers=[(&#x27;scale&#x27;,\n",
       "                                                                         RobustScaler(),\n",
       "                                                                         slice(0, 20, None))])),\n",
       "                                       (&#x27;trf4&#x27;,\n",
       "                                        SelectKBest(k=8,\n",
       "                                                    score_func=&lt;function chi2 at 0x7f3d2dac2830&gt;)),\n",
       "                                       (&#x27;trf5&#x27;, LogisticRegression())]),\n",
       "             n_jobs=-1,\n",
       "             param_grid={&#x27;trf5__C&#x27;: [0.2, 0.3, 0.4, 0.5, 0.6, 0.7, 0.8, 0.9, 1,\n",
       "                                     2, 3, 4, 5, 6, 7, 8, 9, 10, 12, 13, 14, 15,\n",
       "                                     16, 16.5, 17, 17.5, 18, 20, 25],\n",
       "                         &#x27;trf5__penalty&#x27;: [&#x27;l1&#x27;, &#x27;l2&#x27;]},\n",
       "             scoring=&#x27;accuracy&#x27;)</pre><b>Please rerun this cell to show the HTML repr or trust the notebook.</b></div><div class=\"sk-container\" hidden><div class=\"sk-item sk-dashed-wrapped\"><div class=\"sk-label-container\"><div class=\"sk-label sk-toggleable\"><input class=\"sk-toggleable__control sk-hidden--visually\" id=\"04461fdc-3624-4df5-9712-c7138c0fa128\" type=\"checkbox\" ><label for=\"04461fdc-3624-4df5-9712-c7138c0fa128\" class=\"sk-toggleable__label sk-toggleable__label-arrow\">GridSearchCV</label><div class=\"sk-toggleable__content\"><pre>GridSearchCV(cv=StratifiedShuffleSplit(n_splits=10, random_state=None, test_size=0.25,\n",
       "            train_size=None),\n",
       "             estimator=Pipeline(steps=[(&#x27;trf1&#x27;,\n",
       "                                        ColumnTransformer(remainder=&#x27;passthrough&#x27;,\n",
       "                                                          transformers=[(&#x27;mean_imputer&#x27;,\n",
       "                                                                         Pipeline(steps=[(&#x27;imputer&#x27;,\n",
       "                                                                                          SimpleImputer())]),\n",
       "                                                                         [&#x27;LoanAmount&#x27;]),\n",
       "                                                                        (&#x27;most_frequent_imputer&#x27;,\n",
       "                                                                         Pipeline(steps=[(&#x27;imputer&#x27;,\n",
       "                                                                                          SimpleImputer(strategy=&#x27;most_...\n",
       "                                       (&#x27;trf3&#x27;,\n",
       "                                        ColumnTransformer(transformers=[(&#x27;scale&#x27;,\n",
       "                                                                         RobustScaler(),\n",
       "                                                                         slice(0, 20, None))])),\n",
       "                                       (&#x27;trf4&#x27;,\n",
       "                                        SelectKBest(k=8,\n",
       "                                                    score_func=&lt;function chi2 at 0x7f3d2dac2830&gt;)),\n",
       "                                       (&#x27;trf5&#x27;, LogisticRegression())]),\n",
       "             n_jobs=-1,\n",
       "             param_grid={&#x27;trf5__C&#x27;: [0.2, 0.3, 0.4, 0.5, 0.6, 0.7, 0.8, 0.9, 1,\n",
       "                                     2, 3, 4, 5, 6, 7, 8, 9, 10, 12, 13, 14, 15,\n",
       "                                     16, 16.5, 17, 17.5, 18, 20, 25],\n",
       "                         &#x27;trf5__penalty&#x27;: [&#x27;l1&#x27;, &#x27;l2&#x27;]},\n",
       "             scoring=&#x27;accuracy&#x27;)</pre></div></div></div><div class=\"sk-parallel\"><div class=\"sk-parallel-item\"><div class=\"sk-item\"><div class=\"sk-serial\"><div class=\"sk-item\"><div class=\"sk-serial\"><div class=\"sk-item sk-dashed-wrapped\"><div class=\"sk-label-container\"><div class=\"sk-label sk-toggleable\"><input class=\"sk-toggleable__control sk-hidden--visually\" id=\"e49ce32e-67fd-4597-9b1b-9d7827a5c782\" type=\"checkbox\" ><label for=\"e49ce32e-67fd-4597-9b1b-9d7827a5c782\" class=\"sk-toggleable__label sk-toggleable__label-arrow\">trf1: ColumnTransformer</label><div class=\"sk-toggleable__content\"><pre>ColumnTransformer(remainder=&#x27;passthrough&#x27;,\n",
       "                  transformers=[(&#x27;mean_imputer&#x27;,\n",
       "                                 Pipeline(steps=[(&#x27;imputer&#x27;, SimpleImputer())]),\n",
       "                                 [&#x27;LoanAmount&#x27;]),\n",
       "                                (&#x27;most_frequent_imputer&#x27;,\n",
       "                                 Pipeline(steps=[(&#x27;imputer&#x27;,\n",
       "                                                  SimpleImputer(strategy=&#x27;most_frequent&#x27;))]),\n",
       "                                 [&#x27;Loan_Amount_Term&#x27;, &#x27;Gender&#x27;, &#x27;Married&#x27;,\n",
       "                                  &#x27;Self_Employed&#x27;, &#x27;Credit_History&#x27;,\n",
       "                                  &#x27;Dependents&#x27;])])</pre></div></div></div><div class=\"sk-parallel\"><div class=\"sk-parallel-item\"><div class=\"sk-item\"><div class=\"sk-label-container\"><div class=\"sk-label sk-toggleable\"><input class=\"sk-toggleable__control sk-hidden--visually\" id=\"309e3d19-4cf4-4cd3-801b-2ea69fa07d2c\" type=\"checkbox\" ><label for=\"309e3d19-4cf4-4cd3-801b-2ea69fa07d2c\" class=\"sk-toggleable__label sk-toggleable__label-arrow\">mean_imputer</label><div class=\"sk-toggleable__content\"><pre>[&#x27;LoanAmount&#x27;]</pre></div></div></div><div class=\"sk-serial\"><div class=\"sk-item\"><div class=\"sk-serial\"><div class=\"sk-item\"><div class=\"sk-estimator sk-toggleable\"><input class=\"sk-toggleable__control sk-hidden--visually\" id=\"7cc8baa5-0c61-493c-bd9d-4e360d1878ae\" type=\"checkbox\" ><label for=\"7cc8baa5-0c61-493c-bd9d-4e360d1878ae\" class=\"sk-toggleable__label sk-toggleable__label-arrow\">SimpleImputer</label><div class=\"sk-toggleable__content\"><pre>SimpleImputer()</pre></div></div></div></div></div></div></div></div><div class=\"sk-parallel-item\"><div class=\"sk-item\"><div class=\"sk-label-container\"><div class=\"sk-label sk-toggleable\"><input class=\"sk-toggleable__control sk-hidden--visually\" id=\"b16fce4a-13a2-4ab6-9f0f-d203d1bd437d\" type=\"checkbox\" ><label for=\"b16fce4a-13a2-4ab6-9f0f-d203d1bd437d\" class=\"sk-toggleable__label sk-toggleable__label-arrow\">most_frequent_imputer</label><div class=\"sk-toggleable__content\"><pre>[&#x27;Loan_Amount_Term&#x27;, &#x27;Gender&#x27;, &#x27;Married&#x27;, &#x27;Self_Employed&#x27;, &#x27;Credit_History&#x27;, &#x27;Dependents&#x27;]</pre></div></div></div><div class=\"sk-serial\"><div class=\"sk-item\"><div class=\"sk-serial\"><div class=\"sk-item\"><div class=\"sk-estimator sk-toggleable\"><input class=\"sk-toggleable__control sk-hidden--visually\" id=\"74c0f2f1-cd55-4927-a1d6-9d9e5eb81426\" type=\"checkbox\" ><label for=\"74c0f2f1-cd55-4927-a1d6-9d9e5eb81426\" class=\"sk-toggleable__label sk-toggleable__label-arrow\">SimpleImputer</label><div class=\"sk-toggleable__content\"><pre>SimpleImputer(strategy=&#x27;most_frequent&#x27;)</pre></div></div></div></div></div></div></div></div><div class=\"sk-parallel-item\"><div class=\"sk-item\"><div class=\"sk-label-container\"><div class=\"sk-label sk-toggleable\"><input class=\"sk-toggleable__control sk-hidden--visually\" id=\"d024e908-e52d-46bd-bf1e-39933a883582\" type=\"checkbox\" ><label for=\"d024e908-e52d-46bd-bf1e-39933a883582\" class=\"sk-toggleable__label sk-toggleable__label-arrow\">remainder</label><div class=\"sk-toggleable__content\"><pre>[&#x27;Education&#x27;, &#x27;ApplicantIncome&#x27;, &#x27;CoapplicantIncome&#x27;, &#x27;Property_Area&#x27;]</pre></div></div></div><div class=\"sk-serial\"><div class=\"sk-item\"><div class=\"sk-estimator sk-toggleable\"><input class=\"sk-toggleable__control sk-hidden--visually\" id=\"5aaba0e0-1834-433d-af97-22aac752c7f0\" type=\"checkbox\" ><label for=\"5aaba0e0-1834-433d-af97-22aac752c7f0\" class=\"sk-toggleable__label sk-toggleable__label-arrow\">passthrough</label><div class=\"sk-toggleable__content\"><pre>passthrough</pre></div></div></div></div></div></div></div></div><div class=\"sk-item sk-dashed-wrapped\"><div class=\"sk-label-container\"><div class=\"sk-label sk-toggleable\"><input class=\"sk-toggleable__control sk-hidden--visually\" id=\"09e72cdd-ce6a-42c3-a708-cbe4cebfdd2f\" type=\"checkbox\" ><label for=\"09e72cdd-ce6a-42c3-a708-cbe4cebfdd2f\" class=\"sk-toggleable__label sk-toggleable__label-arrow\">trf2: ColumnTransformer</label><div class=\"sk-toggleable__content\"><pre>ColumnTransformer(remainder=&#x27;passthrough&#x27;,\n",
       "                  transformers=[(&#x27;ohe&#x27;,\n",
       "                                 OneHotEncoder(handle_unknown=&#x27;ignore&#x27;,\n",
       "                                               sparse=False),\n",
       "                                 [0, 1, 3, 4, 10])])</pre></div></div></div><div class=\"sk-parallel\"><div class=\"sk-parallel-item\"><div class=\"sk-item\"><div class=\"sk-label-container\"><div class=\"sk-label sk-toggleable\"><input class=\"sk-toggleable__control sk-hidden--visually\" id=\"c26ba68c-8cef-4aba-9651-c023a4824a6b\" type=\"checkbox\" ><label for=\"c26ba68c-8cef-4aba-9651-c023a4824a6b\" class=\"sk-toggleable__label sk-toggleable__label-arrow\">ohe</label><div class=\"sk-toggleable__content\"><pre>[0, 1, 3, 4, 10]</pre></div></div></div><div class=\"sk-serial\"><div class=\"sk-item\"><div class=\"sk-estimator sk-toggleable\"><input class=\"sk-toggleable__control sk-hidden--visually\" id=\"b592920d-decb-4fe5-9c71-36050940cce4\" type=\"checkbox\" ><label for=\"b592920d-decb-4fe5-9c71-36050940cce4\" class=\"sk-toggleable__label sk-toggleable__label-arrow\">OneHotEncoder</label><div class=\"sk-toggleable__content\"><pre>OneHotEncoder(handle_unknown=&#x27;ignore&#x27;, sparse=False)</pre></div></div></div></div></div></div><div class=\"sk-parallel-item\"><div class=\"sk-item\"><div class=\"sk-label-container\"><div class=\"sk-label sk-toggleable\"><input class=\"sk-toggleable__control sk-hidden--visually\" id=\"f4a34049-c77a-4600-9428-509964fafc57\" type=\"checkbox\" ><label for=\"f4a34049-c77a-4600-9428-509964fafc57\" class=\"sk-toggleable__label sk-toggleable__label-arrow\">remainder</label><div class=\"sk-toggleable__content\"><pre>[2, 5, 6, 7, 8, 9]</pre></div></div></div><div class=\"sk-serial\"><div class=\"sk-item\"><div class=\"sk-estimator sk-toggleable\"><input class=\"sk-toggleable__control sk-hidden--visually\" id=\"8c6b6292-d48d-4d4e-921b-ccdfebd49af2\" type=\"checkbox\" ><label for=\"8c6b6292-d48d-4d4e-921b-ccdfebd49af2\" class=\"sk-toggleable__label sk-toggleable__label-arrow\">passthrough</label><div class=\"sk-toggleable__content\"><pre>passthrough</pre></div></div></div></div></div></div></div></div><div class=\"sk-item sk-dashed-wrapped\"><div class=\"sk-label-container\"><div class=\"sk-label sk-toggleable\"><input class=\"sk-toggleable__control sk-hidden--visually\" id=\"550a22d5-ef80-484f-b33d-fed76b0479ce\" type=\"checkbox\" ><label for=\"550a22d5-ef80-484f-b33d-fed76b0479ce\" class=\"sk-toggleable__label sk-toggleable__label-arrow\">trf3: ColumnTransformer</label><div class=\"sk-toggleable__content\"><pre>ColumnTransformer(transformers=[(&#x27;scale&#x27;, RobustScaler(), slice(0, 20, None))])</pre></div></div></div><div class=\"sk-parallel\"><div class=\"sk-parallel-item\"><div class=\"sk-item\"><div class=\"sk-label-container\"><div class=\"sk-label sk-toggleable\"><input class=\"sk-toggleable__control sk-hidden--visually\" id=\"43cdf5a0-8d34-43c9-89fd-2d55a7b51b7c\" type=\"checkbox\" ><label for=\"43cdf5a0-8d34-43c9-89fd-2d55a7b51b7c\" class=\"sk-toggleable__label sk-toggleable__label-arrow\">scale</label><div class=\"sk-toggleable__content\"><pre>slice(0, 20, None)</pre></div></div></div><div class=\"sk-serial\"><div class=\"sk-item\"><div class=\"sk-estimator sk-toggleable\"><input class=\"sk-toggleable__control sk-hidden--visually\" id=\"29cec11e-6c92-45a3-9f49-6a853ad548b1\" type=\"checkbox\" ><label for=\"29cec11e-6c92-45a3-9f49-6a853ad548b1\" class=\"sk-toggleable__label sk-toggleable__label-arrow\">RobustScaler</label><div class=\"sk-toggleable__content\"><pre>RobustScaler()</pre></div></div></div></div></div></div></div></div><div class=\"sk-item\"><div class=\"sk-estimator sk-toggleable\"><input class=\"sk-toggleable__control sk-hidden--visually\" id=\"db358fff-96ab-4efd-990a-7116a0c19525\" type=\"checkbox\" ><label for=\"db358fff-96ab-4efd-990a-7116a0c19525\" class=\"sk-toggleable__label sk-toggleable__label-arrow\">SelectKBest</label><div class=\"sk-toggleable__content\"><pre>SelectKBest(k=8, score_func=&lt;function chi2 at 0x7f3d2dac2830&gt;)</pre></div></div></div><div class=\"sk-item\"><div class=\"sk-estimator sk-toggleable\"><input class=\"sk-toggleable__control sk-hidden--visually\" id=\"42139001-e62e-4872-bcb1-85c6ad916ea1\" type=\"checkbox\" ><label for=\"42139001-e62e-4872-bcb1-85c6ad916ea1\" class=\"sk-toggleable__label sk-toggleable__label-arrow\">LogisticRegression</label><div class=\"sk-toggleable__content\"><pre>LogisticRegression()</pre></div></div></div></div></div></div></div></div></div></div></div></div>"
      ],
      "text/plain": [
       "GridSearchCV(cv=StratifiedShuffleSplit(n_splits=10, random_state=None, test_size=0.25,\n",
       "            train_size=None),\n",
       "             estimator=Pipeline(steps=[('trf1',\n",
       "                                        ColumnTransformer(remainder='passthrough',\n",
       "                                                          transformers=[('mean_imputer',\n",
       "                                                                         Pipeline(steps=[('imputer',\n",
       "                                                                                          SimpleImputer())]),\n",
       "                                                                         ['LoanAmount']),\n",
       "                                                                        ('most_frequent_imputer',\n",
       "                                                                         Pipeline(steps=[('imputer',\n",
       "                                                                                          SimpleImputer(strategy='most_...\n",
       "                                       ('trf3',\n",
       "                                        ColumnTransformer(transformers=[('scale',\n",
       "                                                                         RobustScaler(),\n",
       "                                                                         slice(0, 20, None))])),\n",
       "                                       ('trf4',\n",
       "                                        SelectKBest(k=8,\n",
       "                                                    score_func=<function chi2 at 0x7f3d2dac2830>)),\n",
       "                                       ('trf5', LogisticRegression())]),\n",
       "             n_jobs=-1,\n",
       "             param_grid={'trf5__C': [0.2, 0.3, 0.4, 0.5, 0.6, 0.7, 0.8, 0.9, 1,\n",
       "                                     2, 3, 4, 5, 6, 7, 8, 9, 10, 12, 13, 14, 15,\n",
       "                                     16, 16.5, 17, 17.5, 18, 20, 25],\n",
       "                         'trf5__penalty': ['l1', 'l2']},\n",
       "             scoring='accuracy')"
      ]
     },
     "execution_count": 37,
     "metadata": {},
     "output_type": "execute_result"
    }
   ],
   "source": [
    "C_vals = [0.2,0.3,0.4,0.5,0.6,0.7,0.8,0.9,1,2,3,4,5,6,7,8,9,10,12,13,14,15,16,16.5,17,17.5,18,20,25]\n",
    "penalties = ['l1','l2']\n",
    "\n",
    "cv = StratifiedShuffleSplit(n_splits = 10, test_size = .25)\n",
    "\n",
    "param = {'trf5__penalty': penalties, 'trf5__C': C_vals}\n",
    "\n",
    "logreg = LogisticRegression(solver='liblinear')\n",
    "## Calling on GridSearchCV object. \n",
    "grid_log = GridSearchCV(pipe_lr, \n",
    "                           param_grid = param,\n",
    "                           scoring = 'accuracy',\n",
    "                           n_jobs =-1,\n",
    "                           cv = cv\n",
    "                          )\n",
    "## Fitting the model\n",
    "grid_log.fit(X_train, y_train)"
   ]
  },
  {
   "cell_type": "code",
   "execution_count": 38,
   "id": "2dc8f1e7",
   "metadata": {
    "execution": {
     "iopub.execute_input": "2022-09-30T05:48:34.865702Z",
     "iopub.status.busy": "2022-09-30T05:48:34.865378Z",
     "iopub.status.idle": "2022-09-30T05:48:34.871370Z",
     "shell.execute_reply": "2022-09-30T05:48:34.870434Z"
    },
    "papermill": {
     "duration": 0.033148,
     "end_time": "2022-09-30T05:48:34.874189",
     "exception": false,
     "start_time": "2022-09-30T05:48:34.841041",
     "status": "completed"
    },
    "tags": []
   },
   "outputs": [
    {
     "name": "stdout",
     "output_type": "stream",
     "text": [
      "Grid Best Score:  70.0 %\n"
     ]
    }
   ],
   "source": [
    "print(\"Grid Best Score: \", grid_log.best_score_.round(2)*100,\"%\")"
   ]
  },
  {
   "cell_type": "code",
   "execution_count": 39,
   "id": "11518216",
   "metadata": {
    "execution": {
     "iopub.execute_input": "2022-09-30T05:48:34.921789Z",
     "iopub.status.busy": "2022-09-30T05:48:34.921518Z",
     "iopub.status.idle": "2022-09-30T05:48:34.926611Z",
     "shell.execute_reply": "2022-09-30T05:48:34.925584Z"
    },
    "papermill": {
     "duration": 0.032589,
     "end_time": "2022-09-30T05:48:34.930555",
     "exception": false,
     "start_time": "2022-09-30T05:48:34.897966",
     "status": "completed"
    },
    "tags": []
   },
   "outputs": [
    {
     "name": "stdout",
     "output_type": "stream",
     "text": [
      "Grid Best Parameter:  {'trf5__C': 0.2, 'trf5__penalty': 'l2'}\n"
     ]
    }
   ],
   "source": [
    "print(\"Grid Best Parameter: \", grid_log.best_params_)"
   ]
  },
  {
   "cell_type": "code",
   "execution_count": 40,
   "id": "ae943c00",
   "metadata": {
    "execution": {
     "iopub.execute_input": "2022-09-30T05:48:34.978153Z",
     "iopub.status.busy": "2022-09-30T05:48:34.977789Z",
     "iopub.status.idle": "2022-09-30T05:48:35.012948Z",
     "shell.execute_reply": "2022-09-30T05:48:35.011710Z"
    },
    "papermill": {
     "duration": 0.060953,
     "end_time": "2022-09-30T05:48:35.015263",
     "exception": false,
     "start_time": "2022-09-30T05:48:34.954310",
     "status": "completed"
    },
    "tags": []
   },
   "outputs": [
    {
     "name": "stdout",
     "output_type": "stream",
     "text": [
      "Training Accuracy with GridSearch : 69.65 %\n",
      "Model Accuracy with GridSearch    : 70.0 %\n"
     ]
    }
   ],
   "source": [
    "### Using the best parameters from the grid-search.\n",
    "log_grid = grid_log.best_estimator_\n",
    "\n",
    "log_train_grid = round(log_grid.score(X_train, y_train) * 100, 2)\n",
    "log_accuracy_grid =log_grid.score(X_train,y_train).round(2)*100\n",
    "\n",
    "print(\"Training Accuracy with GridSearch :\",log_train_grid  ,\"%\")\n",
    "print(\"Model Accuracy with GridSearch    :\",log_accuracy_grid ,\"%\")"
   ]
  },
  {
   "cell_type": "markdown",
   "id": "30ebec3d",
   "metadata": {
    "papermill": {
     "duration": 0.022463,
     "end_time": "2022-09-30T05:48:35.061209",
     "exception": false,
     "start_time": "2022-09-30T05:48:35.038746",
     "status": "completed"
    },
    "tags": []
   },
   "source": [
    "<h1 style=\"color:Orange;font-size:45px;font-family:Georgia;text-align:center;\"> 📚 <strong style=\"color:Orange;font-size:40px;font-family:serif;\"> AdaBoostClassifier </strong> 📚 </h1>"
   ]
  },
  {
   "cell_type": "code",
   "execution_count": 41,
   "id": "8b50b5a3",
   "metadata": {
    "execution": {
     "iopub.execute_input": "2022-09-30T05:48:35.108537Z",
     "iopub.status.busy": "2022-09-30T05:48:35.108184Z",
     "iopub.status.idle": "2022-09-30T05:48:35.117627Z",
     "shell.execute_reply": "2022-09-30T05:48:35.116766Z"
    },
    "papermill": {
     "duration": 0.03548,
     "end_time": "2022-09-30T05:48:35.119810",
     "exception": false,
     "start_time": "2022-09-30T05:48:35.084330",
     "status": "completed"
    },
    "tags": []
   },
   "outputs": [],
   "source": [
    "num_var_mean = ['LoanAmount']\n",
    "num_var_mostfrequent = ['Loan_Amount_Term','Gender','Married','Self_Employed','Credit_History','Dependents']\n",
    "num_no_missingvalue = ['Education','ApplicantIncome','CoapplicantIncome','Property_Area','Loan_Status']\n",
    "\n",
    "num_var_meanimputer = Pipeline(steps=[(\"imputer\",SimpleImputer(strategy='mean'))])\n",
    "num_var_most_frequent = Pipeline(steps=[(\"imputer\",SimpleImputer(strategy='most_frequent'))])\n",
    "\n",
    "# imputation transformer\n",
    "trf1 = ColumnTransformer([(\"mean_imputer\", num_var_meanimputer, num_var_mean),\n",
    "                        (\"most_frequent_imputer\", num_var_most_frequent, num_var_mostfrequent)\n",
    "    \n",
    "],remainder='passthrough')\n",
    "\n",
    "# one hot encoding\n",
    "trf2 = ColumnTransformer([\n",
    "    ('ohe',OneHotEncoder(sparse=False,handle_unknown='ignore'),[0,1,3,4,10])\n",
    "],remainder='passthrough')\n",
    "\n",
    "# Scaling\n",
    "trf3 = ColumnTransformer([\n",
    "    ('scale',RobustScaler(),slice(0,20))\n",
    "])\n",
    "\n",
    "# Feature selection\n",
    "trf4 = SelectKBest(score_func=chi2,k=8)\n",
    "\n",
    "# train the model\n",
    "trf5 = AdaBoostClassifier()\n",
    "\n",
    "pipe_ada = Pipeline([\n",
    "    ('trf1',trf1),\n",
    "    ('trf2',trf2),\n",
    "    ('trf3',trf3),\n",
    "    ('trf4',trf4),\n",
    "    ('trf5',trf5)\n",
    "])"
   ]
  },
  {
   "cell_type": "code",
   "execution_count": 42,
   "id": "9fadebbb",
   "metadata": {
    "execution": {
     "iopub.execute_input": "2022-09-30T05:48:35.167098Z",
     "iopub.status.busy": "2022-09-30T05:48:35.166248Z",
     "iopub.status.idle": "2022-09-30T05:48:35.178650Z",
     "shell.execute_reply": "2022-09-30T05:48:35.177534Z"
    },
    "papermill": {
     "duration": 0.038066,
     "end_time": "2022-09-30T05:48:35.180652",
     "exception": false,
     "start_time": "2022-09-30T05:48:35.142586",
     "status": "completed"
    },
    "tags": []
   },
   "outputs": [
    {
     "data": {
      "text/plain": [
       "{'trf1': ColumnTransformer(remainder='passthrough',\n",
       "                   transformers=[('mean_imputer',\n",
       "                                  Pipeline(steps=[('imputer', SimpleImputer())]),\n",
       "                                  ['LoanAmount']),\n",
       "                                 ('most_frequent_imputer',\n",
       "                                  Pipeline(steps=[('imputer',\n",
       "                                                   SimpleImputer(strategy='most_frequent'))]),\n",
       "                                  ['Loan_Amount_Term', 'Gender', 'Married',\n",
       "                                   'Self_Employed', 'Credit_History',\n",
       "                                   'Dependents'])]),\n",
       " 'trf2': ColumnTransformer(remainder='passthrough',\n",
       "                   transformers=[('ohe',\n",
       "                                  OneHotEncoder(handle_unknown='ignore',\n",
       "                                                sparse=False),\n",
       "                                  [0, 1, 3, 4, 10])]),\n",
       " 'trf3': ColumnTransformer(transformers=[('scale', RobustScaler(), slice(0, 20, None))]),\n",
       " 'trf4': SelectKBest(k=8, score_func=<function chi2 at 0x7f3d2dac2830>),\n",
       " 'trf5': AdaBoostClassifier()}"
      ]
     },
     "execution_count": 42,
     "metadata": {},
     "output_type": "execute_result"
    }
   ],
   "source": [
    "# Code here\n",
    "pipe_ada.named_steps"
   ]
  },
  {
   "cell_type": "code",
   "execution_count": 43,
   "id": "a8864126",
   "metadata": {
    "execution": {
     "iopub.execute_input": "2022-09-30T05:48:35.228139Z",
     "iopub.status.busy": "2022-09-30T05:48:35.227303Z",
     "iopub.status.idle": "2022-09-30T05:48:35.387358Z",
     "shell.execute_reply": "2022-09-30T05:48:35.386491Z"
    },
    "papermill": {
     "duration": 0.186054,
     "end_time": "2022-09-30T05:48:35.389823",
     "exception": false,
     "start_time": "2022-09-30T05:48:35.203769",
     "status": "completed"
    },
    "tags": []
   },
   "outputs": [
    {
     "data": {
      "text/html": [
       "<style>#sk-95127ec9-1a54-4915-be3e-a0b91691ad05 {color: black;background-color: white;}#sk-95127ec9-1a54-4915-be3e-a0b91691ad05 pre{padding: 0;}#sk-95127ec9-1a54-4915-be3e-a0b91691ad05 div.sk-toggleable {background-color: white;}#sk-95127ec9-1a54-4915-be3e-a0b91691ad05 label.sk-toggleable__label {cursor: pointer;display: block;width: 100%;margin-bottom: 0;padding: 0.3em;box-sizing: border-box;text-align: center;}#sk-95127ec9-1a54-4915-be3e-a0b91691ad05 label.sk-toggleable__label-arrow:before {content: \"▸\";float: left;margin-right: 0.25em;color: #696969;}#sk-95127ec9-1a54-4915-be3e-a0b91691ad05 label.sk-toggleable__label-arrow:hover:before {color: black;}#sk-95127ec9-1a54-4915-be3e-a0b91691ad05 div.sk-estimator:hover label.sk-toggleable__label-arrow:before {color: black;}#sk-95127ec9-1a54-4915-be3e-a0b91691ad05 div.sk-toggleable__content {max-height: 0;max-width: 0;overflow: hidden;text-align: left;background-color: #f0f8ff;}#sk-95127ec9-1a54-4915-be3e-a0b91691ad05 div.sk-toggleable__content pre {margin: 0.2em;color: black;border-radius: 0.25em;background-color: #f0f8ff;}#sk-95127ec9-1a54-4915-be3e-a0b91691ad05 input.sk-toggleable__control:checked~div.sk-toggleable__content {max-height: 200px;max-width: 100%;overflow: auto;}#sk-95127ec9-1a54-4915-be3e-a0b91691ad05 input.sk-toggleable__control:checked~label.sk-toggleable__label-arrow:before {content: \"▾\";}#sk-95127ec9-1a54-4915-be3e-a0b91691ad05 div.sk-estimator input.sk-toggleable__control:checked~label.sk-toggleable__label {background-color: #d4ebff;}#sk-95127ec9-1a54-4915-be3e-a0b91691ad05 div.sk-label input.sk-toggleable__control:checked~label.sk-toggleable__label {background-color: #d4ebff;}#sk-95127ec9-1a54-4915-be3e-a0b91691ad05 input.sk-hidden--visually {border: 0;clip: rect(1px 1px 1px 1px);clip: rect(1px, 1px, 1px, 1px);height: 1px;margin: -1px;overflow: hidden;padding: 0;position: absolute;width: 1px;}#sk-95127ec9-1a54-4915-be3e-a0b91691ad05 div.sk-estimator {font-family: monospace;background-color: #f0f8ff;border: 1px dotted black;border-radius: 0.25em;box-sizing: border-box;margin-bottom: 0.5em;}#sk-95127ec9-1a54-4915-be3e-a0b91691ad05 div.sk-estimator:hover {background-color: #d4ebff;}#sk-95127ec9-1a54-4915-be3e-a0b91691ad05 div.sk-parallel-item::after {content: \"\";width: 100%;border-bottom: 1px solid gray;flex-grow: 1;}#sk-95127ec9-1a54-4915-be3e-a0b91691ad05 div.sk-label:hover label.sk-toggleable__label {background-color: #d4ebff;}#sk-95127ec9-1a54-4915-be3e-a0b91691ad05 div.sk-serial::before {content: \"\";position: absolute;border-left: 1px solid gray;box-sizing: border-box;top: 2em;bottom: 0;left: 50%;}#sk-95127ec9-1a54-4915-be3e-a0b91691ad05 div.sk-serial {display: flex;flex-direction: column;align-items: center;background-color: white;padding-right: 0.2em;padding-left: 0.2em;}#sk-95127ec9-1a54-4915-be3e-a0b91691ad05 div.sk-item {z-index: 1;}#sk-95127ec9-1a54-4915-be3e-a0b91691ad05 div.sk-parallel {display: flex;align-items: stretch;justify-content: center;background-color: white;}#sk-95127ec9-1a54-4915-be3e-a0b91691ad05 div.sk-parallel::before {content: \"\";position: absolute;border-left: 1px solid gray;box-sizing: border-box;top: 2em;bottom: 0;left: 50%;}#sk-95127ec9-1a54-4915-be3e-a0b91691ad05 div.sk-parallel-item {display: flex;flex-direction: column;position: relative;background-color: white;}#sk-95127ec9-1a54-4915-be3e-a0b91691ad05 div.sk-parallel-item:first-child::after {align-self: flex-end;width: 50%;}#sk-95127ec9-1a54-4915-be3e-a0b91691ad05 div.sk-parallel-item:last-child::after {align-self: flex-start;width: 50%;}#sk-95127ec9-1a54-4915-be3e-a0b91691ad05 div.sk-parallel-item:only-child::after {width: 0;}#sk-95127ec9-1a54-4915-be3e-a0b91691ad05 div.sk-dashed-wrapped {border: 1px dashed gray;margin: 0 0.4em 0.5em 0.4em;box-sizing: border-box;padding-bottom: 0.4em;background-color: white;position: relative;}#sk-95127ec9-1a54-4915-be3e-a0b91691ad05 div.sk-label label {font-family: monospace;font-weight: bold;background-color: white;display: inline-block;line-height: 1.2em;}#sk-95127ec9-1a54-4915-be3e-a0b91691ad05 div.sk-label-container {position: relative;z-index: 2;text-align: center;}#sk-95127ec9-1a54-4915-be3e-a0b91691ad05 div.sk-container {/* jupyter's `normalize.less` sets `[hidden] { display: none; }` but bootstrap.min.css set `[hidden] { display: none !important; }` so we also need the `!important` here to be able to override the default hidden behavior on the sphinx rendered scikit-learn.org. See: https://github.com/scikit-learn/scikit-learn/issues/21755 */display: inline-block !important;position: relative;}#sk-95127ec9-1a54-4915-be3e-a0b91691ad05 div.sk-text-repr-fallback {display: none;}</style><div id=\"sk-95127ec9-1a54-4915-be3e-a0b91691ad05\" class=\"sk-top-container\"><div class=\"sk-text-repr-fallback\"><pre>Pipeline(steps=[(&#x27;trf1&#x27;,\n",
       "                 ColumnTransformer(remainder=&#x27;passthrough&#x27;,\n",
       "                                   transformers=[(&#x27;mean_imputer&#x27;,\n",
       "                                                  Pipeline(steps=[(&#x27;imputer&#x27;,\n",
       "                                                                   SimpleImputer())]),\n",
       "                                                  [&#x27;LoanAmount&#x27;]),\n",
       "                                                 (&#x27;most_frequent_imputer&#x27;,\n",
       "                                                  Pipeline(steps=[(&#x27;imputer&#x27;,\n",
       "                                                                   SimpleImputer(strategy=&#x27;most_frequent&#x27;))]),\n",
       "                                                  [&#x27;Loan_Amount_Term&#x27;, &#x27;Gender&#x27;,\n",
       "                                                   &#x27;Married&#x27;, &#x27;Self_Employed&#x27;,\n",
       "                                                   &#x27;Credit_History&#x27;,\n",
       "                                                   &#x27;Dependents&#x27;])])),\n",
       "                (&#x27;trf2&#x27;,\n",
       "                 ColumnTransformer(remainder=&#x27;passthrough&#x27;,\n",
       "                                   transformers=[(&#x27;ohe&#x27;,\n",
       "                                                  OneHotEncoder(handle_unknown=&#x27;ignore&#x27;,\n",
       "                                                                sparse=False),\n",
       "                                                  [0, 1, 3, 4, 10])])),\n",
       "                (&#x27;trf3&#x27;,\n",
       "                 ColumnTransformer(transformers=[(&#x27;scale&#x27;, RobustScaler(),\n",
       "                                                  slice(0, 20, None))])),\n",
       "                (&#x27;trf4&#x27;,\n",
       "                 SelectKBest(k=8,\n",
       "                             score_func=&lt;function chi2 at 0x7f3d2dac2830&gt;)),\n",
       "                (&#x27;trf5&#x27;, AdaBoostClassifier())])</pre><b>Please rerun this cell to show the HTML repr or trust the notebook.</b></div><div class=\"sk-container\" hidden><div class=\"sk-item sk-dashed-wrapped\"><div class=\"sk-label-container\"><div class=\"sk-label sk-toggleable\"><input class=\"sk-toggleable__control sk-hidden--visually\" id=\"3a495e60-803d-4519-bc69-14a57fa4c160\" type=\"checkbox\" ><label for=\"3a495e60-803d-4519-bc69-14a57fa4c160\" class=\"sk-toggleable__label sk-toggleable__label-arrow\">Pipeline</label><div class=\"sk-toggleable__content\"><pre>Pipeline(steps=[(&#x27;trf1&#x27;,\n",
       "                 ColumnTransformer(remainder=&#x27;passthrough&#x27;,\n",
       "                                   transformers=[(&#x27;mean_imputer&#x27;,\n",
       "                                                  Pipeline(steps=[(&#x27;imputer&#x27;,\n",
       "                                                                   SimpleImputer())]),\n",
       "                                                  [&#x27;LoanAmount&#x27;]),\n",
       "                                                 (&#x27;most_frequent_imputer&#x27;,\n",
       "                                                  Pipeline(steps=[(&#x27;imputer&#x27;,\n",
       "                                                                   SimpleImputer(strategy=&#x27;most_frequent&#x27;))]),\n",
       "                                                  [&#x27;Loan_Amount_Term&#x27;, &#x27;Gender&#x27;,\n",
       "                                                   &#x27;Married&#x27;, &#x27;Self_Employed&#x27;,\n",
       "                                                   &#x27;Credit_History&#x27;,\n",
       "                                                   &#x27;Dependents&#x27;])])),\n",
       "                (&#x27;trf2&#x27;,\n",
       "                 ColumnTransformer(remainder=&#x27;passthrough&#x27;,\n",
       "                                   transformers=[(&#x27;ohe&#x27;,\n",
       "                                                  OneHotEncoder(handle_unknown=&#x27;ignore&#x27;,\n",
       "                                                                sparse=False),\n",
       "                                                  [0, 1, 3, 4, 10])])),\n",
       "                (&#x27;trf3&#x27;,\n",
       "                 ColumnTransformer(transformers=[(&#x27;scale&#x27;, RobustScaler(),\n",
       "                                                  slice(0, 20, None))])),\n",
       "                (&#x27;trf4&#x27;,\n",
       "                 SelectKBest(k=8,\n",
       "                             score_func=&lt;function chi2 at 0x7f3d2dac2830&gt;)),\n",
       "                (&#x27;trf5&#x27;, AdaBoostClassifier())])</pre></div></div></div><div class=\"sk-serial\"><div class=\"sk-item sk-dashed-wrapped\"><div class=\"sk-label-container\"><div class=\"sk-label sk-toggleable\"><input class=\"sk-toggleable__control sk-hidden--visually\" id=\"6078e214-6670-4b76-99b0-c511e4400485\" type=\"checkbox\" ><label for=\"6078e214-6670-4b76-99b0-c511e4400485\" class=\"sk-toggleable__label sk-toggleable__label-arrow\">trf1: ColumnTransformer</label><div class=\"sk-toggleable__content\"><pre>ColumnTransformer(remainder=&#x27;passthrough&#x27;,\n",
       "                  transformers=[(&#x27;mean_imputer&#x27;,\n",
       "                                 Pipeline(steps=[(&#x27;imputer&#x27;, SimpleImputer())]),\n",
       "                                 [&#x27;LoanAmount&#x27;]),\n",
       "                                (&#x27;most_frequent_imputer&#x27;,\n",
       "                                 Pipeline(steps=[(&#x27;imputer&#x27;,\n",
       "                                                  SimpleImputer(strategy=&#x27;most_frequent&#x27;))]),\n",
       "                                 [&#x27;Loan_Amount_Term&#x27;, &#x27;Gender&#x27;, &#x27;Married&#x27;,\n",
       "                                  &#x27;Self_Employed&#x27;, &#x27;Credit_History&#x27;,\n",
       "                                  &#x27;Dependents&#x27;])])</pre></div></div></div><div class=\"sk-parallel\"><div class=\"sk-parallel-item\"><div class=\"sk-item\"><div class=\"sk-label-container\"><div class=\"sk-label sk-toggleable\"><input class=\"sk-toggleable__control sk-hidden--visually\" id=\"7648f20c-8d93-4d6d-94e3-4edecadf7753\" type=\"checkbox\" ><label for=\"7648f20c-8d93-4d6d-94e3-4edecadf7753\" class=\"sk-toggleable__label sk-toggleable__label-arrow\">mean_imputer</label><div class=\"sk-toggleable__content\"><pre>[&#x27;LoanAmount&#x27;]</pre></div></div></div><div class=\"sk-serial\"><div class=\"sk-item\"><div class=\"sk-serial\"><div class=\"sk-item\"><div class=\"sk-estimator sk-toggleable\"><input class=\"sk-toggleable__control sk-hidden--visually\" id=\"79468df2-e5d6-4740-93cb-c2df81d799e3\" type=\"checkbox\" ><label for=\"79468df2-e5d6-4740-93cb-c2df81d799e3\" class=\"sk-toggleable__label sk-toggleable__label-arrow\">SimpleImputer</label><div class=\"sk-toggleable__content\"><pre>SimpleImputer()</pre></div></div></div></div></div></div></div></div><div class=\"sk-parallel-item\"><div class=\"sk-item\"><div class=\"sk-label-container\"><div class=\"sk-label sk-toggleable\"><input class=\"sk-toggleable__control sk-hidden--visually\" id=\"ba226d5a-4e1a-471a-a43c-ae43b2563abe\" type=\"checkbox\" ><label for=\"ba226d5a-4e1a-471a-a43c-ae43b2563abe\" class=\"sk-toggleable__label sk-toggleable__label-arrow\">most_frequent_imputer</label><div class=\"sk-toggleable__content\"><pre>[&#x27;Loan_Amount_Term&#x27;, &#x27;Gender&#x27;, &#x27;Married&#x27;, &#x27;Self_Employed&#x27;, &#x27;Credit_History&#x27;, &#x27;Dependents&#x27;]</pre></div></div></div><div class=\"sk-serial\"><div class=\"sk-item\"><div class=\"sk-serial\"><div class=\"sk-item\"><div class=\"sk-estimator sk-toggleable\"><input class=\"sk-toggleable__control sk-hidden--visually\" id=\"c4d4a4b7-80e7-4c67-b48f-e6422cceec05\" type=\"checkbox\" ><label for=\"c4d4a4b7-80e7-4c67-b48f-e6422cceec05\" class=\"sk-toggleable__label sk-toggleable__label-arrow\">SimpleImputer</label><div class=\"sk-toggleable__content\"><pre>SimpleImputer(strategy=&#x27;most_frequent&#x27;)</pre></div></div></div></div></div></div></div></div><div class=\"sk-parallel-item\"><div class=\"sk-item\"><div class=\"sk-label-container\"><div class=\"sk-label sk-toggleable\"><input class=\"sk-toggleable__control sk-hidden--visually\" id=\"791a217e-50bd-4173-8915-24d9f8097f66\" type=\"checkbox\" ><label for=\"791a217e-50bd-4173-8915-24d9f8097f66\" class=\"sk-toggleable__label sk-toggleable__label-arrow\">remainder</label><div class=\"sk-toggleable__content\"><pre>[&#x27;Education&#x27;, &#x27;ApplicantIncome&#x27;, &#x27;CoapplicantIncome&#x27;, &#x27;Property_Area&#x27;]</pre></div></div></div><div class=\"sk-serial\"><div class=\"sk-item\"><div class=\"sk-estimator sk-toggleable\"><input class=\"sk-toggleable__control sk-hidden--visually\" id=\"271f5118-a8a0-4ca3-b1f2-3d9eb2cbe94a\" type=\"checkbox\" ><label for=\"271f5118-a8a0-4ca3-b1f2-3d9eb2cbe94a\" class=\"sk-toggleable__label sk-toggleable__label-arrow\">passthrough</label><div class=\"sk-toggleable__content\"><pre>passthrough</pre></div></div></div></div></div></div></div></div><div class=\"sk-item sk-dashed-wrapped\"><div class=\"sk-label-container\"><div class=\"sk-label sk-toggleable\"><input class=\"sk-toggleable__control sk-hidden--visually\" id=\"dc77c7f8-29c4-4756-969e-9bd5fa87b827\" type=\"checkbox\" ><label for=\"dc77c7f8-29c4-4756-969e-9bd5fa87b827\" class=\"sk-toggleable__label sk-toggleable__label-arrow\">trf2: ColumnTransformer</label><div class=\"sk-toggleable__content\"><pre>ColumnTransformer(remainder=&#x27;passthrough&#x27;,\n",
       "                  transformers=[(&#x27;ohe&#x27;,\n",
       "                                 OneHotEncoder(handle_unknown=&#x27;ignore&#x27;,\n",
       "                                               sparse=False),\n",
       "                                 [0, 1, 3, 4, 10])])</pre></div></div></div><div class=\"sk-parallel\"><div class=\"sk-parallel-item\"><div class=\"sk-item\"><div class=\"sk-label-container\"><div class=\"sk-label sk-toggleable\"><input class=\"sk-toggleable__control sk-hidden--visually\" id=\"d3730b25-0261-441b-87ff-d7a888a347af\" type=\"checkbox\" ><label for=\"d3730b25-0261-441b-87ff-d7a888a347af\" class=\"sk-toggleable__label sk-toggleable__label-arrow\">ohe</label><div class=\"sk-toggleable__content\"><pre>[0, 1, 3, 4, 10]</pre></div></div></div><div class=\"sk-serial\"><div class=\"sk-item\"><div class=\"sk-estimator sk-toggleable\"><input class=\"sk-toggleable__control sk-hidden--visually\" id=\"a9783bb5-9003-4af3-8dd7-f8b8b452aaa0\" type=\"checkbox\" ><label for=\"a9783bb5-9003-4af3-8dd7-f8b8b452aaa0\" class=\"sk-toggleable__label sk-toggleable__label-arrow\">OneHotEncoder</label><div class=\"sk-toggleable__content\"><pre>OneHotEncoder(handle_unknown=&#x27;ignore&#x27;, sparse=False)</pre></div></div></div></div></div></div><div class=\"sk-parallel-item\"><div class=\"sk-item\"><div class=\"sk-label-container\"><div class=\"sk-label sk-toggleable\"><input class=\"sk-toggleable__control sk-hidden--visually\" id=\"fbe666de-8852-457c-9fb9-5641dea5d3cb\" type=\"checkbox\" ><label for=\"fbe666de-8852-457c-9fb9-5641dea5d3cb\" class=\"sk-toggleable__label sk-toggleable__label-arrow\">remainder</label><div class=\"sk-toggleable__content\"><pre>[2, 5, 6, 7, 8, 9]</pre></div></div></div><div class=\"sk-serial\"><div class=\"sk-item\"><div class=\"sk-estimator sk-toggleable\"><input class=\"sk-toggleable__control sk-hidden--visually\" id=\"4fa6a837-f63b-4d03-846c-ce728450256e\" type=\"checkbox\" ><label for=\"4fa6a837-f63b-4d03-846c-ce728450256e\" class=\"sk-toggleable__label sk-toggleable__label-arrow\">passthrough</label><div class=\"sk-toggleable__content\"><pre>passthrough</pre></div></div></div></div></div></div></div></div><div class=\"sk-item sk-dashed-wrapped\"><div class=\"sk-label-container\"><div class=\"sk-label sk-toggleable\"><input class=\"sk-toggleable__control sk-hidden--visually\" id=\"59b35a3d-4e88-4a0d-8e39-fe36f8bc65cf\" type=\"checkbox\" ><label for=\"59b35a3d-4e88-4a0d-8e39-fe36f8bc65cf\" class=\"sk-toggleable__label sk-toggleable__label-arrow\">trf3: ColumnTransformer</label><div class=\"sk-toggleable__content\"><pre>ColumnTransformer(transformers=[(&#x27;scale&#x27;, RobustScaler(), slice(0, 20, None))])</pre></div></div></div><div class=\"sk-parallel\"><div class=\"sk-parallel-item\"><div class=\"sk-item\"><div class=\"sk-label-container\"><div class=\"sk-label sk-toggleable\"><input class=\"sk-toggleable__control sk-hidden--visually\" id=\"419691fc-d05c-4f26-99fb-52347394ad6c\" type=\"checkbox\" ><label for=\"419691fc-d05c-4f26-99fb-52347394ad6c\" class=\"sk-toggleable__label sk-toggleable__label-arrow\">scale</label><div class=\"sk-toggleable__content\"><pre>slice(0, 20, None)</pre></div></div></div><div class=\"sk-serial\"><div class=\"sk-item\"><div class=\"sk-estimator sk-toggleable\"><input class=\"sk-toggleable__control sk-hidden--visually\" id=\"3a5ffcc8-5a07-48b2-add0-c85787b17d32\" type=\"checkbox\" ><label for=\"3a5ffcc8-5a07-48b2-add0-c85787b17d32\" class=\"sk-toggleable__label sk-toggleable__label-arrow\">RobustScaler</label><div class=\"sk-toggleable__content\"><pre>RobustScaler()</pre></div></div></div></div></div></div></div></div><div class=\"sk-item\"><div class=\"sk-estimator sk-toggleable\"><input class=\"sk-toggleable__control sk-hidden--visually\" id=\"d3d2121c-d028-45d7-be1e-9797006399fc\" type=\"checkbox\" ><label for=\"d3d2121c-d028-45d7-be1e-9797006399fc\" class=\"sk-toggleable__label sk-toggleable__label-arrow\">SelectKBest</label><div class=\"sk-toggleable__content\"><pre>SelectKBest(k=8, score_func=&lt;function chi2 at 0x7f3d2dac2830&gt;)</pre></div></div></div><div class=\"sk-item\"><div class=\"sk-estimator sk-toggleable\"><input class=\"sk-toggleable__control sk-hidden--visually\" id=\"d83aa4bf-ee60-4697-9202-20393de8b30f\" type=\"checkbox\" ><label for=\"d83aa4bf-ee60-4697-9202-20393de8b30f\" class=\"sk-toggleable__label sk-toggleable__label-arrow\">AdaBoostClassifier</label><div class=\"sk-toggleable__content\"><pre>AdaBoostClassifier()</pre></div></div></div></div></div></div></div>"
      ],
      "text/plain": [
       "Pipeline(steps=[('trf1',\n",
       "                 ColumnTransformer(remainder='passthrough',\n",
       "                                   transformers=[('mean_imputer',\n",
       "                                                  Pipeline(steps=[('imputer',\n",
       "                                                                   SimpleImputer())]),\n",
       "                                                  ['LoanAmount']),\n",
       "                                                 ('most_frequent_imputer',\n",
       "                                                  Pipeline(steps=[('imputer',\n",
       "                                                                   SimpleImputer(strategy='most_frequent'))]),\n",
       "                                                  ['Loan_Amount_Term', 'Gender',\n",
       "                                                   'Married', 'Self_Employed',\n",
       "                                                   'Credit_History',\n",
       "                                                   'Dependents'])])),\n",
       "                ('trf2',\n",
       "                 ColumnTransformer(remainder='passthrough',\n",
       "                                   transformers=[('ohe',\n",
       "                                                  OneHotEncoder(handle_unknown='ignore',\n",
       "                                                                sparse=False),\n",
       "                                                  [0, 1, 3, 4, 10])])),\n",
       "                ('trf3',\n",
       "                 ColumnTransformer(transformers=[('scale', RobustScaler(),\n",
       "                                                  slice(0, 20, None))])),\n",
       "                ('trf4',\n",
       "                 SelectKBest(k=8,\n",
       "                             score_func=<function chi2 at 0x7f3d2dac2830>)),\n",
       "                ('trf5', AdaBoostClassifier())])"
      ]
     },
     "execution_count": 43,
     "metadata": {},
     "output_type": "execute_result"
    }
   ],
   "source": [
    "# train\n",
    "pipe_ada.fit(X_train,y_train)"
   ]
  },
  {
   "cell_type": "code",
   "execution_count": 44,
   "id": "841dc2f8",
   "metadata": {
    "execution": {
     "iopub.execute_input": "2022-09-30T05:48:35.438971Z",
     "iopub.status.busy": "2022-09-30T05:48:35.438058Z",
     "iopub.status.idle": "2022-09-30T05:48:35.462561Z",
     "shell.execute_reply": "2022-09-30T05:48:35.460885Z"
    },
    "papermill": {
     "duration": 0.051613,
     "end_time": "2022-09-30T05:48:35.465552",
     "exception": false,
     "start_time": "2022-09-30T05:48:35.413939",
     "status": "completed"
    },
    "tags": []
   },
   "outputs": [
    {
     "name": "stdout",
     "output_type": "stream",
     "text": [
      "Accuracy Score:  65.0 %\n"
     ]
    }
   ],
   "source": [
    "# Predict\n",
    "y_pred = pipe_ada.predict(X_test)\n",
    "\n",
    "from sklearn.metrics import accuracy_score\n",
    "print(\"Accuracy Score: \",accuracy_score(y_test,y_pred).round(2)*100,\"%\")"
   ]
  },
  {
   "cell_type": "code",
   "execution_count": 45,
   "id": "c31c877b",
   "metadata": {
    "execution": {
     "iopub.execute_input": "2022-09-30T05:48:35.514269Z",
     "iopub.status.busy": "2022-09-30T05:48:35.513937Z",
     "iopub.status.idle": "2022-09-30T05:48:36.721650Z",
     "shell.execute_reply": "2022-09-30T05:48:36.720574Z"
    },
    "papermill": {
     "duration": 1.234974,
     "end_time": "2022-09-30T05:48:36.724527",
     "exception": false,
     "start_time": "2022-09-30T05:48:35.489553",
     "status": "completed"
    },
    "scrolled": true,
    "tags": []
   },
   "outputs": [
    {
     "name": "stdout",
     "output_type": "stream",
     "text": [
      "cross_val_score     :  [69.7 69.4 69.4 69.4 69.4] %\n",
      "\u001b[1m--------------------------------------------------------\u001b[0m\n",
      "cross_val_score mean:  69.0 %\n"
     ]
    }
   ],
   "source": [
    "# cross validation using cross_val_score\n",
    "from sklearn.model_selection import cross_val_score\n",
    "\n",
    "print(\"cross_val_score     : \",cross_val_score(pipe_ada, X_train, y_train, cv=5, scoring='accuracy').round(3)*100,\"%\")\n",
    "print(\"\\033[1m--------------------------------------------------------\\033[0m\")\n",
    "print(\"cross_val_score mean: \",cross_val_score(pipe_ada, X_train, y_train, cv=5, scoring='accuracy').mean().round(2)*100,\"%\")"
   ]
  },
  {
   "cell_type": "code",
   "execution_count": 46,
   "id": "ab5a6a6a",
   "metadata": {
    "execution": {
     "iopub.execute_input": "2022-09-30T05:48:36.775295Z",
     "iopub.status.busy": "2022-09-30T05:48:36.773853Z",
     "iopub.status.idle": "2022-09-30T05:50:09.183897Z",
     "shell.execute_reply": "2022-09-30T05:50:09.182966Z"
    },
    "papermill": {
     "duration": 92.460826,
     "end_time": "2022-09-30T05:50:09.210120",
     "exception": false,
     "start_time": "2022-09-30T05:48:36.749294",
     "status": "completed"
    },
    "tags": []
   },
   "outputs": [
    {
     "data": {
      "text/html": [
       "<style>#sk-50531a3b-bc0a-4b9f-a4f1-beb3683aec87 {color: black;background-color: white;}#sk-50531a3b-bc0a-4b9f-a4f1-beb3683aec87 pre{padding: 0;}#sk-50531a3b-bc0a-4b9f-a4f1-beb3683aec87 div.sk-toggleable {background-color: white;}#sk-50531a3b-bc0a-4b9f-a4f1-beb3683aec87 label.sk-toggleable__label {cursor: pointer;display: block;width: 100%;margin-bottom: 0;padding: 0.3em;box-sizing: border-box;text-align: center;}#sk-50531a3b-bc0a-4b9f-a4f1-beb3683aec87 label.sk-toggleable__label-arrow:before {content: \"▸\";float: left;margin-right: 0.25em;color: #696969;}#sk-50531a3b-bc0a-4b9f-a4f1-beb3683aec87 label.sk-toggleable__label-arrow:hover:before {color: black;}#sk-50531a3b-bc0a-4b9f-a4f1-beb3683aec87 div.sk-estimator:hover label.sk-toggleable__label-arrow:before {color: black;}#sk-50531a3b-bc0a-4b9f-a4f1-beb3683aec87 div.sk-toggleable__content {max-height: 0;max-width: 0;overflow: hidden;text-align: left;background-color: #f0f8ff;}#sk-50531a3b-bc0a-4b9f-a4f1-beb3683aec87 div.sk-toggleable__content pre {margin: 0.2em;color: black;border-radius: 0.25em;background-color: #f0f8ff;}#sk-50531a3b-bc0a-4b9f-a4f1-beb3683aec87 input.sk-toggleable__control:checked~div.sk-toggleable__content {max-height: 200px;max-width: 100%;overflow: auto;}#sk-50531a3b-bc0a-4b9f-a4f1-beb3683aec87 input.sk-toggleable__control:checked~label.sk-toggleable__label-arrow:before {content: \"▾\";}#sk-50531a3b-bc0a-4b9f-a4f1-beb3683aec87 div.sk-estimator input.sk-toggleable__control:checked~label.sk-toggleable__label {background-color: #d4ebff;}#sk-50531a3b-bc0a-4b9f-a4f1-beb3683aec87 div.sk-label input.sk-toggleable__control:checked~label.sk-toggleable__label {background-color: #d4ebff;}#sk-50531a3b-bc0a-4b9f-a4f1-beb3683aec87 input.sk-hidden--visually {border: 0;clip: rect(1px 1px 1px 1px);clip: rect(1px, 1px, 1px, 1px);height: 1px;margin: -1px;overflow: hidden;padding: 0;position: absolute;width: 1px;}#sk-50531a3b-bc0a-4b9f-a4f1-beb3683aec87 div.sk-estimator {font-family: monospace;background-color: #f0f8ff;border: 1px dotted black;border-radius: 0.25em;box-sizing: border-box;margin-bottom: 0.5em;}#sk-50531a3b-bc0a-4b9f-a4f1-beb3683aec87 div.sk-estimator:hover {background-color: #d4ebff;}#sk-50531a3b-bc0a-4b9f-a4f1-beb3683aec87 div.sk-parallel-item::after {content: \"\";width: 100%;border-bottom: 1px solid gray;flex-grow: 1;}#sk-50531a3b-bc0a-4b9f-a4f1-beb3683aec87 div.sk-label:hover label.sk-toggleable__label {background-color: #d4ebff;}#sk-50531a3b-bc0a-4b9f-a4f1-beb3683aec87 div.sk-serial::before {content: \"\";position: absolute;border-left: 1px solid gray;box-sizing: border-box;top: 2em;bottom: 0;left: 50%;}#sk-50531a3b-bc0a-4b9f-a4f1-beb3683aec87 div.sk-serial {display: flex;flex-direction: column;align-items: center;background-color: white;padding-right: 0.2em;padding-left: 0.2em;}#sk-50531a3b-bc0a-4b9f-a4f1-beb3683aec87 div.sk-item {z-index: 1;}#sk-50531a3b-bc0a-4b9f-a4f1-beb3683aec87 div.sk-parallel {display: flex;align-items: stretch;justify-content: center;background-color: white;}#sk-50531a3b-bc0a-4b9f-a4f1-beb3683aec87 div.sk-parallel::before {content: \"\";position: absolute;border-left: 1px solid gray;box-sizing: border-box;top: 2em;bottom: 0;left: 50%;}#sk-50531a3b-bc0a-4b9f-a4f1-beb3683aec87 div.sk-parallel-item {display: flex;flex-direction: column;position: relative;background-color: white;}#sk-50531a3b-bc0a-4b9f-a4f1-beb3683aec87 div.sk-parallel-item:first-child::after {align-self: flex-end;width: 50%;}#sk-50531a3b-bc0a-4b9f-a4f1-beb3683aec87 div.sk-parallel-item:last-child::after {align-self: flex-start;width: 50%;}#sk-50531a3b-bc0a-4b9f-a4f1-beb3683aec87 div.sk-parallel-item:only-child::after {width: 0;}#sk-50531a3b-bc0a-4b9f-a4f1-beb3683aec87 div.sk-dashed-wrapped {border: 1px dashed gray;margin: 0 0.4em 0.5em 0.4em;box-sizing: border-box;padding-bottom: 0.4em;background-color: white;position: relative;}#sk-50531a3b-bc0a-4b9f-a4f1-beb3683aec87 div.sk-label label {font-family: monospace;font-weight: bold;background-color: white;display: inline-block;line-height: 1.2em;}#sk-50531a3b-bc0a-4b9f-a4f1-beb3683aec87 div.sk-label-container {position: relative;z-index: 2;text-align: center;}#sk-50531a3b-bc0a-4b9f-a4f1-beb3683aec87 div.sk-container {/* jupyter's `normalize.less` sets `[hidden] { display: none; }` but bootstrap.min.css set `[hidden] { display: none !important; }` so we also need the `!important` here to be able to override the default hidden behavior on the sphinx rendered scikit-learn.org. See: https://github.com/scikit-learn/scikit-learn/issues/21755 */display: inline-block !important;position: relative;}#sk-50531a3b-bc0a-4b9f-a4f1-beb3683aec87 div.sk-text-repr-fallback {display: none;}</style><div id=\"sk-50531a3b-bc0a-4b9f-a4f1-beb3683aec87\" class=\"sk-top-container\"><div class=\"sk-text-repr-fallback\"><pre>GridSearchCV(cv=StratifiedShuffleSplit(n_splits=10, random_state=15, test_size=0.3,\n",
       "            train_size=None),\n",
       "             estimator=Pipeline(steps=[(&#x27;trf1&#x27;,\n",
       "                                        ColumnTransformer(remainder=&#x27;passthrough&#x27;,\n",
       "                                                          transformers=[(&#x27;mean_imputer&#x27;,\n",
       "                                                                         Pipeline(steps=[(&#x27;imputer&#x27;,\n",
       "                                                                                          SimpleImputer())]),\n",
       "                                                                         [&#x27;LoanAmount&#x27;]),\n",
       "                                                                        (&#x27;most_frequent_imputer&#x27;,\n",
       "                                                                         Pipeline(steps=[(&#x27;imputer&#x27;,\n",
       "                                                                                          SimpleImputer(strategy=&#x27;most_fre...\n",
       "                                                                         OneHotEncoder(handle_unknown=&#x27;ignore&#x27;,\n",
       "                                                                                       sparse=False),\n",
       "                                                                         [0, 1,\n",
       "                                                                          3, 4,\n",
       "                                                                          10])])),\n",
       "                                       (&#x27;trf3&#x27;,\n",
       "                                        ColumnTransformer(transformers=[(&#x27;scale&#x27;,\n",
       "                                                                         RobustScaler(),\n",
       "                                                                         slice(0, 20, None))])),\n",
       "                                       (&#x27;trf4&#x27;,\n",
       "                                        SelectKBest(k=8,\n",
       "                                                    score_func=&lt;function chi2 at 0x7f3d2dac2830&gt;)),\n",
       "                                       (&#x27;trf5&#x27;, AdaBoostClassifier())]),\n",
       "             n_jobs=-1,\n",
       "             param_grid={&#x27;trf5__learning_rate&#x27;: [0.1, 1, 0.01, 0.5],\n",
       "                         &#x27;trf5__n_estimators&#x27;: [100, 140, 145, 150, 160, 170,\n",
       "                                                175, 180, 185]})</pre><b>Please rerun this cell to show the HTML repr or trust the notebook.</b></div><div class=\"sk-container\" hidden><div class=\"sk-item sk-dashed-wrapped\"><div class=\"sk-label-container\"><div class=\"sk-label sk-toggleable\"><input class=\"sk-toggleable__control sk-hidden--visually\" id=\"401f0bfd-e8da-4e68-bf7b-39e864b56635\" type=\"checkbox\" ><label for=\"401f0bfd-e8da-4e68-bf7b-39e864b56635\" class=\"sk-toggleable__label sk-toggleable__label-arrow\">GridSearchCV</label><div class=\"sk-toggleable__content\"><pre>GridSearchCV(cv=StratifiedShuffleSplit(n_splits=10, random_state=15, test_size=0.3,\n",
       "            train_size=None),\n",
       "             estimator=Pipeline(steps=[(&#x27;trf1&#x27;,\n",
       "                                        ColumnTransformer(remainder=&#x27;passthrough&#x27;,\n",
       "                                                          transformers=[(&#x27;mean_imputer&#x27;,\n",
       "                                                                         Pipeline(steps=[(&#x27;imputer&#x27;,\n",
       "                                                                                          SimpleImputer())]),\n",
       "                                                                         [&#x27;LoanAmount&#x27;]),\n",
       "                                                                        (&#x27;most_frequent_imputer&#x27;,\n",
       "                                                                         Pipeline(steps=[(&#x27;imputer&#x27;,\n",
       "                                                                                          SimpleImputer(strategy=&#x27;most_fre...\n",
       "                                                                         OneHotEncoder(handle_unknown=&#x27;ignore&#x27;,\n",
       "                                                                                       sparse=False),\n",
       "                                                                         [0, 1,\n",
       "                                                                          3, 4,\n",
       "                                                                          10])])),\n",
       "                                       (&#x27;trf3&#x27;,\n",
       "                                        ColumnTransformer(transformers=[(&#x27;scale&#x27;,\n",
       "                                                                         RobustScaler(),\n",
       "                                                                         slice(0, 20, None))])),\n",
       "                                       (&#x27;trf4&#x27;,\n",
       "                                        SelectKBest(k=8,\n",
       "                                                    score_func=&lt;function chi2 at 0x7f3d2dac2830&gt;)),\n",
       "                                       (&#x27;trf5&#x27;, AdaBoostClassifier())]),\n",
       "             n_jobs=-1,\n",
       "             param_grid={&#x27;trf5__learning_rate&#x27;: [0.1, 1, 0.01, 0.5],\n",
       "                         &#x27;trf5__n_estimators&#x27;: [100, 140, 145, 150, 160, 170,\n",
       "                                                175, 180, 185]})</pre></div></div></div><div class=\"sk-parallel\"><div class=\"sk-parallel-item\"><div class=\"sk-item\"><div class=\"sk-serial\"><div class=\"sk-item\"><div class=\"sk-serial\"><div class=\"sk-item sk-dashed-wrapped\"><div class=\"sk-label-container\"><div class=\"sk-label sk-toggleable\"><input class=\"sk-toggleable__control sk-hidden--visually\" id=\"f5a1baed-5869-46bd-8d19-1292c7e9ae3a\" type=\"checkbox\" ><label for=\"f5a1baed-5869-46bd-8d19-1292c7e9ae3a\" class=\"sk-toggleable__label sk-toggleable__label-arrow\">trf1: ColumnTransformer</label><div class=\"sk-toggleable__content\"><pre>ColumnTransformer(remainder=&#x27;passthrough&#x27;,\n",
       "                  transformers=[(&#x27;mean_imputer&#x27;,\n",
       "                                 Pipeline(steps=[(&#x27;imputer&#x27;, SimpleImputer())]),\n",
       "                                 [&#x27;LoanAmount&#x27;]),\n",
       "                                (&#x27;most_frequent_imputer&#x27;,\n",
       "                                 Pipeline(steps=[(&#x27;imputer&#x27;,\n",
       "                                                  SimpleImputer(strategy=&#x27;most_frequent&#x27;))]),\n",
       "                                 [&#x27;Loan_Amount_Term&#x27;, &#x27;Gender&#x27;, &#x27;Married&#x27;,\n",
       "                                  &#x27;Self_Employed&#x27;, &#x27;Credit_History&#x27;,\n",
       "                                  &#x27;Dependents&#x27;])])</pre></div></div></div><div class=\"sk-parallel\"><div class=\"sk-parallel-item\"><div class=\"sk-item\"><div class=\"sk-label-container\"><div class=\"sk-label sk-toggleable\"><input class=\"sk-toggleable__control sk-hidden--visually\" id=\"cf1a0e4a-f735-4b15-8c68-4ba5ecdae417\" type=\"checkbox\" ><label for=\"cf1a0e4a-f735-4b15-8c68-4ba5ecdae417\" class=\"sk-toggleable__label sk-toggleable__label-arrow\">mean_imputer</label><div class=\"sk-toggleable__content\"><pre>[&#x27;LoanAmount&#x27;]</pre></div></div></div><div class=\"sk-serial\"><div class=\"sk-item\"><div class=\"sk-serial\"><div class=\"sk-item\"><div class=\"sk-estimator sk-toggleable\"><input class=\"sk-toggleable__control sk-hidden--visually\" id=\"d1d421f8-9d71-46fc-9dd6-372a497e7604\" type=\"checkbox\" ><label for=\"d1d421f8-9d71-46fc-9dd6-372a497e7604\" class=\"sk-toggleable__label sk-toggleable__label-arrow\">SimpleImputer</label><div class=\"sk-toggleable__content\"><pre>SimpleImputer()</pre></div></div></div></div></div></div></div></div><div class=\"sk-parallel-item\"><div class=\"sk-item\"><div class=\"sk-label-container\"><div class=\"sk-label sk-toggleable\"><input class=\"sk-toggleable__control sk-hidden--visually\" id=\"ed55831f-0030-4160-bc31-ab15bd29e006\" type=\"checkbox\" ><label for=\"ed55831f-0030-4160-bc31-ab15bd29e006\" class=\"sk-toggleable__label sk-toggleable__label-arrow\">most_frequent_imputer</label><div class=\"sk-toggleable__content\"><pre>[&#x27;Loan_Amount_Term&#x27;, &#x27;Gender&#x27;, &#x27;Married&#x27;, &#x27;Self_Employed&#x27;, &#x27;Credit_History&#x27;, &#x27;Dependents&#x27;]</pre></div></div></div><div class=\"sk-serial\"><div class=\"sk-item\"><div class=\"sk-serial\"><div class=\"sk-item\"><div class=\"sk-estimator sk-toggleable\"><input class=\"sk-toggleable__control sk-hidden--visually\" id=\"fcd6b570-6c29-49e5-8154-13b815162bd8\" type=\"checkbox\" ><label for=\"fcd6b570-6c29-49e5-8154-13b815162bd8\" class=\"sk-toggleable__label sk-toggleable__label-arrow\">SimpleImputer</label><div class=\"sk-toggleable__content\"><pre>SimpleImputer(strategy=&#x27;most_frequent&#x27;)</pre></div></div></div></div></div></div></div></div><div class=\"sk-parallel-item\"><div class=\"sk-item\"><div class=\"sk-label-container\"><div class=\"sk-label sk-toggleable\"><input class=\"sk-toggleable__control sk-hidden--visually\" id=\"0c05274c-51e6-4c7c-81f7-a53d5cb9ee8e\" type=\"checkbox\" ><label for=\"0c05274c-51e6-4c7c-81f7-a53d5cb9ee8e\" class=\"sk-toggleable__label sk-toggleable__label-arrow\">remainder</label><div class=\"sk-toggleable__content\"><pre>[&#x27;Education&#x27;, &#x27;ApplicantIncome&#x27;, &#x27;CoapplicantIncome&#x27;, &#x27;Property_Area&#x27;]</pre></div></div></div><div class=\"sk-serial\"><div class=\"sk-item\"><div class=\"sk-estimator sk-toggleable\"><input class=\"sk-toggleable__control sk-hidden--visually\" id=\"c0e08729-c25a-4d42-bea5-5742a44f053d\" type=\"checkbox\" ><label for=\"c0e08729-c25a-4d42-bea5-5742a44f053d\" class=\"sk-toggleable__label sk-toggleable__label-arrow\">passthrough</label><div class=\"sk-toggleable__content\"><pre>passthrough</pre></div></div></div></div></div></div></div></div><div class=\"sk-item sk-dashed-wrapped\"><div class=\"sk-label-container\"><div class=\"sk-label sk-toggleable\"><input class=\"sk-toggleable__control sk-hidden--visually\" id=\"6f427822-217b-4e3a-a887-7211f1b1aea4\" type=\"checkbox\" ><label for=\"6f427822-217b-4e3a-a887-7211f1b1aea4\" class=\"sk-toggleable__label sk-toggleable__label-arrow\">trf2: ColumnTransformer</label><div class=\"sk-toggleable__content\"><pre>ColumnTransformer(remainder=&#x27;passthrough&#x27;,\n",
       "                  transformers=[(&#x27;ohe&#x27;,\n",
       "                                 OneHotEncoder(handle_unknown=&#x27;ignore&#x27;,\n",
       "                                               sparse=False),\n",
       "                                 [0, 1, 3, 4, 10])])</pre></div></div></div><div class=\"sk-parallel\"><div class=\"sk-parallel-item\"><div class=\"sk-item\"><div class=\"sk-label-container\"><div class=\"sk-label sk-toggleable\"><input class=\"sk-toggleable__control sk-hidden--visually\" id=\"8dccb380-b285-4ee3-960d-2403849d1ea4\" type=\"checkbox\" ><label for=\"8dccb380-b285-4ee3-960d-2403849d1ea4\" class=\"sk-toggleable__label sk-toggleable__label-arrow\">ohe</label><div class=\"sk-toggleable__content\"><pre>[0, 1, 3, 4, 10]</pre></div></div></div><div class=\"sk-serial\"><div class=\"sk-item\"><div class=\"sk-estimator sk-toggleable\"><input class=\"sk-toggleable__control sk-hidden--visually\" id=\"045756dd-2189-4e12-bea8-8ee222bcee8e\" type=\"checkbox\" ><label for=\"045756dd-2189-4e12-bea8-8ee222bcee8e\" class=\"sk-toggleable__label sk-toggleable__label-arrow\">OneHotEncoder</label><div class=\"sk-toggleable__content\"><pre>OneHotEncoder(handle_unknown=&#x27;ignore&#x27;, sparse=False)</pre></div></div></div></div></div></div><div class=\"sk-parallel-item\"><div class=\"sk-item\"><div class=\"sk-label-container\"><div class=\"sk-label sk-toggleable\"><input class=\"sk-toggleable__control sk-hidden--visually\" id=\"50e3de5c-f7c4-4981-82cf-4169f5531db4\" type=\"checkbox\" ><label for=\"50e3de5c-f7c4-4981-82cf-4169f5531db4\" class=\"sk-toggleable__label sk-toggleable__label-arrow\">remainder</label><div class=\"sk-toggleable__content\"><pre>[2, 5, 6, 7, 8, 9]</pre></div></div></div><div class=\"sk-serial\"><div class=\"sk-item\"><div class=\"sk-estimator sk-toggleable\"><input class=\"sk-toggleable__control sk-hidden--visually\" id=\"f7bb8c1a-0bbd-470a-8b92-437575ff7b66\" type=\"checkbox\" ><label for=\"f7bb8c1a-0bbd-470a-8b92-437575ff7b66\" class=\"sk-toggleable__label sk-toggleable__label-arrow\">passthrough</label><div class=\"sk-toggleable__content\"><pre>passthrough</pre></div></div></div></div></div></div></div></div><div class=\"sk-item sk-dashed-wrapped\"><div class=\"sk-label-container\"><div class=\"sk-label sk-toggleable\"><input class=\"sk-toggleable__control sk-hidden--visually\" id=\"b021fe46-d142-4601-bf53-498826e75910\" type=\"checkbox\" ><label for=\"b021fe46-d142-4601-bf53-498826e75910\" class=\"sk-toggleable__label sk-toggleable__label-arrow\">trf3: ColumnTransformer</label><div class=\"sk-toggleable__content\"><pre>ColumnTransformer(transformers=[(&#x27;scale&#x27;, RobustScaler(), slice(0, 20, None))])</pre></div></div></div><div class=\"sk-parallel\"><div class=\"sk-parallel-item\"><div class=\"sk-item\"><div class=\"sk-label-container\"><div class=\"sk-label sk-toggleable\"><input class=\"sk-toggleable__control sk-hidden--visually\" id=\"c78b6a4e-94bc-4010-8af1-bd56240a530e\" type=\"checkbox\" ><label for=\"c78b6a4e-94bc-4010-8af1-bd56240a530e\" class=\"sk-toggleable__label sk-toggleable__label-arrow\">scale</label><div class=\"sk-toggleable__content\"><pre>slice(0, 20, None)</pre></div></div></div><div class=\"sk-serial\"><div class=\"sk-item\"><div class=\"sk-estimator sk-toggleable\"><input class=\"sk-toggleable__control sk-hidden--visually\" id=\"699c630a-f40a-4a8f-9a8c-4386530064b3\" type=\"checkbox\" ><label for=\"699c630a-f40a-4a8f-9a8c-4386530064b3\" class=\"sk-toggleable__label sk-toggleable__label-arrow\">RobustScaler</label><div class=\"sk-toggleable__content\"><pre>RobustScaler()</pre></div></div></div></div></div></div></div></div><div class=\"sk-item\"><div class=\"sk-estimator sk-toggleable\"><input class=\"sk-toggleable__control sk-hidden--visually\" id=\"29c89645-32d6-4e2d-a27e-544144ebd9b5\" type=\"checkbox\" ><label for=\"29c89645-32d6-4e2d-a27e-544144ebd9b5\" class=\"sk-toggleable__label sk-toggleable__label-arrow\">SelectKBest</label><div class=\"sk-toggleable__content\"><pre>SelectKBest(k=8, score_func=&lt;function chi2 at 0x7f3d2dac2830&gt;)</pre></div></div></div><div class=\"sk-item\"><div class=\"sk-estimator sk-toggleable\"><input class=\"sk-toggleable__control sk-hidden--visually\" id=\"f9fb3bfd-8b20-4310-8dce-eb5e2352675d\" type=\"checkbox\" ><label for=\"f9fb3bfd-8b20-4310-8dce-eb5e2352675d\" class=\"sk-toggleable__label sk-toggleable__label-arrow\">AdaBoostClassifier</label><div class=\"sk-toggleable__content\"><pre>AdaBoostClassifier()</pre></div></div></div></div></div></div></div></div></div></div></div></div>"
      ],
      "text/plain": [
       "GridSearchCV(cv=StratifiedShuffleSplit(n_splits=10, random_state=15, test_size=0.3,\n",
       "            train_size=None),\n",
       "             estimator=Pipeline(steps=[('trf1',\n",
       "                                        ColumnTransformer(remainder='passthrough',\n",
       "                                                          transformers=[('mean_imputer',\n",
       "                                                                         Pipeline(steps=[('imputer',\n",
       "                                                                                          SimpleImputer())]),\n",
       "                                                                         ['LoanAmount']),\n",
       "                                                                        ('most_frequent_imputer',\n",
       "                                                                         Pipeline(steps=[('imputer',\n",
       "                                                                                          SimpleImputer(strategy='most_fre...\n",
       "                                                                         OneHotEncoder(handle_unknown='ignore',\n",
       "                                                                                       sparse=False),\n",
       "                                                                         [0, 1,\n",
       "                                                                          3, 4,\n",
       "                                                                          10])])),\n",
       "                                       ('trf3',\n",
       "                                        ColumnTransformer(transformers=[('scale',\n",
       "                                                                         RobustScaler(),\n",
       "                                                                         slice(0, 20, None))])),\n",
       "                                       ('trf4',\n",
       "                                        SelectKBest(k=8,\n",
       "                                                    score_func=<function chi2 at 0x7f3d2dac2830>)),\n",
       "                                       ('trf5', AdaBoostClassifier())]),\n",
       "             n_jobs=-1,\n",
       "             param_grid={'trf5__learning_rate': [0.1, 1, 0.01, 0.5],\n",
       "                         'trf5__n_estimators': [100, 140, 145, 150, 160, 170,\n",
       "                                                175, 180, 185]})"
      ]
     },
     "execution_count": 46,
     "metadata": {},
     "output_type": "execute_result"
    }
   ],
   "source": [
    "n_estimators = [100,140,145,150,160, 170,175,180,185];\n",
    "learning_r = [0.1,1,0.01,0.5]\n",
    "\n",
    "parameters = {'trf5__n_estimators':n_estimators,\n",
    "              'trf5__learning_rate':learning_r\n",
    "              \n",
    "        }\n",
    "\n",
    "cv = StratifiedShuffleSplit(n_splits=10, test_size=.30, random_state=15)\n",
    "grid_ada = GridSearchCV(pipe_ada,\n",
    "                                 param_grid=parameters,\n",
    "                                 cv=cv,\n",
    "                                 n_jobs = -1)\n",
    "grid_ada.fit(X_train,y_train) "
   ]
  },
  {
   "cell_type": "code",
   "execution_count": 47,
   "id": "2632f6ef",
   "metadata": {
    "execution": {
     "iopub.execute_input": "2022-09-30T05:50:09.260420Z",
     "iopub.status.busy": "2022-09-30T05:50:09.259765Z",
     "iopub.status.idle": "2022-09-30T05:50:09.266364Z",
     "shell.execute_reply": "2022-09-30T05:50:09.264951Z"
    },
    "papermill": {
     "duration": 0.034038,
     "end_time": "2022-09-30T05:50:09.268411",
     "exception": false,
     "start_time": "2022-09-30T05:50:09.234373",
     "status": "completed"
    },
    "tags": []
   },
   "outputs": [
    {
     "name": "stdout",
     "output_type": "stream",
     "text": [
      "Grid Best Score:  69.0 %\n"
     ]
    }
   ],
   "source": [
    "print(\"Grid Best Score: \", grid_ada.best_score_.round(2)*100,\"%\")"
   ]
  },
  {
   "cell_type": "code",
   "execution_count": 48,
   "id": "c66c693a",
   "metadata": {
    "execution": {
     "iopub.execute_input": "2022-09-30T05:50:09.318434Z",
     "iopub.status.busy": "2022-09-30T05:50:09.317853Z",
     "iopub.status.idle": "2022-09-30T05:50:09.324046Z",
     "shell.execute_reply": "2022-09-30T05:50:09.322584Z"
    },
    "papermill": {
     "duration": 0.033983,
     "end_time": "2022-09-30T05:50:09.326880",
     "exception": false,
     "start_time": "2022-09-30T05:50:09.292897",
     "status": "completed"
    },
    "tags": []
   },
   "outputs": [
    {
     "name": "stdout",
     "output_type": "stream",
     "text": [
      "Grid Best Parameter:  {'trf5__learning_rate': 0.1, 'trf5__n_estimators': 100}\n"
     ]
    }
   ],
   "source": [
    "print(\"Grid Best Parameter: \", grid_ada.best_params_)"
   ]
  },
  {
   "cell_type": "code",
   "execution_count": 49,
   "id": "041bacca",
   "metadata": {
    "execution": {
     "iopub.execute_input": "2022-09-30T05:50:09.376657Z",
     "iopub.status.busy": "2022-09-30T05:50:09.376380Z",
     "iopub.status.idle": "2022-09-30T05:50:09.449419Z",
     "shell.execute_reply": "2022-09-30T05:50:09.448001Z"
    },
    "papermill": {
     "duration": 0.10088,
     "end_time": "2022-09-30T05:50:09.452210",
     "exception": false,
     "start_time": "2022-09-30T05:50:09.351330",
     "status": "completed"
    },
    "tags": []
   },
   "outputs": [
    {
     "name": "stdout",
     "output_type": "stream",
     "text": [
      "Training Accuracy with GridSearch : 70.47 %\n",
      "Model Accuracy with GridSearch    : 70.0 %\n"
     ]
    }
   ],
   "source": [
    "### Using the best parameters from the grid-search.\n",
    "ada_grid = grid_ada.best_estimator_\n",
    "\n",
    "ada_train_grid = round(ada_grid.score(X_train, y_train) * 100, 2)\n",
    "ada_accuracy_grid =ada_grid.score(X_train,y_train).round(2)*100\n",
    "\n",
    "print(\"Training Accuracy with GridSearch :\",ada_train_grid  ,\"%\")\n",
    "print(\"Model Accuracy with GridSearch    :\",ada_accuracy_grid ,\"%\")"
   ]
  },
  {
   "cell_type": "markdown",
   "id": "c2ea8c2e",
   "metadata": {
    "papermill": {
     "duration": 0.024537,
     "end_time": "2022-09-30T05:50:09.502755",
     "exception": false,
     "start_time": "2022-09-30T05:50:09.478218",
     "status": "completed"
    },
    "tags": []
   },
   "source": [
    "<h1 style=\"color:Orange;font-size:45px;font-family:Georgia;text-align:center;\"> 📚 <strong style=\"color:Orange;font-size:40px;font-family:serif;\"> BaggingClassifier </strong> 📚 </h1>"
   ]
  },
  {
   "cell_type": "code",
   "execution_count": 50,
   "id": "f2ec094c",
   "metadata": {
    "execution": {
     "iopub.execute_input": "2022-09-30T05:50:09.554647Z",
     "iopub.status.busy": "2022-09-30T05:50:09.553737Z",
     "iopub.status.idle": "2022-09-30T05:50:09.563218Z",
     "shell.execute_reply": "2022-09-30T05:50:09.562310Z"
    },
    "papermill": {
     "duration": 0.037117,
     "end_time": "2022-09-30T05:50:09.565236",
     "exception": false,
     "start_time": "2022-09-30T05:50:09.528119",
     "status": "completed"
    },
    "tags": []
   },
   "outputs": [],
   "source": [
    "num_var_mean = ['LoanAmount']\n",
    "num_var_mostfrequent = ['Loan_Amount_Term','Gender','Married','Self_Employed','Credit_History','Dependents']\n",
    "num_no_missingvalue = ['Education','ApplicantIncome','CoapplicantIncome','Property_Area','Loan_Status']\n",
    "\n",
    "num_var_meanimputer = Pipeline(steps=[(\"imputer\",SimpleImputer(strategy='mean'))])\n",
    "num_var_most_frequent = Pipeline(steps=[(\"imputer\",SimpleImputer(strategy='most_frequent'))])\n",
    "\n",
    "# imputation transformer\n",
    "trf1 = ColumnTransformer([(\"mean_imputer\", num_var_meanimputer, num_var_mean),\n",
    "                        (\"most_frequent_imputer\", num_var_most_frequent, num_var_mostfrequent)\n",
    "    \n",
    "],remainder='passthrough')\n",
    "\n",
    "# one hot encoding\n",
    "trf2 = ColumnTransformer([\n",
    "    ('ohe',OneHotEncoder(sparse=False,handle_unknown='ignore'),[0,1,3,4,10])\n",
    "],remainder='passthrough')\n",
    "\n",
    "# Scaling\n",
    "trf3 = ColumnTransformer([\n",
    "    ('scale',RobustScaler(),slice(0,20))\n",
    "])\n",
    "\n",
    "# Feature selection\n",
    "trf4 = SelectKBest(score_func=chi2,k=8)\n",
    "\n",
    "# train the model\n",
    "trf5 = BaggingClassifier()\n",
    "\n",
    "pipe_bag = Pipeline([\n",
    "    ('trf1',trf1),\n",
    "    ('trf2',trf2),\n",
    "    ('trf3',trf3),\n",
    "    ('trf4',trf4),\n",
    "    ('trf5',trf5)\n",
    "])"
   ]
  },
  {
   "cell_type": "code",
   "execution_count": 51,
   "id": "b5d681e0",
   "metadata": {
    "execution": {
     "iopub.execute_input": "2022-09-30T05:50:09.616547Z",
     "iopub.status.busy": "2022-09-30T05:50:09.615676Z",
     "iopub.status.idle": "2022-09-30T05:50:09.628168Z",
     "shell.execute_reply": "2022-09-30T05:50:09.627146Z"
    },
    "papermill": {
     "duration": 0.039821,
     "end_time": "2022-09-30T05:50:09.630191",
     "exception": false,
     "start_time": "2022-09-30T05:50:09.590370",
     "status": "completed"
    },
    "tags": []
   },
   "outputs": [
    {
     "data": {
      "text/plain": [
       "{'trf1': ColumnTransformer(remainder='passthrough',\n",
       "                   transformers=[('mean_imputer',\n",
       "                                  Pipeline(steps=[('imputer', SimpleImputer())]),\n",
       "                                  ['LoanAmount']),\n",
       "                                 ('most_frequent_imputer',\n",
       "                                  Pipeline(steps=[('imputer',\n",
       "                                                   SimpleImputer(strategy='most_frequent'))]),\n",
       "                                  ['Loan_Amount_Term', 'Gender', 'Married',\n",
       "                                   'Self_Employed', 'Credit_History',\n",
       "                                   'Dependents'])]),\n",
       " 'trf2': ColumnTransformer(remainder='passthrough',\n",
       "                   transformers=[('ohe',\n",
       "                                  OneHotEncoder(handle_unknown='ignore',\n",
       "                                                sparse=False),\n",
       "                                  [0, 1, 3, 4, 10])]),\n",
       " 'trf3': ColumnTransformer(transformers=[('scale', RobustScaler(), slice(0, 20, None))]),\n",
       " 'trf4': SelectKBest(k=8, score_func=<function chi2 at 0x7f3d2dac2830>),\n",
       " 'trf5': BaggingClassifier()}"
      ]
     },
     "execution_count": 51,
     "metadata": {},
     "output_type": "execute_result"
    }
   ],
   "source": [
    "# Code here\n",
    "pipe_bag.named_steps"
   ]
  },
  {
   "cell_type": "code",
   "execution_count": 52,
   "id": "557bb62b",
   "metadata": {
    "execution": {
     "iopub.execute_input": "2022-09-30T05:50:09.681091Z",
     "iopub.status.busy": "2022-09-30T05:50:09.680742Z",
     "iopub.status.idle": "2022-09-30T05:50:09.772007Z",
     "shell.execute_reply": "2022-09-30T05:50:09.770937Z"
    },
    "papermill": {
     "duration": 0.120135,
     "end_time": "2022-09-30T05:50:09.774949",
     "exception": false,
     "start_time": "2022-09-30T05:50:09.654814",
     "status": "completed"
    },
    "tags": []
   },
   "outputs": [
    {
     "data": {
      "text/html": [
       "<style>#sk-1bc416cb-fb19-4429-9712-d80766de7711 {color: black;background-color: white;}#sk-1bc416cb-fb19-4429-9712-d80766de7711 pre{padding: 0;}#sk-1bc416cb-fb19-4429-9712-d80766de7711 div.sk-toggleable {background-color: white;}#sk-1bc416cb-fb19-4429-9712-d80766de7711 label.sk-toggleable__label {cursor: pointer;display: block;width: 100%;margin-bottom: 0;padding: 0.3em;box-sizing: border-box;text-align: center;}#sk-1bc416cb-fb19-4429-9712-d80766de7711 label.sk-toggleable__label-arrow:before {content: \"▸\";float: left;margin-right: 0.25em;color: #696969;}#sk-1bc416cb-fb19-4429-9712-d80766de7711 label.sk-toggleable__label-arrow:hover:before {color: black;}#sk-1bc416cb-fb19-4429-9712-d80766de7711 div.sk-estimator:hover label.sk-toggleable__label-arrow:before {color: black;}#sk-1bc416cb-fb19-4429-9712-d80766de7711 div.sk-toggleable__content {max-height: 0;max-width: 0;overflow: hidden;text-align: left;background-color: #f0f8ff;}#sk-1bc416cb-fb19-4429-9712-d80766de7711 div.sk-toggleable__content pre {margin: 0.2em;color: black;border-radius: 0.25em;background-color: #f0f8ff;}#sk-1bc416cb-fb19-4429-9712-d80766de7711 input.sk-toggleable__control:checked~div.sk-toggleable__content {max-height: 200px;max-width: 100%;overflow: auto;}#sk-1bc416cb-fb19-4429-9712-d80766de7711 input.sk-toggleable__control:checked~label.sk-toggleable__label-arrow:before {content: \"▾\";}#sk-1bc416cb-fb19-4429-9712-d80766de7711 div.sk-estimator input.sk-toggleable__control:checked~label.sk-toggleable__label {background-color: #d4ebff;}#sk-1bc416cb-fb19-4429-9712-d80766de7711 div.sk-label input.sk-toggleable__control:checked~label.sk-toggleable__label {background-color: #d4ebff;}#sk-1bc416cb-fb19-4429-9712-d80766de7711 input.sk-hidden--visually {border: 0;clip: rect(1px 1px 1px 1px);clip: rect(1px, 1px, 1px, 1px);height: 1px;margin: -1px;overflow: hidden;padding: 0;position: absolute;width: 1px;}#sk-1bc416cb-fb19-4429-9712-d80766de7711 div.sk-estimator {font-family: monospace;background-color: #f0f8ff;border: 1px dotted black;border-radius: 0.25em;box-sizing: border-box;margin-bottom: 0.5em;}#sk-1bc416cb-fb19-4429-9712-d80766de7711 div.sk-estimator:hover {background-color: #d4ebff;}#sk-1bc416cb-fb19-4429-9712-d80766de7711 div.sk-parallel-item::after {content: \"\";width: 100%;border-bottom: 1px solid gray;flex-grow: 1;}#sk-1bc416cb-fb19-4429-9712-d80766de7711 div.sk-label:hover label.sk-toggleable__label {background-color: #d4ebff;}#sk-1bc416cb-fb19-4429-9712-d80766de7711 div.sk-serial::before {content: \"\";position: absolute;border-left: 1px solid gray;box-sizing: border-box;top: 2em;bottom: 0;left: 50%;}#sk-1bc416cb-fb19-4429-9712-d80766de7711 div.sk-serial {display: flex;flex-direction: column;align-items: center;background-color: white;padding-right: 0.2em;padding-left: 0.2em;}#sk-1bc416cb-fb19-4429-9712-d80766de7711 div.sk-item {z-index: 1;}#sk-1bc416cb-fb19-4429-9712-d80766de7711 div.sk-parallel {display: flex;align-items: stretch;justify-content: center;background-color: white;}#sk-1bc416cb-fb19-4429-9712-d80766de7711 div.sk-parallel::before {content: \"\";position: absolute;border-left: 1px solid gray;box-sizing: border-box;top: 2em;bottom: 0;left: 50%;}#sk-1bc416cb-fb19-4429-9712-d80766de7711 div.sk-parallel-item {display: flex;flex-direction: column;position: relative;background-color: white;}#sk-1bc416cb-fb19-4429-9712-d80766de7711 div.sk-parallel-item:first-child::after {align-self: flex-end;width: 50%;}#sk-1bc416cb-fb19-4429-9712-d80766de7711 div.sk-parallel-item:last-child::after {align-self: flex-start;width: 50%;}#sk-1bc416cb-fb19-4429-9712-d80766de7711 div.sk-parallel-item:only-child::after {width: 0;}#sk-1bc416cb-fb19-4429-9712-d80766de7711 div.sk-dashed-wrapped {border: 1px dashed gray;margin: 0 0.4em 0.5em 0.4em;box-sizing: border-box;padding-bottom: 0.4em;background-color: white;position: relative;}#sk-1bc416cb-fb19-4429-9712-d80766de7711 div.sk-label label {font-family: monospace;font-weight: bold;background-color: white;display: inline-block;line-height: 1.2em;}#sk-1bc416cb-fb19-4429-9712-d80766de7711 div.sk-label-container {position: relative;z-index: 2;text-align: center;}#sk-1bc416cb-fb19-4429-9712-d80766de7711 div.sk-container {/* jupyter's `normalize.less` sets `[hidden] { display: none; }` but bootstrap.min.css set `[hidden] { display: none !important; }` so we also need the `!important` here to be able to override the default hidden behavior on the sphinx rendered scikit-learn.org. See: https://github.com/scikit-learn/scikit-learn/issues/21755 */display: inline-block !important;position: relative;}#sk-1bc416cb-fb19-4429-9712-d80766de7711 div.sk-text-repr-fallback {display: none;}</style><div id=\"sk-1bc416cb-fb19-4429-9712-d80766de7711\" class=\"sk-top-container\"><div class=\"sk-text-repr-fallback\"><pre>Pipeline(steps=[(&#x27;trf1&#x27;,\n",
       "                 ColumnTransformer(remainder=&#x27;passthrough&#x27;,\n",
       "                                   transformers=[(&#x27;mean_imputer&#x27;,\n",
       "                                                  Pipeline(steps=[(&#x27;imputer&#x27;,\n",
       "                                                                   SimpleImputer())]),\n",
       "                                                  [&#x27;LoanAmount&#x27;]),\n",
       "                                                 (&#x27;most_frequent_imputer&#x27;,\n",
       "                                                  Pipeline(steps=[(&#x27;imputer&#x27;,\n",
       "                                                                   SimpleImputer(strategy=&#x27;most_frequent&#x27;))]),\n",
       "                                                  [&#x27;Loan_Amount_Term&#x27;, &#x27;Gender&#x27;,\n",
       "                                                   &#x27;Married&#x27;, &#x27;Self_Employed&#x27;,\n",
       "                                                   &#x27;Credit_History&#x27;,\n",
       "                                                   &#x27;Dependents&#x27;])])),\n",
       "                (&#x27;trf2&#x27;,\n",
       "                 ColumnTransformer(remainder=&#x27;passthrough&#x27;,\n",
       "                                   transformers=[(&#x27;ohe&#x27;,\n",
       "                                                  OneHotEncoder(handle_unknown=&#x27;ignore&#x27;,\n",
       "                                                                sparse=False),\n",
       "                                                  [0, 1, 3, 4, 10])])),\n",
       "                (&#x27;trf3&#x27;,\n",
       "                 ColumnTransformer(transformers=[(&#x27;scale&#x27;, RobustScaler(),\n",
       "                                                  slice(0, 20, None))])),\n",
       "                (&#x27;trf4&#x27;,\n",
       "                 SelectKBest(k=8,\n",
       "                             score_func=&lt;function chi2 at 0x7f3d2dac2830&gt;)),\n",
       "                (&#x27;trf5&#x27;, BaggingClassifier())])</pre><b>Please rerun this cell to show the HTML repr or trust the notebook.</b></div><div class=\"sk-container\" hidden><div class=\"sk-item sk-dashed-wrapped\"><div class=\"sk-label-container\"><div class=\"sk-label sk-toggleable\"><input class=\"sk-toggleable__control sk-hidden--visually\" id=\"828bf699-6186-4ffe-bc80-38dc0392faff\" type=\"checkbox\" ><label for=\"828bf699-6186-4ffe-bc80-38dc0392faff\" class=\"sk-toggleable__label sk-toggleable__label-arrow\">Pipeline</label><div class=\"sk-toggleable__content\"><pre>Pipeline(steps=[(&#x27;trf1&#x27;,\n",
       "                 ColumnTransformer(remainder=&#x27;passthrough&#x27;,\n",
       "                                   transformers=[(&#x27;mean_imputer&#x27;,\n",
       "                                                  Pipeline(steps=[(&#x27;imputer&#x27;,\n",
       "                                                                   SimpleImputer())]),\n",
       "                                                  [&#x27;LoanAmount&#x27;]),\n",
       "                                                 (&#x27;most_frequent_imputer&#x27;,\n",
       "                                                  Pipeline(steps=[(&#x27;imputer&#x27;,\n",
       "                                                                   SimpleImputer(strategy=&#x27;most_frequent&#x27;))]),\n",
       "                                                  [&#x27;Loan_Amount_Term&#x27;, &#x27;Gender&#x27;,\n",
       "                                                   &#x27;Married&#x27;, &#x27;Self_Employed&#x27;,\n",
       "                                                   &#x27;Credit_History&#x27;,\n",
       "                                                   &#x27;Dependents&#x27;])])),\n",
       "                (&#x27;trf2&#x27;,\n",
       "                 ColumnTransformer(remainder=&#x27;passthrough&#x27;,\n",
       "                                   transformers=[(&#x27;ohe&#x27;,\n",
       "                                                  OneHotEncoder(handle_unknown=&#x27;ignore&#x27;,\n",
       "                                                                sparse=False),\n",
       "                                                  [0, 1, 3, 4, 10])])),\n",
       "                (&#x27;trf3&#x27;,\n",
       "                 ColumnTransformer(transformers=[(&#x27;scale&#x27;, RobustScaler(),\n",
       "                                                  slice(0, 20, None))])),\n",
       "                (&#x27;trf4&#x27;,\n",
       "                 SelectKBest(k=8,\n",
       "                             score_func=&lt;function chi2 at 0x7f3d2dac2830&gt;)),\n",
       "                (&#x27;trf5&#x27;, BaggingClassifier())])</pre></div></div></div><div class=\"sk-serial\"><div class=\"sk-item sk-dashed-wrapped\"><div class=\"sk-label-container\"><div class=\"sk-label sk-toggleable\"><input class=\"sk-toggleable__control sk-hidden--visually\" id=\"41bcfd51-3980-48c8-9e95-90c4f2919c94\" type=\"checkbox\" ><label for=\"41bcfd51-3980-48c8-9e95-90c4f2919c94\" class=\"sk-toggleable__label sk-toggleable__label-arrow\">trf1: ColumnTransformer</label><div class=\"sk-toggleable__content\"><pre>ColumnTransformer(remainder=&#x27;passthrough&#x27;,\n",
       "                  transformers=[(&#x27;mean_imputer&#x27;,\n",
       "                                 Pipeline(steps=[(&#x27;imputer&#x27;, SimpleImputer())]),\n",
       "                                 [&#x27;LoanAmount&#x27;]),\n",
       "                                (&#x27;most_frequent_imputer&#x27;,\n",
       "                                 Pipeline(steps=[(&#x27;imputer&#x27;,\n",
       "                                                  SimpleImputer(strategy=&#x27;most_frequent&#x27;))]),\n",
       "                                 [&#x27;Loan_Amount_Term&#x27;, &#x27;Gender&#x27;, &#x27;Married&#x27;,\n",
       "                                  &#x27;Self_Employed&#x27;, &#x27;Credit_History&#x27;,\n",
       "                                  &#x27;Dependents&#x27;])])</pre></div></div></div><div class=\"sk-parallel\"><div class=\"sk-parallel-item\"><div class=\"sk-item\"><div class=\"sk-label-container\"><div class=\"sk-label sk-toggleable\"><input class=\"sk-toggleable__control sk-hidden--visually\" id=\"4caf05e4-f519-487c-bf9f-3f97d0901d00\" type=\"checkbox\" ><label for=\"4caf05e4-f519-487c-bf9f-3f97d0901d00\" class=\"sk-toggleable__label sk-toggleable__label-arrow\">mean_imputer</label><div class=\"sk-toggleable__content\"><pre>[&#x27;LoanAmount&#x27;]</pre></div></div></div><div class=\"sk-serial\"><div class=\"sk-item\"><div class=\"sk-serial\"><div class=\"sk-item\"><div class=\"sk-estimator sk-toggleable\"><input class=\"sk-toggleable__control sk-hidden--visually\" id=\"3482330e-91e9-4252-999e-0d47d894044c\" type=\"checkbox\" ><label for=\"3482330e-91e9-4252-999e-0d47d894044c\" class=\"sk-toggleable__label sk-toggleable__label-arrow\">SimpleImputer</label><div class=\"sk-toggleable__content\"><pre>SimpleImputer()</pre></div></div></div></div></div></div></div></div><div class=\"sk-parallel-item\"><div class=\"sk-item\"><div class=\"sk-label-container\"><div class=\"sk-label sk-toggleable\"><input class=\"sk-toggleable__control sk-hidden--visually\" id=\"42e40095-f3c9-486f-9461-dabd9101f1c9\" type=\"checkbox\" ><label for=\"42e40095-f3c9-486f-9461-dabd9101f1c9\" class=\"sk-toggleable__label sk-toggleable__label-arrow\">most_frequent_imputer</label><div class=\"sk-toggleable__content\"><pre>[&#x27;Loan_Amount_Term&#x27;, &#x27;Gender&#x27;, &#x27;Married&#x27;, &#x27;Self_Employed&#x27;, &#x27;Credit_History&#x27;, &#x27;Dependents&#x27;]</pre></div></div></div><div class=\"sk-serial\"><div class=\"sk-item\"><div class=\"sk-serial\"><div class=\"sk-item\"><div class=\"sk-estimator sk-toggleable\"><input class=\"sk-toggleable__control sk-hidden--visually\" id=\"cb6f5053-bbb3-452a-b049-6d1ab2b37e01\" type=\"checkbox\" ><label for=\"cb6f5053-bbb3-452a-b049-6d1ab2b37e01\" class=\"sk-toggleable__label sk-toggleable__label-arrow\">SimpleImputer</label><div class=\"sk-toggleable__content\"><pre>SimpleImputer(strategy=&#x27;most_frequent&#x27;)</pre></div></div></div></div></div></div></div></div><div class=\"sk-parallel-item\"><div class=\"sk-item\"><div class=\"sk-label-container\"><div class=\"sk-label sk-toggleable\"><input class=\"sk-toggleable__control sk-hidden--visually\" id=\"2b5267ec-2b73-4d83-90af-87542d1403be\" type=\"checkbox\" ><label for=\"2b5267ec-2b73-4d83-90af-87542d1403be\" class=\"sk-toggleable__label sk-toggleable__label-arrow\">remainder</label><div class=\"sk-toggleable__content\"><pre>[&#x27;Education&#x27;, &#x27;ApplicantIncome&#x27;, &#x27;CoapplicantIncome&#x27;, &#x27;Property_Area&#x27;]</pre></div></div></div><div class=\"sk-serial\"><div class=\"sk-item\"><div class=\"sk-estimator sk-toggleable\"><input class=\"sk-toggleable__control sk-hidden--visually\" id=\"58dcddf5-aa46-4a6c-8d49-5b54b47bc4b6\" type=\"checkbox\" ><label for=\"58dcddf5-aa46-4a6c-8d49-5b54b47bc4b6\" class=\"sk-toggleable__label sk-toggleable__label-arrow\">passthrough</label><div class=\"sk-toggleable__content\"><pre>passthrough</pre></div></div></div></div></div></div></div></div><div class=\"sk-item sk-dashed-wrapped\"><div class=\"sk-label-container\"><div class=\"sk-label sk-toggleable\"><input class=\"sk-toggleable__control sk-hidden--visually\" id=\"85119e46-08dc-49dc-81ea-0f5519bced16\" type=\"checkbox\" ><label for=\"85119e46-08dc-49dc-81ea-0f5519bced16\" class=\"sk-toggleable__label sk-toggleable__label-arrow\">trf2: ColumnTransformer</label><div class=\"sk-toggleable__content\"><pre>ColumnTransformer(remainder=&#x27;passthrough&#x27;,\n",
       "                  transformers=[(&#x27;ohe&#x27;,\n",
       "                                 OneHotEncoder(handle_unknown=&#x27;ignore&#x27;,\n",
       "                                               sparse=False),\n",
       "                                 [0, 1, 3, 4, 10])])</pre></div></div></div><div class=\"sk-parallel\"><div class=\"sk-parallel-item\"><div class=\"sk-item\"><div class=\"sk-label-container\"><div class=\"sk-label sk-toggleable\"><input class=\"sk-toggleable__control sk-hidden--visually\" id=\"7eaed2ca-210f-4081-a950-d9a281d0eb53\" type=\"checkbox\" ><label for=\"7eaed2ca-210f-4081-a950-d9a281d0eb53\" class=\"sk-toggleable__label sk-toggleable__label-arrow\">ohe</label><div class=\"sk-toggleable__content\"><pre>[0, 1, 3, 4, 10]</pre></div></div></div><div class=\"sk-serial\"><div class=\"sk-item\"><div class=\"sk-estimator sk-toggleable\"><input class=\"sk-toggleable__control sk-hidden--visually\" id=\"1a4e9b64-5380-4c68-b344-51fe82c47f0b\" type=\"checkbox\" ><label for=\"1a4e9b64-5380-4c68-b344-51fe82c47f0b\" class=\"sk-toggleable__label sk-toggleable__label-arrow\">OneHotEncoder</label><div class=\"sk-toggleable__content\"><pre>OneHotEncoder(handle_unknown=&#x27;ignore&#x27;, sparse=False)</pre></div></div></div></div></div></div><div class=\"sk-parallel-item\"><div class=\"sk-item\"><div class=\"sk-label-container\"><div class=\"sk-label sk-toggleable\"><input class=\"sk-toggleable__control sk-hidden--visually\" id=\"27bacd8e-8db1-4435-bf9d-38ecff6f62de\" type=\"checkbox\" ><label for=\"27bacd8e-8db1-4435-bf9d-38ecff6f62de\" class=\"sk-toggleable__label sk-toggleable__label-arrow\">remainder</label><div class=\"sk-toggleable__content\"><pre>[2, 5, 6, 7, 8, 9]</pre></div></div></div><div class=\"sk-serial\"><div class=\"sk-item\"><div class=\"sk-estimator sk-toggleable\"><input class=\"sk-toggleable__control sk-hidden--visually\" id=\"5bd765ac-ba97-4e93-bd89-66d712c32d52\" type=\"checkbox\" ><label for=\"5bd765ac-ba97-4e93-bd89-66d712c32d52\" class=\"sk-toggleable__label sk-toggleable__label-arrow\">passthrough</label><div class=\"sk-toggleable__content\"><pre>passthrough</pre></div></div></div></div></div></div></div></div><div class=\"sk-item sk-dashed-wrapped\"><div class=\"sk-label-container\"><div class=\"sk-label sk-toggleable\"><input class=\"sk-toggleable__control sk-hidden--visually\" id=\"41d2630d-d621-4f0b-b685-59d459437b49\" type=\"checkbox\" ><label for=\"41d2630d-d621-4f0b-b685-59d459437b49\" class=\"sk-toggleable__label sk-toggleable__label-arrow\">trf3: ColumnTransformer</label><div class=\"sk-toggleable__content\"><pre>ColumnTransformer(transformers=[(&#x27;scale&#x27;, RobustScaler(), slice(0, 20, None))])</pre></div></div></div><div class=\"sk-parallel\"><div class=\"sk-parallel-item\"><div class=\"sk-item\"><div class=\"sk-label-container\"><div class=\"sk-label sk-toggleable\"><input class=\"sk-toggleable__control sk-hidden--visually\" id=\"df340985-613e-4b60-9734-896d6ada144a\" type=\"checkbox\" ><label for=\"df340985-613e-4b60-9734-896d6ada144a\" class=\"sk-toggleable__label sk-toggleable__label-arrow\">scale</label><div class=\"sk-toggleable__content\"><pre>slice(0, 20, None)</pre></div></div></div><div class=\"sk-serial\"><div class=\"sk-item\"><div class=\"sk-estimator sk-toggleable\"><input class=\"sk-toggleable__control sk-hidden--visually\" id=\"6edf0ed3-bfa6-409f-83a3-697fcf1bf6c7\" type=\"checkbox\" ><label for=\"6edf0ed3-bfa6-409f-83a3-697fcf1bf6c7\" class=\"sk-toggleable__label sk-toggleable__label-arrow\">RobustScaler</label><div class=\"sk-toggleable__content\"><pre>RobustScaler()</pre></div></div></div></div></div></div></div></div><div class=\"sk-item\"><div class=\"sk-estimator sk-toggleable\"><input class=\"sk-toggleable__control sk-hidden--visually\" id=\"1d4abb45-8123-431b-864a-dd1fee9a970f\" type=\"checkbox\" ><label for=\"1d4abb45-8123-431b-864a-dd1fee9a970f\" class=\"sk-toggleable__label sk-toggleable__label-arrow\">SelectKBest</label><div class=\"sk-toggleable__content\"><pre>SelectKBest(k=8, score_func=&lt;function chi2 at 0x7f3d2dac2830&gt;)</pre></div></div></div><div class=\"sk-item\"><div class=\"sk-estimator sk-toggleable\"><input class=\"sk-toggleable__control sk-hidden--visually\" id=\"9d19e2d8-42f7-47d7-bbbe-c54f5ed0c423\" type=\"checkbox\" ><label for=\"9d19e2d8-42f7-47d7-bbbe-c54f5ed0c423\" class=\"sk-toggleable__label sk-toggleable__label-arrow\">BaggingClassifier</label><div class=\"sk-toggleable__content\"><pre>BaggingClassifier()</pre></div></div></div></div></div></div></div>"
      ],
      "text/plain": [
       "Pipeline(steps=[('trf1',\n",
       "                 ColumnTransformer(remainder='passthrough',\n",
       "                                   transformers=[('mean_imputer',\n",
       "                                                  Pipeline(steps=[('imputer',\n",
       "                                                                   SimpleImputer())]),\n",
       "                                                  ['LoanAmount']),\n",
       "                                                 ('most_frequent_imputer',\n",
       "                                                  Pipeline(steps=[('imputer',\n",
       "                                                                   SimpleImputer(strategy='most_frequent'))]),\n",
       "                                                  ['Loan_Amount_Term', 'Gender',\n",
       "                                                   'Married', 'Self_Employed',\n",
       "                                                   'Credit_History',\n",
       "                                                   'Dependents'])])),\n",
       "                ('trf2',\n",
       "                 ColumnTransformer(remainder='passthrough',\n",
       "                                   transformers=[('ohe',\n",
       "                                                  OneHotEncoder(handle_unknown='ignore',\n",
       "                                                                sparse=False),\n",
       "                                                  [0, 1, 3, 4, 10])])),\n",
       "                ('trf3',\n",
       "                 ColumnTransformer(transformers=[('scale', RobustScaler(),\n",
       "                                                  slice(0, 20, None))])),\n",
       "                ('trf4',\n",
       "                 SelectKBest(k=8,\n",
       "                             score_func=<function chi2 at 0x7f3d2dac2830>)),\n",
       "                ('trf5', BaggingClassifier())])"
      ]
     },
     "execution_count": 52,
     "metadata": {},
     "output_type": "execute_result"
    }
   ],
   "source": [
    "# train\n",
    "pipe_bag.fit(X_train,y_train)"
   ]
  },
  {
   "cell_type": "code",
   "execution_count": 53,
   "id": "ae704a31",
   "metadata": {
    "execution": {
     "iopub.execute_input": "2022-09-30T05:50:09.830813Z",
     "iopub.status.busy": "2022-09-30T05:50:09.829156Z",
     "iopub.status.idle": "2022-09-30T05:50:09.849980Z",
     "shell.execute_reply": "2022-09-30T05:50:09.848411Z"
    },
    "papermill": {
     "duration": 0.049839,
     "end_time": "2022-09-30T05:50:09.852298",
     "exception": false,
     "start_time": "2022-09-30T05:50:09.802459",
     "status": "completed"
    },
    "tags": []
   },
   "outputs": [
    {
     "name": "stdout",
     "output_type": "stream",
     "text": [
      "Accuracy Score:  65.0 %\n"
     ]
    }
   ],
   "source": [
    "# Predict\n",
    "y_pred = pipe_bag.predict(X_test)\n",
    "\n",
    "from sklearn.metrics import accuracy_score\n",
    "print(\"Accuracy Score: \",accuracy_score(y_test,y_pred).round(2)*100,\"%\")"
   ]
  },
  {
   "cell_type": "code",
   "execution_count": 54,
   "id": "7e5c7247",
   "metadata": {
    "execution": {
     "iopub.execute_input": "2022-09-30T05:50:09.910509Z",
     "iopub.status.busy": "2022-09-30T05:50:09.910163Z",
     "iopub.status.idle": "2022-09-30T05:50:10.395218Z",
     "shell.execute_reply": "2022-09-30T05:50:10.393700Z"
    },
    "papermill": {
     "duration": 0.516759,
     "end_time": "2022-09-30T05:50:10.398115",
     "exception": false,
     "start_time": "2022-09-30T05:50:09.881356",
     "status": "completed"
    },
    "scrolled": true,
    "tags": []
   },
   "outputs": [
    {
     "name": "stdout",
     "output_type": "stream",
     "text": [
      "cross_val_score     :  [69.7 69.4 69.4 69.4 69.4] %\n",
      "\u001b[1m--------------------------------------------------------\u001b[0m\n",
      "cross_val_score mean:  69.0 %\n"
     ]
    }
   ],
   "source": [
    "# cross validation using cross_val_score\n",
    "from sklearn.model_selection import cross_val_score\n",
    "\n",
    "print(\"cross_val_score     : \",cross_val_score(pipe_bag, X_train, y_train, cv=5, scoring='accuracy').round(3)*100,\"%\")\n",
    "print(\"\\033[1m--------------------------------------------------------\\033[0m\")\n",
    "print(\"cross_val_score mean: \",cross_val_score(pipe_bag, X_train, y_train, cv=5, scoring='accuracy').mean().round(2)*100,\"%\")"
   ]
  },
  {
   "cell_type": "code",
   "execution_count": 55,
   "id": "c9dc6b18",
   "metadata": {
    "execution": {
     "iopub.execute_input": "2022-09-30T05:50:10.452132Z",
     "iopub.status.busy": "2022-09-30T05:50:10.451275Z",
     "iopub.status.idle": "2022-09-30T05:50:29.508007Z",
     "shell.execute_reply": "2022-09-30T05:50:29.507027Z"
    },
    "papermill": {
     "duration": 19.085854,
     "end_time": "2022-09-30T05:50:29.510237",
     "exception": false,
     "start_time": "2022-09-30T05:50:10.424383",
     "status": "completed"
    },
    "tags": []
   },
   "outputs": [
    {
     "data": {
      "text/html": [
       "<style>#sk-a0a990fe-5f33-4056-999b-6e78fa379122 {color: black;background-color: white;}#sk-a0a990fe-5f33-4056-999b-6e78fa379122 pre{padding: 0;}#sk-a0a990fe-5f33-4056-999b-6e78fa379122 div.sk-toggleable {background-color: white;}#sk-a0a990fe-5f33-4056-999b-6e78fa379122 label.sk-toggleable__label {cursor: pointer;display: block;width: 100%;margin-bottom: 0;padding: 0.3em;box-sizing: border-box;text-align: center;}#sk-a0a990fe-5f33-4056-999b-6e78fa379122 label.sk-toggleable__label-arrow:before {content: \"▸\";float: left;margin-right: 0.25em;color: #696969;}#sk-a0a990fe-5f33-4056-999b-6e78fa379122 label.sk-toggleable__label-arrow:hover:before {color: black;}#sk-a0a990fe-5f33-4056-999b-6e78fa379122 div.sk-estimator:hover label.sk-toggleable__label-arrow:before {color: black;}#sk-a0a990fe-5f33-4056-999b-6e78fa379122 div.sk-toggleable__content {max-height: 0;max-width: 0;overflow: hidden;text-align: left;background-color: #f0f8ff;}#sk-a0a990fe-5f33-4056-999b-6e78fa379122 div.sk-toggleable__content pre {margin: 0.2em;color: black;border-radius: 0.25em;background-color: #f0f8ff;}#sk-a0a990fe-5f33-4056-999b-6e78fa379122 input.sk-toggleable__control:checked~div.sk-toggleable__content {max-height: 200px;max-width: 100%;overflow: auto;}#sk-a0a990fe-5f33-4056-999b-6e78fa379122 input.sk-toggleable__control:checked~label.sk-toggleable__label-arrow:before {content: \"▾\";}#sk-a0a990fe-5f33-4056-999b-6e78fa379122 div.sk-estimator input.sk-toggleable__control:checked~label.sk-toggleable__label {background-color: #d4ebff;}#sk-a0a990fe-5f33-4056-999b-6e78fa379122 div.sk-label input.sk-toggleable__control:checked~label.sk-toggleable__label {background-color: #d4ebff;}#sk-a0a990fe-5f33-4056-999b-6e78fa379122 input.sk-hidden--visually {border: 0;clip: rect(1px 1px 1px 1px);clip: rect(1px, 1px, 1px, 1px);height: 1px;margin: -1px;overflow: hidden;padding: 0;position: absolute;width: 1px;}#sk-a0a990fe-5f33-4056-999b-6e78fa379122 div.sk-estimator {font-family: monospace;background-color: #f0f8ff;border: 1px dotted black;border-radius: 0.25em;box-sizing: border-box;margin-bottom: 0.5em;}#sk-a0a990fe-5f33-4056-999b-6e78fa379122 div.sk-estimator:hover {background-color: #d4ebff;}#sk-a0a990fe-5f33-4056-999b-6e78fa379122 div.sk-parallel-item::after {content: \"\";width: 100%;border-bottom: 1px solid gray;flex-grow: 1;}#sk-a0a990fe-5f33-4056-999b-6e78fa379122 div.sk-label:hover label.sk-toggleable__label {background-color: #d4ebff;}#sk-a0a990fe-5f33-4056-999b-6e78fa379122 div.sk-serial::before {content: \"\";position: absolute;border-left: 1px solid gray;box-sizing: border-box;top: 2em;bottom: 0;left: 50%;}#sk-a0a990fe-5f33-4056-999b-6e78fa379122 div.sk-serial {display: flex;flex-direction: column;align-items: center;background-color: white;padding-right: 0.2em;padding-left: 0.2em;}#sk-a0a990fe-5f33-4056-999b-6e78fa379122 div.sk-item {z-index: 1;}#sk-a0a990fe-5f33-4056-999b-6e78fa379122 div.sk-parallel {display: flex;align-items: stretch;justify-content: center;background-color: white;}#sk-a0a990fe-5f33-4056-999b-6e78fa379122 div.sk-parallel::before {content: \"\";position: absolute;border-left: 1px solid gray;box-sizing: border-box;top: 2em;bottom: 0;left: 50%;}#sk-a0a990fe-5f33-4056-999b-6e78fa379122 div.sk-parallel-item {display: flex;flex-direction: column;position: relative;background-color: white;}#sk-a0a990fe-5f33-4056-999b-6e78fa379122 div.sk-parallel-item:first-child::after {align-self: flex-end;width: 50%;}#sk-a0a990fe-5f33-4056-999b-6e78fa379122 div.sk-parallel-item:last-child::after {align-self: flex-start;width: 50%;}#sk-a0a990fe-5f33-4056-999b-6e78fa379122 div.sk-parallel-item:only-child::after {width: 0;}#sk-a0a990fe-5f33-4056-999b-6e78fa379122 div.sk-dashed-wrapped {border: 1px dashed gray;margin: 0 0.4em 0.5em 0.4em;box-sizing: border-box;padding-bottom: 0.4em;background-color: white;position: relative;}#sk-a0a990fe-5f33-4056-999b-6e78fa379122 div.sk-label label {font-family: monospace;font-weight: bold;background-color: white;display: inline-block;line-height: 1.2em;}#sk-a0a990fe-5f33-4056-999b-6e78fa379122 div.sk-label-container {position: relative;z-index: 2;text-align: center;}#sk-a0a990fe-5f33-4056-999b-6e78fa379122 div.sk-container {/* jupyter's `normalize.less` sets `[hidden] { display: none; }` but bootstrap.min.css set `[hidden] { display: none !important; }` so we also need the `!important` here to be able to override the default hidden behavior on the sphinx rendered scikit-learn.org. See: https://github.com/scikit-learn/scikit-learn/issues/21755 */display: inline-block !important;position: relative;}#sk-a0a990fe-5f33-4056-999b-6e78fa379122 div.sk-text-repr-fallback {display: none;}</style><div id=\"sk-a0a990fe-5f33-4056-999b-6e78fa379122\" class=\"sk-top-container\"><div class=\"sk-text-repr-fallback\"><pre>GridSearchCV(cv=StratifiedShuffleSplit(n_splits=10, random_state=15, test_size=0.3,\n",
       "            train_size=None),\n",
       "             estimator=Pipeline(steps=[(&#x27;trf1&#x27;,\n",
       "                                        ColumnTransformer(remainder=&#x27;passthrough&#x27;,\n",
       "                                                          transformers=[(&#x27;mean_imputer&#x27;,\n",
       "                                                                         Pipeline(steps=[(&#x27;imputer&#x27;,\n",
       "                                                                                          SimpleImputer())]),\n",
       "                                                                         [&#x27;LoanAmount&#x27;]),\n",
       "                                                                        (&#x27;most_frequent_imputer&#x27;,\n",
       "                                                                         Pipeline(steps=[(&#x27;imputer&#x27;,\n",
       "                                                                                          SimpleImputer(strategy=&#x27;most_fre...\n",
       "                                                          transformers=[(&#x27;ohe&#x27;,\n",
       "                                                                         OneHotEncoder(handle_unknown=&#x27;ignore&#x27;,\n",
       "                                                                                       sparse=False),\n",
       "                                                                         [0, 1,\n",
       "                                                                          3, 4,\n",
       "                                                                          10])])),\n",
       "                                       (&#x27;trf3&#x27;,\n",
       "                                        ColumnTransformer(transformers=[(&#x27;scale&#x27;,\n",
       "                                                                         RobustScaler(),\n",
       "                                                                         slice(0, 20, None))])),\n",
       "                                       (&#x27;trf4&#x27;,\n",
       "                                        SelectKBest(k=8,\n",
       "                                                    score_func=&lt;function chi2 at 0x7f3d2dac2830&gt;)),\n",
       "                                       (&#x27;trf5&#x27;, BaggingClassifier())]),\n",
       "             n_jobs=-1,\n",
       "             param_grid={&#x27;trf5__n_estimators&#x27;: [10, 30, 50, 70, 80, 150, 160,\n",
       "                                                170, 175, 180, 185]})</pre><b>Please rerun this cell to show the HTML repr or trust the notebook.</b></div><div class=\"sk-container\" hidden><div class=\"sk-item sk-dashed-wrapped\"><div class=\"sk-label-container\"><div class=\"sk-label sk-toggleable\"><input class=\"sk-toggleable__control sk-hidden--visually\" id=\"4c2821ff-91ef-4288-8538-8d10010c0bf7\" type=\"checkbox\" ><label for=\"4c2821ff-91ef-4288-8538-8d10010c0bf7\" class=\"sk-toggleable__label sk-toggleable__label-arrow\">GridSearchCV</label><div class=\"sk-toggleable__content\"><pre>GridSearchCV(cv=StratifiedShuffleSplit(n_splits=10, random_state=15, test_size=0.3,\n",
       "            train_size=None),\n",
       "             estimator=Pipeline(steps=[(&#x27;trf1&#x27;,\n",
       "                                        ColumnTransformer(remainder=&#x27;passthrough&#x27;,\n",
       "                                                          transformers=[(&#x27;mean_imputer&#x27;,\n",
       "                                                                         Pipeline(steps=[(&#x27;imputer&#x27;,\n",
       "                                                                                          SimpleImputer())]),\n",
       "                                                                         [&#x27;LoanAmount&#x27;]),\n",
       "                                                                        (&#x27;most_frequent_imputer&#x27;,\n",
       "                                                                         Pipeline(steps=[(&#x27;imputer&#x27;,\n",
       "                                                                                          SimpleImputer(strategy=&#x27;most_fre...\n",
       "                                                          transformers=[(&#x27;ohe&#x27;,\n",
       "                                                                         OneHotEncoder(handle_unknown=&#x27;ignore&#x27;,\n",
       "                                                                                       sparse=False),\n",
       "                                                                         [0, 1,\n",
       "                                                                          3, 4,\n",
       "                                                                          10])])),\n",
       "                                       (&#x27;trf3&#x27;,\n",
       "                                        ColumnTransformer(transformers=[(&#x27;scale&#x27;,\n",
       "                                                                         RobustScaler(),\n",
       "                                                                         slice(0, 20, None))])),\n",
       "                                       (&#x27;trf4&#x27;,\n",
       "                                        SelectKBest(k=8,\n",
       "                                                    score_func=&lt;function chi2 at 0x7f3d2dac2830&gt;)),\n",
       "                                       (&#x27;trf5&#x27;, BaggingClassifier())]),\n",
       "             n_jobs=-1,\n",
       "             param_grid={&#x27;trf5__n_estimators&#x27;: [10, 30, 50, 70, 80, 150, 160,\n",
       "                                                170, 175, 180, 185]})</pre></div></div></div><div class=\"sk-parallel\"><div class=\"sk-parallel-item\"><div class=\"sk-item\"><div class=\"sk-serial\"><div class=\"sk-item\"><div class=\"sk-serial\"><div class=\"sk-item sk-dashed-wrapped\"><div class=\"sk-label-container\"><div class=\"sk-label sk-toggleable\"><input class=\"sk-toggleable__control sk-hidden--visually\" id=\"bd0fddf9-8410-4c0c-9bf9-fecf665078fc\" type=\"checkbox\" ><label for=\"bd0fddf9-8410-4c0c-9bf9-fecf665078fc\" class=\"sk-toggleable__label sk-toggleable__label-arrow\">trf1: ColumnTransformer</label><div class=\"sk-toggleable__content\"><pre>ColumnTransformer(remainder=&#x27;passthrough&#x27;,\n",
       "                  transformers=[(&#x27;mean_imputer&#x27;,\n",
       "                                 Pipeline(steps=[(&#x27;imputer&#x27;, SimpleImputer())]),\n",
       "                                 [&#x27;LoanAmount&#x27;]),\n",
       "                                (&#x27;most_frequent_imputer&#x27;,\n",
       "                                 Pipeline(steps=[(&#x27;imputer&#x27;,\n",
       "                                                  SimpleImputer(strategy=&#x27;most_frequent&#x27;))]),\n",
       "                                 [&#x27;Loan_Amount_Term&#x27;, &#x27;Gender&#x27;, &#x27;Married&#x27;,\n",
       "                                  &#x27;Self_Employed&#x27;, &#x27;Credit_History&#x27;,\n",
       "                                  &#x27;Dependents&#x27;])])</pre></div></div></div><div class=\"sk-parallel\"><div class=\"sk-parallel-item\"><div class=\"sk-item\"><div class=\"sk-label-container\"><div class=\"sk-label sk-toggleable\"><input class=\"sk-toggleable__control sk-hidden--visually\" id=\"367ecc5f-f9b4-47e2-8895-205e5dc4e55d\" type=\"checkbox\" ><label for=\"367ecc5f-f9b4-47e2-8895-205e5dc4e55d\" class=\"sk-toggleable__label sk-toggleable__label-arrow\">mean_imputer</label><div class=\"sk-toggleable__content\"><pre>[&#x27;LoanAmount&#x27;]</pre></div></div></div><div class=\"sk-serial\"><div class=\"sk-item\"><div class=\"sk-serial\"><div class=\"sk-item\"><div class=\"sk-estimator sk-toggleable\"><input class=\"sk-toggleable__control sk-hidden--visually\" id=\"21a7ab19-89f9-47c0-8a06-fed24af3dc57\" type=\"checkbox\" ><label for=\"21a7ab19-89f9-47c0-8a06-fed24af3dc57\" class=\"sk-toggleable__label sk-toggleable__label-arrow\">SimpleImputer</label><div class=\"sk-toggleable__content\"><pre>SimpleImputer()</pre></div></div></div></div></div></div></div></div><div class=\"sk-parallel-item\"><div class=\"sk-item\"><div class=\"sk-label-container\"><div class=\"sk-label sk-toggleable\"><input class=\"sk-toggleable__control sk-hidden--visually\" id=\"fb2317ad-c489-4810-9938-1eaeff023970\" type=\"checkbox\" ><label for=\"fb2317ad-c489-4810-9938-1eaeff023970\" class=\"sk-toggleable__label sk-toggleable__label-arrow\">most_frequent_imputer</label><div class=\"sk-toggleable__content\"><pre>[&#x27;Loan_Amount_Term&#x27;, &#x27;Gender&#x27;, &#x27;Married&#x27;, &#x27;Self_Employed&#x27;, &#x27;Credit_History&#x27;, &#x27;Dependents&#x27;]</pre></div></div></div><div class=\"sk-serial\"><div class=\"sk-item\"><div class=\"sk-serial\"><div class=\"sk-item\"><div class=\"sk-estimator sk-toggleable\"><input class=\"sk-toggleable__control sk-hidden--visually\" id=\"8fd435a5-c07d-4e19-b89d-887af0044b10\" type=\"checkbox\" ><label for=\"8fd435a5-c07d-4e19-b89d-887af0044b10\" class=\"sk-toggleable__label sk-toggleable__label-arrow\">SimpleImputer</label><div class=\"sk-toggleable__content\"><pre>SimpleImputer(strategy=&#x27;most_frequent&#x27;)</pre></div></div></div></div></div></div></div></div><div class=\"sk-parallel-item\"><div class=\"sk-item\"><div class=\"sk-label-container\"><div class=\"sk-label sk-toggleable\"><input class=\"sk-toggleable__control sk-hidden--visually\" id=\"139caf45-1c1c-4b80-8b68-b86e064f6b44\" type=\"checkbox\" ><label for=\"139caf45-1c1c-4b80-8b68-b86e064f6b44\" class=\"sk-toggleable__label sk-toggleable__label-arrow\">remainder</label><div class=\"sk-toggleable__content\"><pre>[&#x27;Education&#x27;, &#x27;ApplicantIncome&#x27;, &#x27;CoapplicantIncome&#x27;, &#x27;Property_Area&#x27;]</pre></div></div></div><div class=\"sk-serial\"><div class=\"sk-item\"><div class=\"sk-estimator sk-toggleable\"><input class=\"sk-toggleable__control sk-hidden--visually\" id=\"830957e4-eb12-4039-93a4-b9719f0695e1\" type=\"checkbox\" ><label for=\"830957e4-eb12-4039-93a4-b9719f0695e1\" class=\"sk-toggleable__label sk-toggleable__label-arrow\">passthrough</label><div class=\"sk-toggleable__content\"><pre>passthrough</pre></div></div></div></div></div></div></div></div><div class=\"sk-item sk-dashed-wrapped\"><div class=\"sk-label-container\"><div class=\"sk-label sk-toggleable\"><input class=\"sk-toggleable__control sk-hidden--visually\" id=\"799d0def-d46a-475d-9341-d4220f0a93fa\" type=\"checkbox\" ><label for=\"799d0def-d46a-475d-9341-d4220f0a93fa\" class=\"sk-toggleable__label sk-toggleable__label-arrow\">trf2: ColumnTransformer</label><div class=\"sk-toggleable__content\"><pre>ColumnTransformer(remainder=&#x27;passthrough&#x27;,\n",
       "                  transformers=[(&#x27;ohe&#x27;,\n",
       "                                 OneHotEncoder(handle_unknown=&#x27;ignore&#x27;,\n",
       "                                               sparse=False),\n",
       "                                 [0, 1, 3, 4, 10])])</pre></div></div></div><div class=\"sk-parallel\"><div class=\"sk-parallel-item\"><div class=\"sk-item\"><div class=\"sk-label-container\"><div class=\"sk-label sk-toggleable\"><input class=\"sk-toggleable__control sk-hidden--visually\" id=\"a97d9af5-8845-407c-901e-9886f87d7422\" type=\"checkbox\" ><label for=\"a97d9af5-8845-407c-901e-9886f87d7422\" class=\"sk-toggleable__label sk-toggleable__label-arrow\">ohe</label><div class=\"sk-toggleable__content\"><pre>[0, 1, 3, 4, 10]</pre></div></div></div><div class=\"sk-serial\"><div class=\"sk-item\"><div class=\"sk-estimator sk-toggleable\"><input class=\"sk-toggleable__control sk-hidden--visually\" id=\"37b75102-898b-4433-91db-ecd3d36ed173\" type=\"checkbox\" ><label for=\"37b75102-898b-4433-91db-ecd3d36ed173\" class=\"sk-toggleable__label sk-toggleable__label-arrow\">OneHotEncoder</label><div class=\"sk-toggleable__content\"><pre>OneHotEncoder(handle_unknown=&#x27;ignore&#x27;, sparse=False)</pre></div></div></div></div></div></div><div class=\"sk-parallel-item\"><div class=\"sk-item\"><div class=\"sk-label-container\"><div class=\"sk-label sk-toggleable\"><input class=\"sk-toggleable__control sk-hidden--visually\" id=\"4d8b42f9-cacd-4d57-8f7e-e298d301b6ad\" type=\"checkbox\" ><label for=\"4d8b42f9-cacd-4d57-8f7e-e298d301b6ad\" class=\"sk-toggleable__label sk-toggleable__label-arrow\">remainder</label><div class=\"sk-toggleable__content\"><pre>[2, 5, 6, 7, 8, 9]</pre></div></div></div><div class=\"sk-serial\"><div class=\"sk-item\"><div class=\"sk-estimator sk-toggleable\"><input class=\"sk-toggleable__control sk-hidden--visually\" id=\"3fde1978-2f07-44af-a149-91f2dd9321c9\" type=\"checkbox\" ><label for=\"3fde1978-2f07-44af-a149-91f2dd9321c9\" class=\"sk-toggleable__label sk-toggleable__label-arrow\">passthrough</label><div class=\"sk-toggleable__content\"><pre>passthrough</pre></div></div></div></div></div></div></div></div><div class=\"sk-item sk-dashed-wrapped\"><div class=\"sk-label-container\"><div class=\"sk-label sk-toggleable\"><input class=\"sk-toggleable__control sk-hidden--visually\" id=\"6c1f904b-35a8-409c-9e39-a09fb7c01a1f\" type=\"checkbox\" ><label for=\"6c1f904b-35a8-409c-9e39-a09fb7c01a1f\" class=\"sk-toggleable__label sk-toggleable__label-arrow\">trf3: ColumnTransformer</label><div class=\"sk-toggleable__content\"><pre>ColumnTransformer(transformers=[(&#x27;scale&#x27;, RobustScaler(), slice(0, 20, None))])</pre></div></div></div><div class=\"sk-parallel\"><div class=\"sk-parallel-item\"><div class=\"sk-item\"><div class=\"sk-label-container\"><div class=\"sk-label sk-toggleable\"><input class=\"sk-toggleable__control sk-hidden--visually\" id=\"3cd22d2d-2983-4282-bde4-042e8b948137\" type=\"checkbox\" ><label for=\"3cd22d2d-2983-4282-bde4-042e8b948137\" class=\"sk-toggleable__label sk-toggleable__label-arrow\">scale</label><div class=\"sk-toggleable__content\"><pre>slice(0, 20, None)</pre></div></div></div><div class=\"sk-serial\"><div class=\"sk-item\"><div class=\"sk-estimator sk-toggleable\"><input class=\"sk-toggleable__control sk-hidden--visually\" id=\"1afe5a6c-1d44-4848-81a2-c43146fb43cb\" type=\"checkbox\" ><label for=\"1afe5a6c-1d44-4848-81a2-c43146fb43cb\" class=\"sk-toggleable__label sk-toggleable__label-arrow\">RobustScaler</label><div class=\"sk-toggleable__content\"><pre>RobustScaler()</pre></div></div></div></div></div></div></div></div><div class=\"sk-item\"><div class=\"sk-estimator sk-toggleable\"><input class=\"sk-toggleable__control sk-hidden--visually\" id=\"28a62d22-a8e6-4df0-b269-85234dacc6f1\" type=\"checkbox\" ><label for=\"28a62d22-a8e6-4df0-b269-85234dacc6f1\" class=\"sk-toggleable__label sk-toggleable__label-arrow\">SelectKBest</label><div class=\"sk-toggleable__content\"><pre>SelectKBest(k=8, score_func=&lt;function chi2 at 0x7f3d2dac2830&gt;)</pre></div></div></div><div class=\"sk-item\"><div class=\"sk-estimator sk-toggleable\"><input class=\"sk-toggleable__control sk-hidden--visually\" id=\"fa9fc8ba-32aa-4cb7-b0fa-0e9865fbecc2\" type=\"checkbox\" ><label for=\"fa9fc8ba-32aa-4cb7-b0fa-0e9865fbecc2\" class=\"sk-toggleable__label sk-toggleable__label-arrow\">BaggingClassifier</label><div class=\"sk-toggleable__content\"><pre>BaggingClassifier()</pre></div></div></div></div></div></div></div></div></div></div></div></div>"
      ],
      "text/plain": [
       "GridSearchCV(cv=StratifiedShuffleSplit(n_splits=10, random_state=15, test_size=0.3,\n",
       "            train_size=None),\n",
       "             estimator=Pipeline(steps=[('trf1',\n",
       "                                        ColumnTransformer(remainder='passthrough',\n",
       "                                                          transformers=[('mean_imputer',\n",
       "                                                                         Pipeline(steps=[('imputer',\n",
       "                                                                                          SimpleImputer())]),\n",
       "                                                                         ['LoanAmount']),\n",
       "                                                                        ('most_frequent_imputer',\n",
       "                                                                         Pipeline(steps=[('imputer',\n",
       "                                                                                          SimpleImputer(strategy='most_fre...\n",
       "                                                          transformers=[('ohe',\n",
       "                                                                         OneHotEncoder(handle_unknown='ignore',\n",
       "                                                                                       sparse=False),\n",
       "                                                                         [0, 1,\n",
       "                                                                          3, 4,\n",
       "                                                                          10])])),\n",
       "                                       ('trf3',\n",
       "                                        ColumnTransformer(transformers=[('scale',\n",
       "                                                                         RobustScaler(),\n",
       "                                                                         slice(0, 20, None))])),\n",
       "                                       ('trf4',\n",
       "                                        SelectKBest(k=8,\n",
       "                                                    score_func=<function chi2 at 0x7f3d2dac2830>)),\n",
       "                                       ('trf5', BaggingClassifier())]),\n",
       "             n_jobs=-1,\n",
       "             param_grid={'trf5__n_estimators': [10, 30, 50, 70, 80, 150, 160,\n",
       "                                                170, 175, 180, 185]})"
      ]
     },
     "execution_count": 55,
     "metadata": {},
     "output_type": "execute_result"
    }
   ],
   "source": [
    "from sklearn.ensemble import BaggingClassifier\n",
    "n_estimators = [10,30,50,70,80,150,160, 170,175,180,185];\n",
    "cv = StratifiedShuffleSplit(n_splits=10, test_size=.30, random_state=15)\n",
    "\n",
    "parameters = {'trf5__n_estimators':n_estimators,\n",
    "              \n",
    "        }\n",
    "grid_bag = GridSearchCV(pipe_bag,\n",
    "                                 param_grid=parameters,\n",
    "                                 cv=cv,\n",
    "                                 n_jobs = -1)\n",
    "grid_bag.fit(X_train,y_train) "
   ]
  },
  {
   "cell_type": "code",
   "execution_count": 56,
   "id": "8e5cbab8",
   "metadata": {
    "execution": {
     "iopub.execute_input": "2022-09-30T05:50:29.564923Z",
     "iopub.status.busy": "2022-09-30T05:50:29.564058Z",
     "iopub.status.idle": "2022-09-30T05:50:29.570520Z",
     "shell.execute_reply": "2022-09-30T05:50:29.569139Z"
    },
    "papermill": {
     "duration": 0.035572,
     "end_time": "2022-09-30T05:50:29.573249",
     "exception": false,
     "start_time": "2022-09-30T05:50:29.537677",
     "status": "completed"
    },
    "tags": []
   },
   "outputs": [
    {
     "name": "stdout",
     "output_type": "stream",
     "text": [
      "Grid Best Score:  69.0 %\n"
     ]
    }
   ],
   "source": [
    "print(\"Grid Best Score: \", grid_bag.best_score_.round(2)*100,\"%\")"
   ]
  },
  {
   "cell_type": "code",
   "execution_count": 57,
   "id": "aa2fd0d1",
   "metadata": {
    "execution": {
     "iopub.execute_input": "2022-09-30T05:50:29.628384Z",
     "iopub.status.busy": "2022-09-30T05:50:29.627457Z",
     "iopub.status.idle": "2022-09-30T05:50:29.633803Z",
     "shell.execute_reply": "2022-09-30T05:50:29.632187Z"
    },
    "papermill": {
     "duration": 0.035744,
     "end_time": "2022-09-30T05:50:29.635838",
     "exception": false,
     "start_time": "2022-09-30T05:50:29.600094",
     "status": "completed"
    },
    "tags": []
   },
   "outputs": [
    {
     "name": "stdout",
     "output_type": "stream",
     "text": [
      "Grid Best Parameter:  {'trf5__n_estimators': 10}\n"
     ]
    }
   ],
   "source": [
    "print(\"Grid Best Parameter: \", grid_bag.best_params_)"
   ]
  },
  {
   "cell_type": "code",
   "execution_count": 58,
   "id": "8fd84feb",
   "metadata": {
    "execution": {
     "iopub.execute_input": "2022-09-30T05:50:29.690141Z",
     "iopub.status.busy": "2022-09-30T05:50:29.689265Z",
     "iopub.status.idle": "2022-09-30T05:50:29.726198Z",
     "shell.execute_reply": "2022-09-30T05:50:29.724845Z"
    },
    "papermill": {
     "duration": 0.066515,
     "end_time": "2022-09-30T05:50:29.728523",
     "exception": false,
     "start_time": "2022-09-30T05:50:29.662008",
     "status": "completed"
    },
    "tags": []
   },
   "outputs": [
    {
     "name": "stdout",
     "output_type": "stream",
     "text": [
      "Training Accuracy with GridSearch : 70.47 %\n",
      "Model Accuracy with GridSearch    : 70.0 %\n"
     ]
    }
   ],
   "source": [
    "### Using the best parameters from the grid-search.\n",
    "bag_grid = grid_bag.best_estimator_\n",
    "\n",
    "bag_train_grid = round(bag_grid.score(X_train, y_train) * 100, 2)\n",
    "bag_accuracy_grid =bag_grid.score(X_train,y_train).round(2)*100\n",
    "\n",
    "print(\"Training Accuracy with GridSearch :\",bag_train_grid  ,\"%\")\n",
    "print(\"Model Accuracy with GridSearch    :\",bag_accuracy_grid ,\"%\")"
   ]
  },
  {
   "cell_type": "markdown",
   "id": "50953b83",
   "metadata": {
    "papermill": {
     "duration": 0.026268,
     "end_time": "2022-09-30T05:50:29.781477",
     "exception": false,
     "start_time": "2022-09-30T05:50:29.755209",
     "status": "completed"
    },
    "tags": []
   },
   "source": [
    "<span style=\"background-color:red;\n",
    "             color:white;\n",
    "             font-size:17px;\n",
    "             text-align:center;\n",
    "             border-radius:30px 80px;\n",
    "             font-weight:bold;\n",
    "             border:2px solid red;\n",
    "             padding:0px 20px;\">Reference\n",
    "</span>\n",
    "\n",
    "\n",
    "https://towardsdatascience.com/step-by-step-tutorial-of-sci-kit-learn-pipeline-62402d5629b6\n",
    "\n",
    "\n",
    "https://scikit-learn.org/stable/modules/generated/sklearn.pipeline.Pipeline.html"
   ]
  },
  {
   "cell_type": "code",
   "execution_count": null,
   "id": "4e2eea6e",
   "metadata": {
    "papermill": {
     "duration": 0.025962,
     "end_time": "2022-09-30T05:50:29.833191",
     "exception": false,
     "start_time": "2022-09-30T05:50:29.807229",
     "status": "completed"
    },
    "tags": []
   },
   "outputs": [],
   "source": []
  }
 ],
 "metadata": {
  "kernelspec": {
   "display_name": "Python 3",
   "language": "python",
   "name": "python3"
  },
  "language_info": {
   "codemirror_mode": {
    "name": "ipython",
    "version": 3
   },
   "file_extension": ".py",
   "mimetype": "text/x-python",
   "name": "python",
   "nbconvert_exporter": "python",
   "pygments_lexer": "ipython3",
   "version": "3.7.12"
  },
  "papermill": {
   "default_parameters": {},
   "duration": 156.001082,
   "end_time": "2022-09-30T05:50:32.489186",
   "environment_variables": {},
   "exception": null,
   "input_path": "__notebook__.ipynb",
   "output_path": "__notebook__.ipynb",
   "parameters": {},
   "start_time": "2022-09-30T05:47:56.488104",
   "version": "2.3.4"
  }
 },
 "nbformat": 4,
 "nbformat_minor": 5
}
